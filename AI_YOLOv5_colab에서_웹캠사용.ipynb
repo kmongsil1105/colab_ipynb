{
  "nbformat": 4,
  "nbformat_minor": 0,
  "metadata": {
    "colab": {
      "name": "AI_YOLOv5_colab에서 웹캠사용.ipynb",
      "provenance": [],
      "collapsed_sections": [],
      "authorship_tag": "ABX9TyPqeo0bZVxmaQ2uHqnmttrz",
      "include_colab_link": true
    },
    "kernelspec": {
      "name": "python3",
      "display_name": "Python 3"
    },
    "language_info": {
      "name": "python"
    },
    "accelerator": "GPU"
  },
  "cells": [
    {
      "cell_type": "markdown",
      "metadata": {
        "id": "view-in-github",
        "colab_type": "text"
      },
      "source": [
        "<a href=\"https://colab.research.google.com/github/kmongsil1105/colab_ipynb/blob/main/AI_YOLOv5_colab%EC%97%90%EC%84%9C_%EC%9B%B9%EC%BA%A0%EC%82%AC%EC%9A%A9.ipynb\" target=\"_parent\"><img src=\"https://colab.research.google.com/assets/colab-badge.svg\" alt=\"Open In Colab\"/></a>"
      ]
    },
    {
      "cell_type": "markdown",
      "metadata": {
        "id": "avEHSG3qwxJM"
      },
      "source": [
        "# colab에서 웹캠 실행하기"
      ]
    },
    {
      "cell_type": "markdown",
      "metadata": {
        "id": "tbaaHCWex5LL"
      },
      "source": [
        "https://colab.research.google.com/notebooks/snippets/advanced_outputs.ipynb#scrollTo=2viqYx97hPMi"
      ]
    },
    {
      "cell_type": "markdown",
      "metadata": {
        "id": "EgNGNIeAw5wo"
      },
      "source": [
        " * Google Colab에서 cap = cv2.VideoCapture (0) 사용 방법\n",
        "colab에서는 opencv에서 웹캠을 사용하는 cv2.VideoCapture(0) 코드가 동작하지 않는다.\n",
        "\n",
        "이 코드는 기기에 연결된 장치를 불러오는데, colab은 서버에 연결되어 있기 때문이다."
      ]
    },
    {
      "cell_type": "code",
      "metadata": {
        "id": "AIlorpEmedAc"
      },
      "source": [
        "from IPython.display import display, Javascript\n",
        "from google.colab.output import eval_js\n",
        "from base64 import b64decode\n",
        "\n",
        "# python take_photo함수\n",
        "def take_photo(filename='photo.jpg', quality=0.8):\n",
        "  # Javascript 작성시작\n",
        "  js = Javascript('''\n",
        "    async function takePhoto(quality) {\n",
        "      // div(공간) 생성\n",
        "      const div = document.createElement('div');\n",
        "      // button 생성\n",
        "      const capture = document.createElement('button');\n",
        "      capture.textContent = 'Capture';\n",
        "      div.appendChild(capture);\n",
        "      // video 생성\n",
        "      const video = document.createElement('video');\n",
        "      // videl모양 = 네모\n",
        "      video.style.display = 'block';\n",
        "      // 카메라(웹캠) 불러오기\n",
        "      const stream = await navigator.mediaDevices.getUserMedia({video: true});\n",
        "\n",
        "      // div아래에 Child 공간 추가\n",
        "      document.body.appendChild(div);\n",
        "      // 공간에 video 넣기\n",
        "      div.appendChild(video);\n",
        "      // videl와 웹캠 연결\n",
        "      video.srcObject = stream;\n",
        "      // await ==> 비동기식 처리(thread와 관련 : async와 세트)\n",
        "      await video.play();\n",
        "\n",
        "      // Resize the output to fit the video element.\n",
        "      google.colab.output.setIframeHeight(document.documentElement.scrollHeight, true);\n",
        "\n",
        "      // Wait for Capture to be clicked.\n",
        "      await new Promise((resolve) => capture.onclick = resolve);\n",
        "\n",
        "      // canvas 생성\n",
        "      const canvas = document.createElement('canvas');\n",
        "      // 크기 맞추기\n",
        "      canvas.width = video.videoWidth;\n",
        "      canvas.height = video.videoHeight;\n",
        "      // 이미지 그리기\n",
        "      canvas.getContext('2d').drawImage(video, 0, 0);\n",
        "      // 비디오 끄기\n",
        "      stream.getVideoTracks()[0].stop();\n",
        "      // div 삭제\n",
        "      div.remove();\n",
        "      // 파일의 주소 반환\n",
        "      return canvas.toDataURL('image/jpeg', quality);\n",
        "    }\n",
        "    ''')\n",
        "  display(js)\n",
        "  # Javascript 코드의 실행결과 반환값을 파이썬으로 이동\n",
        "  data = eval_js('takePhoto({})'.format(quality))\n",
        "  # 웹브라우저에서 data를 저장할 때 base64로 저장\n",
        "  binary = b64decode(data.split(',')[1])\n",
        "  with open(filename, 'wb') as f:\n",
        "    f.write(binary)\n",
        "  return filename\n",
        "\n",
        "  \n"
      ],
      "execution_count": null,
      "outputs": []
    },
    {
      "cell_type": "code",
      "metadata": {
        "colab": {
          "base_uri": "https://localhost:8080/",
          "height": 513
        },
        "id": "NtnmXFDXwTV6",
        "outputId": "5629a976-52b6-417a-fcb6-269fd96c250b"
      },
      "source": [
        "\n",
        "from IPython.display import Image\n",
        "try:\n",
        "  filename = take_photo()\n",
        "  print('Saved to {}'.format(filename))\n",
        "  \n",
        "  # Show the image which was just taken.\n",
        "  display(Image(filename))\n",
        "except Exception as err:\n",
        "  # Errors will be thrown if the user does not have a webcam or if they do not\n",
        "  # grant the page permission to access it.\n",
        "  print(str(err))"
      ],
      "execution_count": null,
      "outputs": [
        {
          "output_type": "display_data",
          "data": {
            "application/javascript": [
              "\n",
              "    async function takePhoto(quality) {\n",
              "      // div(공간) 생성\n",
              "      const div = document.createElement('div');\n",
              "      // button 생성\n",
              "      const capture = document.createElement('button');\n",
              "      capture.textContent = 'Capture';\n",
              "      div.appendChild(capture);\n",
              "      // video 생성\n",
              "      const video = document.createElement('video');\n",
              "      // videl모양 = 네모\n",
              "      video.style.display = 'block';\n",
              "      // 카메라(웹캠) 불러오기\n",
              "      const stream = await navigator.mediaDevices.getUserMedia({video: true});\n",
              "\n",
              "      // div아래에 Child 공간 추가\n",
              "      document.body.appendChild(div);\n",
              "      // 공간에 video 넣기\n",
              "      div.appendChild(video);\n",
              "      // videl와 웹캠 연결\n",
              "      video.srcObject = stream;\n",
              "      // await ==> 비동기식 처리(thread와 관련 : async와 세트)\n",
              "      await video.play();\n",
              "\n",
              "      // Resize the output to fit the video element.\n",
              "      google.colab.output.setIframeHeight(document.documentElement.scrollHeight, true);\n",
              "\n",
              "      // Wait for Capture to be clicked.\n",
              "      await new Promise((resolve) => capture.onclick = resolve);\n",
              "\n",
              "      // canvas 생성\n",
              "      const canvas = document.createElement('canvas');\n",
              "      // 크기 맞추기\n",
              "      canvas.width = video.videoWidth;\n",
              "      canvas.height = video.videoHeight;\n",
              "      // 이미지 그리기\n",
              "      canvas.getContext('2d').drawImage(video, 0, 0);\n",
              "      // 비디오 끄기\n",
              "      stream.getVideoTracks()[0].stop();\n",
              "      // div 삭제\n",
              "      div.remove();\n",
              "      // 파일의 주소 반환\n",
              "      return canvas.toDataURL('image/jpeg', quality);\n",
              "    }\n",
              "    "
            ],
            "text/plain": [
              "<IPython.core.display.Javascript object>"
            ]
          },
          "metadata": {}
        },
        {
          "output_type": "stream",
          "name": "stdout",
          "text": [
            "Saved to photo.jpg\n"
          ]
        },
        {
          "output_type": "display_data",
          "data": {
            "image/jpeg": "[encoded data removed]",
            "text/plain": [
              "<IPython.core.display.Image object>"
            ]
          },
          "metadata": {}
        }
      ]
    },
    {
      "cell_type": "markdown",
      "metadata": {
        "id": "05dkjLZO92P-"
      },
      "source": [
        "-------------------------------------------------------------------------------"
      ]
    },
    {
      "cell_type": "code",
      "metadata": {
        "colab": {
          "base_uri": "https://localhost:8080/"
        },
        "id": "KaBtJlZf91rF",
        "outputId": "474693f3-273b-4fd8-b777-5dabd0d171af"
      },
      "source": [
        "!git clone https://github.com/ultralytics/yolov5  # yolov5 폴더 생성\n",
        "%cd yolov5\n",
        "%pip install -r requirements.txt  # install dependencies\n",
        "\n",
        "import torch\n",
        "from IPython.display import Image, clear_output  # to display images\n",
        "\n",
        "clear_output()\n",
        "print(f\"Setup complete. Using torch {torch.__version__} ({torch.cuda.get_device_properties(0).name if torch.cuda.is_available() else 'CPU'})\")"
      ],
      "execution_count": null,
      "outputs": [
        {
          "output_type": "stream",
          "name": "stdout",
          "text": [
            "Setup complete. Using torch 1.9.0+cu102 (Tesla K80)\n"
          ]
        }
      ]
    },
    {
      "cell_type": "code",
      "metadata": {
        "id": "tU_rEZLZ96C0"
      },
      "source": [
        "# train_data.zip 파일을 /content에 업로드 후에 작업\n",
        "!unzip -q ../train_data.zip -d ../\n",
        "\n",
        "# /content/train_data폴더가 생기고 미리 만들어 둔 images, labels도 포함되어 있음\n",
        "# 폴더생성 확인후에는 train_data.zip 파일 제거 가능!!"
      ],
      "execution_count": null,
      "outputs": []
    },
    {
      "cell_type": "code",
      "metadata": {
        "id": "mBFLk1wP-DbE",
        "colab": {
          "base_uri": "https://localhost:8080/"
        },
        "outputId": "663be811-a8bd-4c8f-a26f-80ce1a9196e2"
      },
      "source": [
        "# 편집해서 저장해 놓은 webcam_data.yaml 파일을 yolov5 아래에 업로드 후에 명령내림!!\n",
        "\n",
        "%cat /content/yolov5/webcam_data.yaml"
      ],
      "execution_count": null,
      "outputs": [
        {
          "output_type": "stream",
          "name": "stdout",
          "text": [
            "train: ../train_data/images/train   # train images \r\n",
            "val: ../train_data/images/val        # val images \r\n",
            "\r\n",
            "# Classes\r\n",
            "nc: 1  # number of classes\r\n",
            "names: [ 'face' ]  # class names"
          ]
        }
      ]
    },
    {
      "cell_type": "code",
      "metadata": {
        "id": "QuVqxBoD-J_X",
        "colab": {
          "base_uri": "https://localhost:8080/"
        },
        "outputId": "3076b8de-b18e-4717-f73d-bee7ea37ef94"
      },
      "source": [
        "\n",
        "%cd /content/yolov5\n",
        "\n",
        "# ! python train.py --img 416 --batch 16 --epochs 50 --data /content/data.yaml --cfg ./models/yolov5s.yaml --weights yolov5s.pt --name raccon_yolov5s_result\n",
        "! python train.py --img 640 --batch 10 --epochs 50 --data ./webcam_data.yaml --cfg ./models/yolov5s.yaml --weights yolov5s.pt --cache --name webcam_yolov5s_result"
      ],
      "execution_count": null,
      "outputs": [
        {
          "output_type": "stream",
          "name": "stdout",
          "text": [
            "/content/yolov5\n",
            "Downloading https://ultralytics.com/assets/Arial.ttf to /root/.config/Ultralytics/Arial.ttf...\n",
            "\u001b[34m\u001b[1mtrain: \u001b[0mweights=yolov5s.pt, cfg=./models/yolov5s.yaml, data=./webcam_data.yaml, hyp=data/hyps/hyp.scratch.yaml, epochs=50, batch_size=10, imgsz=640, rect=False, resume=False, nosave=False, noval=False, noautoanchor=False, evolve=None, bucket=, cache=ram, image_weights=False, device=, multi_scale=False, single_cls=False, adam=False, sync_bn=False, workers=8, project=runs/train, entity=None, name=webcam_yolov5s_result, exist_ok=False, quad=False, linear_lr=False, label_smoothing=0.0, upload_dataset=False, bbox_interval=-1, save_period=-1, artifact_alias=latest, local_rank=-1, freeze=0, patience=100\n",
            "\u001b[34m\u001b[1mgithub: \u001b[0mup to date with https://github.com/ultralytics/yolov5 ✅\n",
            "YOLOv5 🚀 v5.0-454-g9febea7 torch 1.9.0+cu102 CUDA:0 (Tesla K80, 11441.1875MB)\n",
            "\n",
            "\u001b[34m\u001b[1mhyperparameters: \u001b[0mlr0=0.01, lrf=0.2, momentum=0.937, weight_decay=0.0005, warmup_epochs=3.0, warmup_momentum=0.8, warmup_bias_lr=0.1, box=0.05, cls=0.5, cls_pw=1.0, obj=1.0, obj_pw=1.0, iou_t=0.2, anchor_t=4.0, fl_gamma=0.0, hsv_h=0.015, hsv_s=0.7, hsv_v=0.4, degrees=0.0, translate=0.1, scale=0.5, shear=0.0, perspective=0.0, flipud=0.0, fliplr=0.5, mosaic=1.0, mixup=0.0, copy_paste=0.0\n",
            "\u001b[34m\u001b[1mWeights & Biases: \u001b[0mrun 'pip install wandb' to automatically track and visualize YOLOv5 🚀 runs (RECOMMENDED)\n",
            "\u001b[34m\u001b[1mTensorBoard: \u001b[0mStart with 'tensorboard --logdir runs/train', view at http://localhost:6006/\n",
            "Downloading https://github.com/ultralytics/yolov5/releases/download/v5.0/yolov5s.pt to yolov5s.pt...\n",
            "100% 14.1M/14.1M [00:00<00:00, 93.3MB/s]\n",
            "\n",
            "Overriding model.yaml nc=80 with nc=1\n",
            "\n",
            "                 from  n    params  module                                  arguments                     \n",
            "  0                -1  1      3520  models.common.Focus                     [3, 32, 3]                    \n",
            "  1                -1  1     18560  models.common.Conv                      [32, 64, 3, 2]                \n",
            "  2                -1  1     18816  models.common.C3                        [64, 64, 1]                   \n",
            "  3                -1  1     73984  models.common.Conv                      [64, 128, 3, 2]               \n",
            "  4                -1  3    156928  models.common.C3                        [128, 128, 3]                 \n",
            "  5                -1  1    295424  models.common.Conv                      [128, 256, 3, 2]              \n",
            "  6                -1  3    625152  models.common.C3                        [256, 256, 3]                 \n",
            "  7                -1  1   1180672  models.common.Conv                      [256, 512, 3, 2]              \n",
            "  8                -1  1    656896  models.common.SPP                       [512, 512, [5, 9, 13]]        \n",
            "  9                -1  1   1182720  models.common.C3                        [512, 512, 1, False]          \n",
            " 10                -1  1    131584  models.common.Conv                      [512, 256, 1, 1]              \n",
            " 11                -1  1         0  torch.nn.modules.upsampling.Upsample    [None, 2, 'nearest']          \n",
            " 12           [-1, 6]  1         0  models.common.Concat                    [1]                           \n",
            " 13                -1  1    361984  models.common.C3                        [512, 256, 1, False]          \n",
            " 14                -1  1     33024  models.common.Conv                      [256, 128, 1, 1]              \n",
            " 15                -1  1         0  torch.nn.modules.upsampling.Upsample    [None, 2, 'nearest']          \n",
            " 16           [-1, 4]  1         0  models.common.Concat                    [1]                           \n",
            " 17                -1  1     90880  models.common.C3                        [256, 128, 1, False]          \n",
            " 18                -1  1    147712  models.common.Conv                      [128, 128, 3, 2]              \n",
            " 19          [-1, 14]  1         0  models.common.Concat                    [1]                           \n",
            " 20                -1  1    296448  models.common.C3                        [256, 256, 1, False]          \n",
            " 21                -1  1    590336  models.common.Conv                      [256, 256, 3, 2]              \n",
            " 22          [-1, 10]  1         0  models.common.Concat                    [1]                           \n",
            " 23                -1  1   1182720  models.common.C3                        [512, 512, 1, False]          \n",
            " 24      [17, 20, 23]  1     16182  models.yolo.Detect                      [1, [[10, 13, 16, 30, 33, 23], [30, 61, 62, 45, 59, 119], [116, 90, 156, 198, 373, 326]], [128, 256, 512]]\n",
            "Model Summary: 283 layers, 7063542 parameters, 7063542 gradients, 16.4 GFLOPs\n",
            "\n",
            "Transferred 354/362 items from yolov5s.pt\n",
            "Scaled weight_decay = 0.00046875\n",
            "\u001b[34m\u001b[1moptimizer:\u001b[0m SGD with parameter groups 59 weight, 62 weight (no decay), 62 bias\n",
            "\u001b[34m\u001b[1malbumentations: \u001b[0mversion 1.0.3 required by YOLOv5, but version 0.1.12 is currently installed\n",
            "\u001b[34m\u001b[1mtrain: \u001b[0mScanning '../train_data/labels/train' images and labels...26 found, 0 missing, 0 empty, 0 corrupted: 100% 26/26 [00:00<00:00, 640.31it/s]\n",
            "\u001b[34m\u001b[1mtrain: \u001b[0mNew cache created: ../train_data/labels/train.cache\n",
            "\u001b[34m\u001b[1mtrain: \u001b[0mCaching images (0.0GB ram): 100% 26/26 [00:00<00:00, 370.60it/s]\n",
            "\u001b[34m\u001b[1mval: \u001b[0mScanning '../train_data/labels/val' images and labels...10 found, 0 missing, 0 empty, 0 corrupted: 100% 10/10 [00:00<00:00, 238.84it/s]\n",
            "\u001b[34m\u001b[1mval: \u001b[0mNew cache created: ../train_data/labels/val.cache\n",
            "\u001b[34m\u001b[1mval: \u001b[0mCaching images (0.0GB ram): 100% 10/10 [00:00<00:00, 278.56it/s]\n",
            "[W pthreadpool-cpp.cc:90] Warning: Leaking Caffe2 thread-pool after fork. (function pthreadpool)\n",
            "[W pthreadpool-cpp.cc:90] Warning: Leaking Caffe2 thread-pool after fork. (function pthreadpool)\n",
            "Plotting labels... \n",
            "\n",
            "\u001b[34m\u001b[1mautoanchor: \u001b[0mAnalyzing anchors... anchors/target = 2.64, Best Possible Recall (BPR) = 1.0000\n",
            "Image sizes 640 train, 640 val\n",
            "Using 2 dataloader workers\n",
            "Logging results to \u001b[1mruns/train/webcam_yolov5s_result\u001b[0m\n",
            "Starting training for 50 epochs...\n",
            "\n",
            "     Epoch   gpu_mem       box       obj       cls    labels  img_size\n",
            "      0/49     2.11G   0.07269    0.0296         0        20       640: 100% 3/3 [00:04<00:00,  1.56s/it]\n",
            "               Class     Images     Labels          P          R     mAP@.5 mAP@.5:.95: 100% 1/1 [00:00<00:00,  2.78it/s]\n",
            "                 all         10         10    0.00101        0.3   0.000662   0.000152\n",
            "\n",
            "     Epoch   gpu_mem       box       obj       cls    labels  img_size\n",
            "      1/49     2.26G   0.08914   0.02953         0        15       640: 100% 3/3 [00:01<00:00,  1.60it/s]\n",
            "               Class     Images     Labels          P          R     mAP@.5 mAP@.5:.95: 100% 1/1 [00:00<00:00,  2.98it/s]\n",
            "                 all         10         10    0.00102        0.3    0.00066   0.000152\n",
            "\n",
            "     Epoch   gpu_mem       box       obj       cls    labels  img_size\n",
            "      2/49     2.26G   0.07238   0.02547         0        13       640: 100% 3/3 [00:01<00:00,  1.61it/s]\n",
            "               Class     Images     Labels          P          R     mAP@.5 mAP@.5:.95: 100% 1/1 [00:00<00:00,  2.95it/s]\n",
            "                 all         10         10    0.00115        0.2   0.000688   0.000138\n",
            "\n",
            "     Epoch   gpu_mem       box       obj       cls    labels  img_size\n",
            "      3/49     2.26G   0.07103   0.02803         0        17       640: 100% 3/3 [00:01<00:00,  1.59it/s]\n",
            "               Class     Images     Labels          P          R     mAP@.5 mAP@.5:.95: 100% 1/1 [00:00<00:00,  2.94it/s]\n",
            "                 all         10         10    0.00165        0.3    0.00109    0.00016\n",
            "\n",
            "     Epoch   gpu_mem       box       obj       cls    labels  img_size\n",
            "      4/49     2.26G   0.08531   0.02865         0        18       640: 100% 3/3 [00:01<00:00,  1.58it/s]\n",
            "               Class     Images     Labels          P          R     mAP@.5 mAP@.5:.95: 100% 1/1 [00:00<00:00,  2.97it/s]\n",
            "                 all         10         10    0.00166        0.1   0.000801   9.85e-05\n",
            "\n",
            "     Epoch   gpu_mem       box       obj       cls    labels  img_size\n",
            "      5/49     2.26G   0.06911   0.02628         0        17       640: 100% 3/3 [00:01<00:00,  1.59it/s]\n",
            "               Class     Images     Labels          P          R     mAP@.5 mAP@.5:.95: 100% 1/1 [00:00<00:00,  3.06it/s]\n",
            "                 all         10         10    0.00213        0.2    0.00115   0.000195\n",
            "\n",
            "     Epoch   gpu_mem       box       obj       cls    labels  img_size\n",
            "      6/49     2.26G   0.09849   0.02968         0        17       640: 100% 3/3 [00:01<00:00,  1.59it/s]\n",
            "               Class     Images     Labels          P          R     mAP@.5 mAP@.5:.95: 100% 1/1 [00:00<00:00,  3.05it/s]\n",
            "                 all         10         10    0.00403        0.3    0.00292   0.000458\n",
            "\n",
            "     Epoch   gpu_mem       box       obj       cls    labels  img_size\n",
            "      7/49     2.26G   0.07941   0.02873         0        18       640: 100% 3/3 [00:01<00:00,  1.59it/s]\n",
            "               Class     Images     Labels          P          R     mAP@.5 mAP@.5:.95: 100% 1/1 [00:00<00:00,  2.97it/s]\n",
            "                 all         10         10    0.00248        0.1    0.00188   0.000471\n",
            "\n",
            "     Epoch   gpu_mem       box       obj       cls    labels  img_size\n",
            "      8/49     2.26G   0.09645    0.0266         0        15       640: 100% 3/3 [00:01<00:00,  1.58it/s]\n",
            "               Class     Images     Labels          P          R     mAP@.5 mAP@.5:.95: 100% 1/1 [00:00<00:00,  3.08it/s]\n",
            "                 all         10         10    0.00419        0.2    0.00343   0.000688\n",
            "\n",
            "     Epoch   gpu_mem       box       obj       cls    labels  img_size\n",
            "      9/49     2.26G   0.06031   0.02736         0        14       640: 100% 3/3 [00:01<00:00,  1.61it/s]\n",
            "               Class     Images     Labels          P          R     mAP@.5 mAP@.5:.95: 100% 1/1 [00:00<00:00,  3.05it/s]\n",
            "                 all         10         10     0.0059        0.3    0.00426   0.000965\n",
            "\n",
            "     Epoch   gpu_mem       box       obj       cls    labels  img_size\n",
            "     10/49     2.26G   0.07394   0.02822         0        14       640: 100% 3/3 [00:01<00:00,  1.59it/s]\n",
            "               Class     Images     Labels          P          R     mAP@.5 mAP@.5:.95: 100% 1/1 [00:00<00:00,  3.12it/s]\n",
            "                 all         10         10    0.00643        0.3    0.00414    0.00115\n",
            "\n",
            "     Epoch   gpu_mem       box       obj       cls    labels  img_size\n",
            "     11/49     2.26G   0.07531   0.03149         0        18       640: 100% 3/3 [00:01<00:00,  1.58it/s]\n",
            "               Class     Images     Labels          P          R     mAP@.5 mAP@.5:.95: 100% 1/1 [00:00<00:00,  3.10it/s]\n",
            "                 all         10         10    0.00973        0.4    0.00688    0.00126\n",
            "\n",
            "     Epoch   gpu_mem       box       obj       cls    labels  img_size\n",
            "     12/49     2.26G    0.0779   0.03197         0        21       640: 100% 3/3 [00:01<00:00,  1.57it/s]\n",
            "               Class     Images     Labels          P          R     mAP@.5 mAP@.5:.95: 100% 1/1 [00:00<00:00,  3.07it/s]\n",
            "                 all         10         10      0.012        0.2    0.00712    0.00166\n",
            "\n",
            "     Epoch   gpu_mem       box       obj       cls    labels  img_size\n",
            "     13/49     2.26G   0.05421   0.03042         0        16       640: 100% 3/3 [00:01<00:00,  1.59it/s]\n",
            "               Class     Images     Labels          P          R     mAP@.5 mAP@.5:.95: 100% 1/1 [00:00<00:00,  3.11it/s]\n",
            "                 all         10         10     0.0342        0.2     0.0148     0.0027\n",
            "\n",
            "     Epoch   gpu_mem       box       obj       cls    labels  img_size\n",
            "     14/49     2.26G    0.0711   0.03061         0        14       640: 100% 3/3 [00:01<00:00,  1.58it/s]\n",
            "               Class     Images     Labels          P          R     mAP@.5 mAP@.5:.95: 100% 1/1 [00:00<00:00,  3.18it/s]\n",
            "                 all         10         10      0.049        0.2     0.0202    0.00409\n",
            "\n",
            "     Epoch   gpu_mem       box       obj       cls    labels  img_size\n",
            "     15/49     2.26G   0.05797   0.02581         0        14       640: 100% 3/3 [00:01<00:00,  1.57it/s]\n",
            "               Class     Images     Labels          P          R     mAP@.5 mAP@.5:.95: 100% 1/1 [00:00<00:00,  3.15it/s]\n",
            "                 all         10         10     0.0575        0.3     0.0293    0.00542\n",
            "\n",
            "     Epoch   gpu_mem       box       obj       cls    labels  img_size\n",
            "     16/49     2.26G   0.05348   0.03024         0        19       640: 100% 3/3 [00:01<00:00,  1.58it/s]\n",
            "               Class     Images     Labels          P          R     mAP@.5 mAP@.5:.95: 100% 1/1 [00:00<00:00,  3.24it/s]\n",
            "                 all         10         10     0.0668        0.3     0.0353    0.00777\n",
            "\n",
            "     Epoch   gpu_mem       box       obj       cls    labels  img_size\n",
            "     17/49     2.26G   0.05366   0.02676         0        11       640: 100% 3/3 [00:01<00:00,  1.58it/s]\n",
            "               Class     Images     Labels          P          R     mAP@.5 mAP@.5:.95: 100% 1/1 [00:00<00:00,  3.24it/s]\n",
            "                 all         10         10     0.0797        0.3     0.0409    0.00875\n",
            "\n",
            "     Epoch   gpu_mem       box       obj       cls    labels  img_size\n",
            "     18/49     2.26G   0.05402   0.02576         0        17       640: 100% 3/3 [00:01<00:00,  1.57it/s]\n",
            "               Class     Images     Labels          P          R     mAP@.5 mAP@.5:.95: 100% 1/1 [00:00<00:00,  3.24it/s]\n",
            "                 all         10         10      0.106        0.4     0.0629     0.0133\n",
            "\n",
            "     Epoch   gpu_mem       box       obj       cls    labels  img_size\n",
            "     19/49     2.26G   0.05474   0.02846         0        13       640: 100% 3/3 [00:01<00:00,  1.56it/s]\n",
            "               Class     Images     Labels          P          R     mAP@.5 mAP@.5:.95: 100% 1/1 [00:00<00:00,  3.18it/s]\n",
            "                 all         10         10     0.0959        0.4     0.0596     0.0139\n",
            "\n",
            "     Epoch   gpu_mem       box       obj       cls    labels  img_size\n",
            "     20/49     2.26G    0.0504   0.02875         0        18       640: 100% 3/3 [00:01<00:00,  1.58it/s]\n",
            "               Class     Images     Labels          P          R     mAP@.5 mAP@.5:.95: 100% 1/1 [00:00<00:00,  3.23it/s]\n",
            "                 all         10         10     0.0948        0.4     0.0632      0.014\n",
            "\n",
            "     Epoch   gpu_mem       box       obj       cls    labels  img_size\n",
            "     21/49     2.26G   0.05604    0.0283         0        16       640: 100% 3/3 [00:01<00:00,  1.58it/s]\n",
            "               Class     Images     Labels          P          R     mAP@.5 mAP@.5:.95: 100% 1/1 [00:00<00:00,  3.25it/s]\n",
            "                 all         10         10      0.102        0.5     0.0695     0.0165\n",
            "\n",
            "     Epoch   gpu_mem       box       obj       cls    labels  img_size\n",
            "     22/49     2.26G   0.05074   0.02836         0        19       640: 100% 3/3 [00:01<00:00,  1.57it/s]\n",
            "               Class     Images     Labels          P          R     mAP@.5 mAP@.5:.95: 100% 1/1 [00:00<00:00,  3.22it/s]\n",
            "                 all         10         10      0.122      0.499      0.079     0.0179\n",
            "\n",
            "     Epoch   gpu_mem       box       obj       cls    labels  img_size\n",
            "     23/49     2.26G   0.06452    0.0282         0        17       640: 100% 3/3 [00:01<00:00,  1.57it/s]\n",
            "               Class     Images     Labels          P          R     mAP@.5 mAP@.5:.95: 100% 1/1 [00:00<00:00,  3.21it/s]\n",
            "                 all         10         10      0.138        0.7      0.123     0.0311\n",
            "\n",
            "     Epoch   gpu_mem       box       obj       cls    labels  img_size\n",
            "     24/49     2.26G   0.04336   0.02951         0        14       640: 100% 3/3 [00:01<00:00,  1.57it/s]\n",
            "               Class     Images     Labels          P          R     mAP@.5 mAP@.5:.95: 100% 1/1 [00:00<00:00,  3.31it/s]\n",
            "                 all         10         10      0.187        0.6      0.177     0.0359\n",
            "\n",
            "     Epoch   gpu_mem       box       obj       cls    labels  img_size\n",
            "     25/49     2.26G   0.04768   0.02763         0        16       640: 100% 3/3 [00:01<00:00,  1.57it/s]\n",
            "               Class     Images     Labels          P          R     mAP@.5 mAP@.5:.95: 100% 1/1 [00:00<00:00,  3.22it/s]\n",
            "                 all         10         10      0.298      0.678      0.235     0.0482\n",
            "\n",
            "     Epoch   gpu_mem       box       obj       cls    labels  img_size\n",
            "     26/49     2.26G    0.0573   0.02773         0        16       640: 100% 3/3 [00:01<00:00,  1.57it/s]\n",
            "               Class     Images     Labels          P          R     mAP@.5 mAP@.5:.95: 100% 1/1 [00:00<00:00,  3.31it/s]\n",
            "                 all         10         10      0.322        0.6       0.26     0.0517\n",
            "\n",
            "     Epoch   gpu_mem       box       obj       cls    labels  img_size\n",
            "     27/49     2.26G   0.05785   0.02787         0        14       640: 100% 3/3 [00:01<00:00,  1.58it/s]\n",
            "               Class     Images     Labels          P          R     mAP@.5 mAP@.5:.95: 100% 1/1 [00:00<00:00,  3.28it/s]\n",
            "                 all         10         10      0.318        0.8      0.289      0.074\n",
            "\n",
            "     Epoch   gpu_mem       box       obj       cls    labels  img_size\n",
            "     28/49     2.26G   0.05268   0.03085         0        19       640: 100% 3/3 [00:01<00:00,  1.58it/s]\n",
            "               Class     Images     Labels          P          R     mAP@.5 mAP@.5:.95: 100% 1/1 [00:00<00:00,  3.34it/s]\n",
            "                 all         10         10       0.41      0.487      0.338     0.0615\n",
            "\n",
            "     Epoch   gpu_mem       box       obj       cls    labels  img_size\n",
            "     29/49     2.26G   0.04272   0.02477         0        12       640: 100% 3/3 [00:01<00:00,  1.58it/s]\n",
            "               Class     Images     Labels          P          R     mAP@.5 mAP@.5:.95: 100% 1/1 [00:00<00:00,  3.26it/s]\n",
            "                 all         10         10      0.372        0.7      0.369     0.0946\n",
            "\n",
            "     Epoch   gpu_mem       box       obj       cls    labels  img_size\n",
            "     30/49     2.26G   0.04304   0.02074         0        12       640: 100% 3/3 [00:01<00:00,  1.59it/s]\n",
            "               Class     Images     Labels          P          R     mAP@.5 mAP@.5:.95: 100% 1/1 [00:00<00:00,  3.40it/s]\n",
            "                 all         10         10      0.376      0.785      0.376     0.0909\n",
            "\n",
            "     Epoch   gpu_mem       box       obj       cls    labels  img_size\n",
            "     31/49     2.26G   0.04297   0.02659         0        21       640: 100% 3/3 [00:01<00:00,  1.62it/s]\n",
            "               Class     Images     Labels          P          R     mAP@.5 mAP@.5:.95: 100% 1/1 [00:00<00:00,  3.26it/s]\n",
            "                 all         10         10      0.467      0.789      0.435      0.109\n",
            "\n",
            "     Epoch   gpu_mem       box       obj       cls    labels  img_size\n",
            "     32/49     2.26G   0.06135   0.02717         0        14       640: 100% 3/3 [00:01<00:00,  1.58it/s]\n",
            "               Class     Images     Labels          P          R     mAP@.5 mAP@.5:.95: 100% 1/1 [00:00<00:00,  3.35it/s]\n",
            "                 all         10         10      0.407        0.9      0.448     0.0883\n",
            "\n",
            "     Epoch   gpu_mem       box       obj       cls    labels  img_size\n",
            "     33/49     2.26G   0.04163   0.03114         0        19       640: 100% 3/3 [00:01<00:00,  1.63it/s]\n",
            "               Class     Images     Labels          P          R     mAP@.5 mAP@.5:.95: 100% 1/1 [00:00<00:00,  3.33it/s]\n",
            "                 all         10         10      0.404      0.883      0.486      0.113\n",
            "\n",
            "     Epoch   gpu_mem       box       obj       cls    labels  img_size\n",
            "     34/49     2.26G    0.0404   0.03072         0        14       640: 100% 3/3 [00:01<00:00,  1.60it/s]\n",
            "               Class     Images     Labels          P          R     mAP@.5 mAP@.5:.95: 100% 1/1 [00:00<00:00,  3.41it/s]\n",
            "                 all         10         10      0.434        0.8      0.499      0.132\n",
            "\n",
            "     Epoch   gpu_mem       box       obj       cls    labels  img_size\n",
            "     35/49     2.26G   0.04186   0.03116         0        18       640: 100% 3/3 [00:01<00:00,  1.64it/s]\n",
            "               Class     Images     Labels          P          R     mAP@.5 mAP@.5:.95: 100% 1/1 [00:00<00:00,  3.26it/s]\n",
            "                 all         10         10      0.476          1      0.579      0.135\n",
            "\n",
            "     Epoch   gpu_mem       box       obj       cls    labels  img_size\n",
            "     36/49     2.26G   0.05416   0.02616         0        14       640: 100% 3/3 [00:01<00:00,  1.60it/s]\n",
            "               Class     Images     Labels          P          R     mAP@.5 mAP@.5:.95: 100% 1/1 [00:00<00:00,  3.44it/s]\n",
            "                 all         10         10      0.563        0.8      0.586      0.144\n",
            "\n",
            "     Epoch   gpu_mem       box       obj       cls    labels  img_size\n",
            "     37/49     2.26G    0.0488   0.02823         0        17       640: 100% 3/3 [00:01<00:00,  1.61it/s]\n",
            "               Class     Images     Labels          P          R     mAP@.5 mAP@.5:.95: 100% 1/1 [00:00<00:00,  3.32it/s]\n",
            "                 all         10         10       0.47          1      0.561      0.133\n",
            "\n",
            "     Epoch   gpu_mem       box       obj       cls    labels  img_size\n",
            "     38/49     2.26G   0.04178   0.02894         0        20       640: 100% 3/3 [00:01<00:00,  1.60it/s]\n",
            "               Class     Images     Labels          P          R     mAP@.5 mAP@.5:.95: 100% 1/1 [00:00<00:00,  3.45it/s]\n",
            "                 all         10         10      0.423      0.882      0.516      0.147\n",
            "\n",
            "     Epoch   gpu_mem       box       obj       cls    labels  img_size\n",
            "     39/49     2.26G   0.03746   0.02997         0        13       640: 100% 3/3 [00:01<00:00,  1.63it/s]\n",
            "               Class     Images     Labels          P          R     mAP@.5 mAP@.5:.95: 100% 1/1 [00:00<00:00,  3.49it/s]\n",
            "                 all         10         10      0.443      0.876      0.478      0.155\n",
            "\n",
            "     Epoch   gpu_mem       box       obj       cls    labels  img_size\n",
            "     40/49     2.26G   0.05157   0.03265         0        23       640: 100% 3/3 [00:01<00:00,  1.58it/s]\n",
            "               Class     Images     Labels          P          R     mAP@.5 mAP@.5:.95: 100% 1/1 [00:00<00:00,  3.53it/s]\n",
            "                 all         10         10      0.535       0.69      0.495      0.154\n",
            "\n",
            "     Epoch   gpu_mem       box       obj       cls    labels  img_size\n",
            "     41/49     2.26G   0.03811    0.0319         0        18       640: 100% 3/3 [00:01<00:00,  1.61it/s]\n",
            "               Class     Images     Labels          P          R     mAP@.5 mAP@.5:.95: 100% 1/1 [00:00<00:00,  3.43it/s]\n",
            "                 all         10         10      0.492      0.777      0.517      0.163\n",
            "\n",
            "     Epoch   gpu_mem       box       obj       cls    labels  img_size\n",
            "     42/49     2.26G   0.04873   0.02943         0        16       640: 100% 3/3 [00:01<00:00,  1.61it/s]\n",
            "               Class     Images     Labels          P          R     mAP@.5 mAP@.5:.95: 100% 1/1 [00:00<00:00,  3.50it/s]\n",
            "                 all         10         10      0.631      0.686      0.599      0.177\n",
            "\n",
            "     Epoch   gpu_mem       box       obj       cls    labels  img_size\n",
            "     43/49     2.26G   0.04608   0.03038         0        18       640: 100% 3/3 [00:01<00:00,  1.62it/s]\n",
            "               Class     Images     Labels          P          R     mAP@.5 mAP@.5:.95: 100% 1/1 [00:00<00:00,  3.44it/s]\n",
            "                 all         10         10      0.633      0.691      0.604      0.198\n",
            "\n",
            "     Epoch   gpu_mem       box       obj       cls    labels  img_size\n",
            "     44/49     2.26G   0.05562   0.02746         0        12       640: 100% 3/3 [00:01<00:00,  1.59it/s]\n",
            "               Class     Images     Labels          P          R     mAP@.5 mAP@.5:.95: 100% 1/1 [00:00<00:00,  3.46it/s]\n",
            "                 all         10         10      0.696        0.7      0.623        0.2\n",
            "\n",
            "     Epoch   gpu_mem       box       obj       cls    labels  img_size\n",
            "     45/49     2.26G   0.03938   0.02687         0        13       640: 100% 3/3 [00:01<00:00,  1.63it/s]\n",
            "               Class     Images     Labels          P          R     mAP@.5 mAP@.5:.95: 100% 1/1 [00:00<00:00,  3.48it/s]\n",
            "                 all         10         10      0.775        0.7      0.764      0.233\n",
            "\n",
            "     Epoch   gpu_mem       box       obj       cls    labels  img_size\n",
            "     46/49     2.26G   0.04872    0.0278         0        12       640: 100% 3/3 [00:01<00:00,  1.60it/s]\n",
            "               Class     Images     Labels          P          R     mAP@.5 mAP@.5:.95: 100% 1/1 [00:00<00:00,  3.45it/s]\n",
            "                 all         10         10      0.774        0.7      0.792      0.253\n",
            "\n",
            "     Epoch   gpu_mem       box       obj       cls    labels  img_size\n",
            "     47/49     2.26G   0.05318   0.02636         0        14       640: 100% 3/3 [00:01<00:00,  1.63it/s]\n",
            "               Class     Images     Labels          P          R     mAP@.5 mAP@.5:.95: 100% 1/1 [00:00<00:00,  3.50it/s]\n",
            "                 all         10         10      0.857      0.598       0.79      0.222\n",
            "\n",
            "     Epoch   gpu_mem       box       obj       cls    labels  img_size\n",
            "     48/49     2.26G   0.06286   0.02618         0        13       640: 100% 3/3 [00:01<00:00,  1.58it/s]\n",
            "               Class     Images     Labels          P          R     mAP@.5 mAP@.5:.95: 100% 1/1 [00:00<00:00,  3.62it/s]\n",
            "                 all         10         10      0.861        0.7       0.87      0.266\n",
            "\n",
            "     Epoch   gpu_mem       box       obj       cls    labels  img_size\n",
            "     49/49     2.26G   0.04377   0.02838         0        20       640: 100% 3/3 [00:01<00:00,  1.62it/s]\n",
            "               Class     Images     Labels          P          R     mAP@.5 mAP@.5:.95: 100% 1/1 [00:00<00:00,  2.19it/s]\n",
            "                 all         10         10      0.865        0.7      0.863      0.245\n",
            "\n",
            "50 epochs completed in 0.041 hours.\n",
            "Optimizer stripped from runs/train/webcam_yolov5s_result/weights/last.pt, 14.4MB\n",
            "Optimizer stripped from runs/train/webcam_yolov5s_result/weights/best.pt, 14.4MB\n",
            "Results saved to \u001b[1mruns/train/webcam_yolov5s_result\u001b[0m\n"
          ]
        }
      ]
    },
    {
      "cell_type": "code",
      "metadata": {
        "colab": {
          "base_uri": "https://localhost:8080/"
        },
        "id": "xQkqPF6xAhv7",
        "outputId": "e220395b-f2f3-46e1-faa8-f033eec9477e"
      },
      "source": [
        "%cd /content/yolov5\n",
        "\n",
        "! python detect.py --source ./webcam_photo.jpg --weights ./runs/train/webcam_yolov5s_result/weights/best.pt --img 640 --conf 0.5 "
      ],
      "execution_count": null,
      "outputs": [
        {
          "output_type": "stream",
          "name": "stdout",
          "text": [
            "/content/yolov5\n",
            "\u001b[34m\u001b[1mdetect: \u001b[0mweights=['./runs/train/webcam_yolov5s_result/weights/best.pt'], source=./webcam_photo.jpg, imgsz=[640, 640], conf_thres=0.5, iou_thres=0.45, max_det=1000, device=, view_img=False, save_txt=False, save_conf=False, save_crop=False, nosave=False, classes=None, agnostic_nms=False, augment=False, visualize=False, update=False, project=runs/detect, name=exp, exist_ok=False, line_thickness=3, hide_labels=False, hide_conf=False, half=False\n",
            "YOLOv5 🚀 v5.0-454-g9febea7 torch 1.9.0+cu102 CUDA:0 (Tesla K80, 11441.1875MB)\n",
            "\n",
            "Fusing layers... \n",
            "Model Summary: 224 layers, 7053910 parameters, 0 gradients, 16.3 GFLOPs\n",
            "image 1/1 /content/yolov5/webcam_photo.jpg: 480x640 Done. (0.028s)\n",
            "Speed: 0.5ms pre-process, 28.5ms inference, 0.4ms NMS per image at shape (1, 3, 640, 640)\n",
            "Results saved to \u001b[1mruns/detect/exp2\u001b[0m\n"
          ]
        }
      ]
    }
  ]
}