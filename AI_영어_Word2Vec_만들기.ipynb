{
  "nbformat": 4,
  "nbformat_minor": 0,
  "metadata": {
    "colab": {
      "name": "AI_영어 Word2Vec 만들기.ipynb",
      "provenance": [],
      "collapsed_sections": [],
      "authorship_tag": "ABX9TyMWlzbL4GURGXa0CifB/8pv",
      "include_colab_link": true
    },
    "kernelspec": {
      "name": "python3",
      "display_name": "Python 3"
    },
    "language_info": {
      "name": "python"
    },
    "accelerator": "GPU"
  },
  "cells": [
    {
      "cell_type": "markdown",
      "metadata": {
        "id": "view-in-github",
        "colab_type": "text"
      },
      "source": [
        "<a href=\"https://colab.research.google.com/github/kmongsil1105/colab_ipynb/blob/main/AI_%EC%98%81%EC%96%B4_Word2Vec_%EB%A7%8C%EB%93%A4%EA%B8%B0.ipynb\" target=\"_parent\"><img src=\"https://colab.research.google.com/assets/colab-badge.svg\" alt=\"Open In Colab\"/></a>"
      ]
    },
    {
      "cell_type": "code",
      "metadata": {
        "colab": {
          "base_uri": "https://localhost:8080/"
        },
        "id": "XFYAvEi1UpSA",
        "outputId": "8192104e-4b60-4a4f-d25a-d8755f12ef85"
      },
      "source": [
        "import nltk\n",
        "nltk.download('punkt')"
      ],
      "execution_count": null,
      "outputs": [
        {
          "output_type": "stream",
          "name": "stdout",
          "text": [
            "[nltk_data] Downloading package punkt to /root/nltk_data...\n",
            "[nltk_data]   Unzipping tokenizers/punkt.zip.\n"
          ]
        },
        {
          "output_type": "execute_result",
          "data": {
            "text/plain": [
              "True"
            ]
          },
          "metadata": {},
          "execution_count": 2
        }
      ]
    },
    {
      "cell_type": "code",
      "metadata": {
        "id": "RG6IZgQ7UzMG"
      },
      "source": [
        "import urllib.request\n",
        "import zipfile\n",
        "from lxml import etree\n",
        "import re\n",
        "from nltk.tokenize import word_tokenize, sent_tokenize"
      ],
      "execution_count": null,
      "outputs": []
    },
    {
      "cell_type": "code",
      "metadata": {
        "colab": {
          "base_uri": "https://localhost:8080/"
        },
        "id": "Omw0lCIiU3xF",
        "outputId": "558bc984-063e-4d2f-bc24-c4b7a5b28bbe"
      },
      "source": [
        "# 데이터 다운로드\n",
        "urllib.request.urlretrieve(\"https://raw.githubusercontent.com/GaoleMeng/RNN-and-FFNN-textClassification/master/ted_en-20160408.xml\", filename=\"ted_en-20160408.xml\")"
      ],
      "execution_count": null,
      "outputs": [
        {
          "output_type": "execute_result",
          "data": {
            "text/plain": [
              "('ted_en-20160408.xml', <http.client.HTTPMessage at 0x7fdac3662950>)"
            ]
          },
          "metadata": {},
          "execution_count": 5
        }
      ]
    },
    {
      "cell_type": "markdown",
      "metadata": {
        "id": "ZYMGrmyBVChM"
      },
      "source": [
        "훈련 데이터 전처리하기"
      ]
    },
    {
      "cell_type": "code",
      "metadata": {
        "id": "Wc-KEEfrVD_N"
      },
      "source": [
        "targetXML=open('ted_en-20160408.xml', 'r', encoding='UTF8')\n",
        "target_text = etree.parse(targetXML)\n",
        "\n",
        "# xml 파일로부터 <content>와 </content> 사이의 내용만 가져온다.\n",
        "parse_text = '\\n'.join(target_text.xpath('//content/text()'))\n",
        "\n",
        "# 정규 표현식의 sub 모듈을 통해 content 중간에 등장하는 (Audio), (Laughter) 등의 배경음 부분을 제거.\n",
        "# 해당 코드는 괄호로 구성된 내용을 제거.\n",
        "content_text = re.sub(r'\\([^)]*\\)', '', parse_text)\n",
        "#print(content_text)\n",
        "#########################################################\n",
        "# 입력 코퍼스에 대해서 NLTK를 이용하여 문장 토큰화를 수행.\n",
        "sent_text = sent_tokenize(content_text)\n",
        "#print(sent_text)\n",
        "########################################################\n",
        "# 각 문장에 대해서 구두점을 제거하고, 대문자를 소문자로 변환.\n",
        "normalized_text = []\n",
        "for string in sent_text:\n",
        "     tokens = re.sub(r\"[^a-z0-9]+\", \" \", string.lower())\n",
        "     normalized_text.append(tokens)\n",
        "\n",
        "# 각 문장에 대해서 NLTK를 이용하여 단어 토큰화를 수행.\n",
        "result = [word_tokenize(sentence) for sentence in normalized_text]"
      ],
      "execution_count": null,
      "outputs": []
    },
    {
      "cell_type": "code",
      "metadata": {
        "colab": {
          "base_uri": "https://localhost:8080/"
        },
        "id": "6EWDU5SXWfJ8",
        "outputId": "63d037a0-3d1d-4d42-ee50-2be81fdfb2c8"
      },
      "source": [
        "print('총 샘플의 개수 : {}'.format(len(result)))"
      ],
      "execution_count": null,
      "outputs": [
        {
          "output_type": "stream",
          "name": "stdout",
          "text": [
            "총 샘플의 개수 : 273424\n"
          ]
        }
      ]
    },
    {
      "cell_type": "code",
      "metadata": {
        "colab": {
          "base_uri": "https://localhost:8080/"
        },
        "id": "gkfjiH27Wovj",
        "outputId": "8fd0b2a4-1241-425d-cb4a-d9c8a2c5ea07"
      },
      "source": [
        "# 샘플 3개만 출력\n",
        "for line in result[:3]:\n",
        "    print(line)"
      ],
      "execution_count": null,
      "outputs": [
        {
          "output_type": "stream",
          "name": "stdout",
          "text": [
            "['here', 'are', 'two', 'reasons', 'companies', 'fail', 'they', 'only', 'do', 'more', 'of', 'the', 'same', 'or', 'they', 'only', 'do', 'what', 's', 'new']\n",
            "['to', 'me', 'the', 'real', 'real', 'solution', 'to', 'quality', 'growth', 'is', 'figuring', 'out', 'the', 'balance', 'between', 'two', 'activities', 'exploration', 'and', 'exploitation']\n",
            "['both', 'are', 'necessary', 'but', 'it', 'can', 'be', 'too', 'much', 'of', 'a', 'good', 'thing']\n"
          ]
        }
      ]
    },
    {
      "cell_type": "markdown",
      "metadata": {
        "id": "HT_ZluImWuBk"
      },
      "source": [
        "Word2Vec 모델에 텍스트 데이터를 훈련"
      ]
    },
    {
      "cell_type": "markdown",
      "metadata": {
        "id": "-WbpAjX4XspS"
      },
      "source": [
        "![image.png](data:image/png;base64,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)"
      ]
    },
    {
      "cell_type": "code",
      "metadata": {
        "id": "VPJ47SiyWzmc",
        "colab": {
          "base_uri": "https://localhost:8080/"
        },
        "outputId": "00625058-377d-4ae1-a781-6948fb1dae2f"
      },
      "source": [
        "from gensim.models import Word2Vec\n",
        "model = Word2Vec(sentences=result, size=100, window=5, min_count=5, workers=4, sg=0)\n",
        "# 만약 TypeError: __init__() got an unexpected keyword argument 'size' 라는 에러 발생 시에는\n",
        "# size 대신 vector_size로 바꿔서 적어주세요.\n",
        "print(model)  # ==> \"임베딩벡터(밀집벡터)\"로 변환된 자료"
      ],
      "execution_count": null,
      "outputs": [
        {
          "output_type": "stream",
          "name": "stdout",
          "text": [
            "Word2Vec(vocab=21613, size=100, alpha=0.025)\n"
          ]
        }
      ]
    },
    {
      "cell_type": "markdown",
      "metadata": {
        "id": "PeEhdjaIXTIz"
      },
      "source": [
        "Word2Vec의 하이퍼파라미터값은 다음과 같습니다. \n",
        " * size = 워드 벡터의 특징 값. 즉, 임베딩 된 벡터의 차원.\n",
        " * window = 컨텍스트 윈도우 크기\n",
        " * min_count = 단어 최소 빈도 수 제한 (빈도가 적은 단어들은 학습하지 않는다.)\n",
        " * workers = 학습을 위한 프로세스 수\n",
        " * sg = 0은 CBOW, 1은 Skip-gram."
      ]
    },
    {
      "cell_type": "markdown",
      "metadata": {
        "id": "mYL26oQ8X1Z_"
      },
      "source": [
        "Word2Vec에 대해서 학습을 진행"
      ]
    },
    {
      "cell_type": "markdown",
      "metadata": {
        "id": "50DL0z2LX6P1"
      },
      "source": [
        " * Word2Vec는 입력한 단어에 대해서 가장 유사한 단어들을 출력하는 model.wv.most_similar을 지원합니다. \n",
        " \n",
        " man과 가장 유사한 단어들은 어떤 단어들일까요?"
      ]
    },
    {
      "cell_type": "code",
      "metadata": {
        "colab": {
          "base_uri": "https://localhost:8080/"
        },
        "id": "ShPkMWCUYA3p",
        "outputId": "a72eec68-1d2a-478c-ccb2-df1c8866e7c4"
      },
      "source": [
        "model_result = model.wv.most_similar(\"man\")\n",
        "print(model_result)"
      ],
      "execution_count": null,
      "outputs": [
        {
          "output_type": "stream",
          "name": "stdout",
          "text": [
            "[('woman', 0.8412274122238159), ('guy', 0.819390058517456), ('lady', 0.7752916812896729), ('boy', 0.7685728073120117), ('girl', 0.7434206008911133), ('gentleman', 0.7330523729324341), ('soldier', 0.708797812461853), ('poet', 0.7023221254348755), ('kid', 0.6825586557388306), ('writer', 0.6633725166320801)]\n"
          ]
        }
      ]
    },
    {
      "cell_type": "markdown",
      "metadata": {
        "id": "y4FnTQL1YHr2"
      },
      "source": [
        "이제 Word2Vec를 통해 단어의 유사도를 계산할 수 있게 되었습니다."
      ]
    },
    {
      "cell_type": "markdown",
      "metadata": {
        "id": "nFrcVj1gYObZ"
      },
      "source": [
        "# Word2Vec 모델 저장하고 로드하기"
      ]
    },
    {
      "cell_type": "markdown",
      "metadata": {
        "id": "MaqGgkILYVbK"
      },
      "source": [
        "공들여 학습한 모델을 언제든 나중에 다시 사용할 수 있도록 컴퓨터 파일로 저장하고 다시 로드해보겠습니다"
      ]
    },
    {
      "cell_type": "code",
      "metadata": {
        "id": "v6BRzbDoYevC"
      },
      "source": [
        "from gensim.models import KeyedVectors\n",
        "model.wv.save_word2vec_format('eng_w2v') # 모델 저장\n",
        "loaded_model = KeyedVectors.load_word2vec_format(\"eng_w2v\") # 모델 로드"
      ],
      "execution_count": null,
      "outputs": []
    },
    {
      "cell_type": "markdown",
      "metadata": {
        "id": "rBYQYSlGY595"
      },
      "source": [
        "로드한 모델에 대해서 다시 man과 유사한 단어를 출력해보겠습니다"
      ]
    },
    {
      "cell_type": "code",
      "metadata": {
        "colab": {
          "base_uri": "https://localhost:8080/"
        },
        "id": "2ualw-yrY8PJ",
        "outputId": "faa6ed20-6575-4fad-9b44-9c8924058c7d"
      },
      "source": [
        "model_result = loaded_model.most_similar(\"man\")\n",
        "print(model_result)"
      ],
      "execution_count": null,
      "outputs": [
        {
          "output_type": "stream",
          "name": "stdout",
          "text": [
            "[('woman', 0.8412274122238159), ('guy', 0.819390058517456), ('lady', 0.7752916812896729), ('boy', 0.7685728073120117), ('girl', 0.7434206008911133), ('gentleman', 0.7330523729324341), ('soldier', 0.708797812461853), ('poet', 0.7023221254348755), ('kid', 0.6825586557388306), ('writer', 0.6633725166320801)]\n"
          ]
        }
      ]
    }
  ]
}