{
  "nbformat": 4,
  "nbformat_minor": 0,
  "metadata": {
    "colab": {
      "name": "AI_PyTorch(시그모이드함수이용 로지스틱회귀구현).ipynb",
      "provenance": [],
      "authorship_tag": "ABX9TyO6ILsUMRuD4YvGoN5xbCmr",
      "include_colab_link": true
    },
    "kernelspec": {
      "name": "python3",
      "display_name": "Python 3"
    },
    "language_info": {
      "name": "python"
    }
  },
  "cells": [
    {
      "cell_type": "markdown",
      "metadata": {
        "id": "view-in-github",
        "colab_type": "text"
      },
      "source": [
        "<a href=\"https://colab.research.google.com/github/kmongsil1105/colab_ipynb/blob/main/AI_PyTorch(%EC%8B%9C%EA%B7%B8%EB%AA%A8%EC%9D%B4%EB%93%9C%ED%95%A8%EC%88%98%EC%9D%B4%EC%9A%A9_%EB%A1%9C%EC%A7%80%EC%8A%A4%ED%8B%B1%ED%9A%8C%EA%B7%80%EA%B5%AC%ED%98%84).ipynb\" target=\"_parent\"><img src=\"https://colab.research.google.com/assets/colab-badge.svg\" alt=\"Open In Colab\"/></a>"
      ]
    },
    {
      "cell_type": "code",
      "metadata": {
        "id": "ZVxnzp6xUec9"
      },
      "source": [
        "import torch\n",
        "import torch.nn as nn\n",
        "import torch.nn.functional as F\n",
        "import torch.optim as optim"
      ],
      "execution_count": null,
      "outputs": []
    },
    {
      "cell_type": "code",
      "metadata": {
        "colab": {
          "base_uri": "https://localhost:8080/"
        },
        "id": "6AAhpyXLUiAO",
        "outputId": "dc70ad61-9e01-4369-ee4a-9458a8890d86"
      },
      "source": [
        "torch.manual_seed(1)"
      ],
      "execution_count": null,
      "outputs": [
        {
          "output_type": "execute_result",
          "data": {
            "text/plain": [
              "<torch._C.Generator at 0x7f36451b2b50>"
            ]
          },
          "metadata": {},
          "execution_count": 2
        }
      ]
    },
    {
      "cell_type": "code",
      "metadata": {
        "id": "7LQyLwPeUkbV"
      },
      "source": [
        "x_data = [[1, 2], [2, 3], [3, 1], [4, 3], [5, 3], [6, 2]]\n",
        "y_data = [[0], [0], [0], [1], [1], [1]]\n",
        "x_train = torch.FloatTensor(x_data)\n",
        "y_train = torch.FloatTensor(y_data)"
      ],
      "execution_count": null,
      "outputs": []
    },
    {
      "cell_type": "code",
      "metadata": {
        "colab": {
          "base_uri": "https://localhost:8080/"
        },
        "id": "U26PIiXVUlzu",
        "outputId": "503c2c55-b919-42be-c0f2-57b9d27ee819"
      },
      "source": [
        "print(x_train.shape)\n",
        "print(y_train.shape)"
      ],
      "execution_count": null,
      "outputs": [
        {
          "output_type": "stream",
          "name": "stdout",
          "text": [
            "torch.Size([6, 2])\n",
            "torch.Size([6, 1])\n"
          ]
        }
      ]
    },
    {
      "cell_type": "markdown",
      "metadata": {
        "id": "Bz9OyjB6Uskj"
      },
      "source": [
        " * 현재 x_train은 6 × 2의 크기(shape)를 가지는 행렬이며, y_train은 6 × 1의 크기를 가지는 벡터입니다. \n",
        " \n",
        " x_train을 X라고 하고, 이와 곱해지는 가중치 벡터를 W라고 하였을 때, \n",
        " \n",
        " X * W가 성립되기 위해서는  W벡터의 크기는 2 × 1이어야 합니다. \n",
        " \n",
        " 이제 W와 b를 선언합니다."
      ]
    },
    {
      "cell_type": "code",
      "metadata": {
        "id": "lJWM0DxxUpCy"
      },
      "source": [
        "W = torch.zeros((2, 1), requires_grad=True) # 크기는 2 x 1\n",
        "b = torch.zeros(1, requires_grad=True)"
      ],
      "execution_count": null,
      "outputs": []
    },
    {
      "cell_type": "markdown",
      "metadata": {
        "id": "EdwZaSfPVJWN"
      },
      "source": [
        " * 가설식을 세워보겠습니다. \n",
        " \n",
        "   "
      ]
    },
    {
      "cell_type": "code",
      "metadata": {
        "id": "k9Ikfx3EVCNs"
      },
      "source": [
        "# 파이토치에서는 를 구현하기 위해서 torch.exp(x)를 사용합니다.\n",
        "#  이에 따라 행렬 연산을 사용한 가설식은 다음과 같습니다.\n",
        "###################################################\n",
        "# hypothesis = 1 / (1 + torch.exp(-(x_train.matmul(W) + b)))\n",
        "###################################################     아래쪽 가설식과 위쪽 가설식 중에서 하나를 사용하면 됨!!!\n",
        "# 가설식을 좀 더 간단하게도 구현할 수 있습니다. \n",
        "# 파이토치에서는 \"시그모이드 함수\"를 이미 구현하여 제공하고 있기 때문. \n",
        "# 다음은 torch.sigmoid를 사용하여 좀 더 간단히 구현한 가설식입니다.\n",
        "hypothesis = torch.sigmoid(x_train.matmul(W) + b)"
      ],
      "execution_count": null,
      "outputs": []
    },
    {
      "cell_type": "markdown",
      "metadata": {
        "id": "CYDRDEKIVUjL"
      },
      "source": [
        " * 앞서 W와 b는 torch.zeros를 통해 전부 0으로 초기화 된 상태입니다. 이 상태에서 예측값을 출력해봅시다."
      ]
    },
    {
      "cell_type": "code",
      "metadata": {
        "colab": {
          "base_uri": "https://localhost:8080/"
        },
        "id": "maHyRlzNVV-0",
        "outputId": "2f5a4677-eeb1-416d-d878-90a7ef5bf401"
      },
      "source": [
        "print(hypothesis) # 예측값인 H(x) 출력"
      ],
      "execution_count": null,
      "outputs": [
        {
          "output_type": "stream",
          "name": "stdout",
          "text": [
            "tensor([[0.5000],\n",
            "        [0.5000],\n",
            "        [0.5000],\n",
            "        [0.5000],\n",
            "        [0.5000],\n",
            "        [0.5000]], grad_fn=<MulBackward0>)\n"
          ]
        }
      ]
    },
    {
      "cell_type": "markdown",
      "metadata": {
        "id": "AR0M3jqYVcCb"
      },
      "source": [
        " * 실제값 y_train과 크기가 동일한 6 × 1의 크기를 가지는 \"예측값 벡터\"가 나오는데 모든 값이 0.5입니다."
      ]
    },
    {
      "cell_type": "markdown",
      "metadata": {
        "id": "TC6bpnCDVgsE"
      },
      "source": [
        " *  torch.sigmoid(시그모이드 함수) 사용시 결과값\n",
        " \n",
        " tensor([[0.5000],\n",
        "        [0.5000],\n",
        "        [0.5000],\n",
        "        [0.5000],\n",
        "        [0.5000],\n",
        "        [0.5000]], grad_fn=<SigmoidBackward>)"
      ]
    },
    {
      "cell_type": "markdown",
      "metadata": {
        "id": "NTSxTk95XANR"
      },
      "source": [
        "-----------------------------------------------\n",
        " * 비용 함수값. 즉, 현재 예측값과 실제값 사이의 cost를 구해보겠습니다."
      ]
    },
    {
      "cell_type": "markdown",
      "metadata": {
        "id": "lEtccqYvXGXd"
      },
      "source": [
        " * 우선, 현재 예측값과 실제값을 출력해보겠습니다."
      ]
    },
    {
      "cell_type": "code",
      "metadata": {
        "colab": {
          "base_uri": "https://localhost:8080/"
        },
        "id": "LdIcpqCAWzVt",
        "outputId": "f50cf21c-5901-4047-a1ab-b4dbfc2bbfdd"
      },
      "source": [
        "print(hypothesis)\n",
        "print(y_train)"
      ],
      "execution_count": null,
      "outputs": [
        {
          "output_type": "stream",
          "name": "stdout",
          "text": [
            "tensor([[0.5000],\n",
            "        [0.5000],\n",
            "        [0.5000],\n",
            "        [0.5000],\n",
            "        [0.5000],\n",
            "        [0.5000]], grad_fn=<SigmoidBackward>)\n",
            "tensor([[0.],\n",
            "        [0.],\n",
            "        [0.],\n",
            "        [1.],\n",
            "        [1.],\n",
            "        [1.]])\n"
          ]
        }
      ]
    },
    {
      "cell_type": "markdown",
      "metadata": {
        "id": "jjg9IZneXOWv"
      },
      "source": [
        " * 현재 총 6개의 원소가 존재하지만 하나의 샘플. \n",
        " \n",
        "   즉, 하나의 원소에 대해서만 오차를 구하는 식을 작성해보겠습니다."
      ]
    },
    {
      "cell_type": "code",
      "metadata": {
        "colab": {
          "base_uri": "https://localhost:8080/"
        },
        "id": "qMS3uX_DXRKe",
        "outputId": "83d9d06f-7c7b-43f6-a0c1-bb0fe48d233c"
      },
      "source": [
        "-(y_train[0] * torch.log(hypothesis[0]) + \n",
        "  (1 - y_train[0]) * torch.log(1 - hypothesis[0]))\n"
      ],
      "execution_count": null,
      "outputs": [
        {
          "output_type": "execute_result",
          "data": {
            "text/plain": [
              "tensor([0.6931], grad_fn=<NegBackward>)"
            ]
          },
          "metadata": {},
          "execution_count": 11
        }
      ]
    },
    {
      "cell_type": "markdown",
      "metadata": {
        "id": "UHGG4SNGXcjD"
      },
      "source": [
        " * 이제 모든 원소에 대해서 오차를 구해보겠습니다."
      ]
    },
    {
      "cell_type": "code",
      "metadata": {
        "colab": {
          "base_uri": "https://localhost:8080/"
        },
        "id": "OEdwA5J_Xdxu",
        "outputId": "2779210a-f51f-4411-b7d6-077186074d9a"
      },
      "source": [
        "losses = -(y_train * torch.log(hypothesis) + \n",
        "           (1 - y_train) * torch.log(1 - hypothesis))\n",
        "print(losses)"
      ],
      "execution_count": null,
      "outputs": [
        {
          "output_type": "stream",
          "name": "stdout",
          "text": [
            "tensor([[0.6931],\n",
            "        [0.6931],\n",
            "        [0.6931],\n",
            "        [0.6931],\n",
            "        [0.6931],\n",
            "        [0.6931]], grad_fn=<NegBackward>)\n"
          ]
        }
      ]
    },
    {
      "cell_type": "markdown",
      "metadata": {
        "id": "rzpR4armXkuG"
      },
      "source": [
        " * 그리고 이 전체 오차에 대한 평균을 구합니다."
      ]
    },
    {
      "cell_type": "code",
      "metadata": {
        "colab": {
          "base_uri": "https://localhost:8080/"
        },
        "id": "XqUiksGKXl84",
        "outputId": "04d387bc-87ec-40d2-ca01-92c0135c87c3"
      },
      "source": [
        "cost = losses.mean()\n",
        "print(cost)"
      ],
      "execution_count": null,
      "outputs": [
        {
          "output_type": "stream",
          "name": "stdout",
          "text": [
            "tensor(0.6931, grad_fn=<MeanBackward0>)\n"
          ]
        }
      ]
    },
    {
      "cell_type": "markdown",
      "metadata": {
        "id": "vk_0MbLbX-t3"
      },
      "source": [
        "----------------------------"
      ]
    },
    {
      "cell_type": "markdown",
      "metadata": {
        "id": "kfoxpgSbXyzB"
      },
      "source": [
        " * 지금까지 비용 함수의 값을 직접 구현하였는데, \n",
        " \n",
        "   사실 파이토치에서는 로지스틱 회귀의 비용 함수를 이미 구현해서 제공하고 있습니다.\n",
        "\n",
        "   사용 방법은 torch.nn.functional as F와 같이 임포트 한 후에 F.binary_cross_entropy(예측값, 실제값)과 같이 사용하면 됩니다."
      ]
    },
    {
      "cell_type": "code",
      "metadata": {
        "colab": {
          "base_uri": "https://localhost:8080/"
        },
        "id": "TC3HPwJJX3jq",
        "outputId": "1f4f62ef-67fd-449e-cd22-491f19d137ef"
      },
      "source": [
        "F.binary_cross_entropy(hypothesis, y_train)"
      ],
      "execution_count": null,
      "outputs": [
        {
          "output_type": "execute_result",
          "data": {
            "text/plain": [
              "tensor(0.6931, grad_fn=<BinaryCrossEntropyBackward>)"
            ]
          },
          "metadata": {},
          "execution_count": 14
        }
      ]
    },
    {
      "cell_type": "code",
      "metadata": {
        "colab": {
          "base_uri": "https://localhost:8080/"
        },
        "id": "QwmYwr1iYVwR",
        "outputId": "81530e76-4b7c-43ad-cd2b-bb667a17b1b7"
      },
      "source": [
        "import torch\n",
        "import torch.nn as nn\n",
        "import torch.nn.functional as F\n",
        "import torch.optim as optim\n",
        "torch.manual_seed(1)\n",
        "\n",
        "x_data = [[1, 2], [2, 3], [3, 1], [4, 3], [5, 3], [6, 2]]\n",
        "y_data = [[0], [0], [0], [1], [1], [1]]\n",
        "x_train = torch.FloatTensor(x_data)\n",
        "y_train = torch.FloatTensor(y_data)\n",
        "\n",
        "# 모델 초기화\n",
        "W = torch.zeros((2, 1), requires_grad=True)\n",
        "b = torch.zeros(1, requires_grad=True)\n",
        "# optimizer 설정\n",
        "optimizer = optim.SGD([W, b], lr=1)\n",
        "\n",
        "nb_epochs = 1000\n",
        "for epoch in range(nb_epochs + 1):\n",
        "\n",
        "    # Cost 계산\n",
        "    hypothesis = torch.sigmoid(x_train.matmul(W) + b)\n",
        "    #cost = -(y_train * torch.log(hypothesis) + \n",
        "    #         (1 - y_train) * torch.log(1 - hypothesis)).mean()\n",
        "    #############################   위쪽과 아래쪽 중 한가지의 비용함수 계산식을 사용 가능!!\n",
        "    cost = F.binary_cross_entropy(hypothesis, y_train)\n",
        "    # cost로 H(x) 개선\n",
        "    optimizer.zero_grad()\n",
        "    cost.backward()\n",
        "    optimizer.step()\n",
        "\n",
        "    # 100번마다 로그 출력\n",
        "    if epoch % 100 == 0:\n",
        "        print('Epoch {:4d}/{} Cost: {:.6f}'.format(\n",
        "            epoch, nb_epochs, cost.item()\n",
        "        ))"
      ],
      "execution_count": null,
      "outputs": [
        {
          "output_type": "stream",
          "name": "stdout",
          "text": [
            "Epoch    0/1000 Cost: 0.693147\n",
            "Epoch  100/1000 Cost: 0.134722\n",
            "Epoch  200/1000 Cost: 0.080643\n",
            "Epoch  300/1000 Cost: 0.057900\n",
            "Epoch  400/1000 Cost: 0.045300\n",
            "Epoch  500/1000 Cost: 0.037261\n",
            "Epoch  600/1000 Cost: 0.031672\n",
            "Epoch  700/1000 Cost: 0.027556\n",
            "Epoch  800/1000 Cost: 0.024394\n",
            "Epoch  900/1000 Cost: 0.021888\n",
            "Epoch 1000/1000 Cost: 0.019852\n"
          ]
        }
      ]
    },
    {
      "cell_type": "markdown",
      "metadata": {
        "id": "vhf_hVFFZQ1J"
      },
      "source": [
        " * 학습이 끝났습니다. 이제 훈련했던 훈련 데이터를 그대로 입력으로 사용했을 때, 제대로 예측하는지 확인해보겠습니다.\n",
        "\n",
        "  현재 W와 b는 훈련 후의 값을 가지고 있습니다. \n",
        "  \n",
        "  현재 W와 b를 가지고 예측값을 출력해보겠습니다."
      ]
    },
    {
      "cell_type": "code",
      "metadata": {
        "colab": {
          "base_uri": "https://localhost:8080/"
        },
        "id": "smpC0buZZWvw",
        "outputId": "cf1ef724-ae63-4231-b286-57d672f68059"
      },
      "source": [
        "hypothesis = torch.sigmoid(x_train.matmul(W) + b)\n",
        "print(hypothesis)"
      ],
      "execution_count": null,
      "outputs": [
        {
          "output_type": "stream",
          "name": "stdout",
          "text": [
            "tensor([[2.7648e-04],\n",
            "        [3.1608e-02],\n",
            "        [3.8977e-02],\n",
            "        [9.5622e-01],\n",
            "        [9.9823e-01],\n",
            "        [9.9969e-01]], grad_fn=<SigmoidBackward>)\n"
          ]
        }
      ]
    },
    {
      "cell_type": "markdown",
      "metadata": {
        "id": "8n6K95cvZdU1"
      },
      "source": [
        " * 현재 위 값들은 0과 1 사이의 값을 가지고 있습니다. \n",
        " \n",
        "   이제 0.5를 넘으면 True, 넘지 않으면 False로 값을 정하여 출력해보겠습니다."
      ]
    },
    {
      "cell_type": "code",
      "metadata": {
        "colab": {
          "base_uri": "https://localhost:8080/"
        },
        "id": "8RewDZVAZgYi",
        "outputId": "7a34d8a0-793e-489f-c643-04363f7e76a4"
      },
      "source": [
        "prediction = hypothesis >= torch.FloatTensor([0.5])\n",
        "print(prediction)"
      ],
      "execution_count": null,
      "outputs": [
        {
          "output_type": "stream",
          "name": "stdout",
          "text": [
            "tensor([[False],\n",
            "        [False],\n",
            "        [False],\n",
            "        [ True],\n",
            "        [ True],\n",
            "        [ True]])\n"
          ]
        }
      ]
    },
    {
      "cell_type": "markdown",
      "metadata": {
        "id": "-yuGzGP7ZpeL"
      },
      "source": [
        " * 실제값은 [[0], [0], [0], [1], [1], [1]]이므로, 이는 결과적으로 False, False, False, True, True, True와 동일합니다. \n",
        " \n",
        "   즉, 기존의 실제값과 동일하게 예측한 것을 볼 수 있습니다. 훈련이 된 후의 W와 b의 값을 출력해보겠습니다."
      ]
    },
    {
      "cell_type": "code",
      "metadata": {
        "colab": {
          "base_uri": "https://localhost:8080/"
        },
        "id": "mL6F9VshZuV5",
        "outputId": "40a3e725-f1a0-47b7-de6f-4341d10907ec"
      },
      "source": [
        "print(W)\n",
        "print(b)"
      ],
      "execution_count": null,
      "outputs": [
        {
          "output_type": "stream",
          "name": "stdout",
          "text": [
            "tensor([[3.2530],\n",
            "        [1.5179]], requires_grad=True)\n",
            "tensor([-14.4819], requires_grad=True)\n"
          ]
        }
      ]
    }
  ]
}