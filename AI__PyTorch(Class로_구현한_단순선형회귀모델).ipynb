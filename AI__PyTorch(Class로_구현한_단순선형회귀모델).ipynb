{
  "nbformat": 4,
  "nbformat_minor": 0,
  "metadata": {
    "colab": {
      "name": "AI_ PyTorch(Class로 구현한 단순선형회귀모델).ipynb",
      "provenance": [],
      "collapsed_sections": [],
      "authorship_tag": "ABX9TyPQjesFLKWFhr6Fk+HaEPnO",
      "include_colab_link": true
    },
    "kernelspec": {
      "name": "python3",
      "display_name": "Python 3"
    },
    "language_info": {
      "name": "python"
    },
    "accelerator": "GPU"
  },
  "cells": [
    {
      "cell_type": "markdown",
      "metadata": {
        "id": "view-in-github",
        "colab_type": "text"
      },
      "source": [
        "<a href=\"https://colab.research.google.com/github/kmongsil1105/colab_ipynb/blob/main/AI__PyTorch(Class%EB%A1%9C_%EA%B5%AC%ED%98%84%ED%95%9C_%EB%8B%A8%EC%88%9C%EC%84%A0%ED%98%95%ED%9A%8C%EA%B7%80%EB%AA%A8%EB%8D%B8).ipynb\" target=\"_parent\"><img src=\"https://colab.research.google.com/assets/colab-badge.svg\" alt=\"Open In Colab\"/></a>"
      ]
    },
    {
      "cell_type": "markdown",
      "metadata": {
        "id": "kRmmnG5_nvCm"
      },
      "source": [
        "# **클래스로 파이토치 모델 구현하기**"
      ]
    },
    {
      "cell_type": "markdown",
      "metadata": {
        "id": "UKYg-4L8n3M4"
      },
      "source": [
        " * 단순 선형 회귀 모델을 Class로 구현하기"
      ]
    },
    {
      "cell_type": "markdown",
      "metadata": {
        "id": "geDUVnQ-IeM2"
      },
      "source": [
        "   * ==>  단순 선형 회귀 모델은 다음과 같이 구현했었습니다."
      ]
    },
    {
      "cell_type": "markdown",
      "metadata": {
        "id": "nSszQQ4kRw6L"
      },
      "source": [
        "  * 이제 모델을 클래스로 구현한 코드를 보겠습니다"
      ]
    },
    {
      "cell_type": "code",
      "metadata": {
        "id": "aksdNEuWIlIL"
      },
      "source": [
        "# 모델을 선언 및 초기화. 단순 선형 회귀이므로 input_dim=1, output_dim=1.\n",
        "model = nn.Linear(1,1)"
      ],
      "execution_count": null,
      "outputs": []
    },
    {
      "cell_type": "markdown",
      "metadata": {
        "id": "TTSb72tEIoTf"
      },
      "source": [
        " * 이를 클래스로 구현하면 다음과 같습니다"
      ]
    },
    {
      "cell_type": "code",
      "metadata": {
        "id": "f9ynQRi7Itg-"
      },
      "source": [
        "class LinearRegressionModel(nn.Module): # torch.nn.Module을 상속받는 파이썬 클래스\n",
        "    def __init__(self): #\n",
        "        super().__init__()\n",
        "        self.linear = nn.Linear(1, 1) # 단순 선형 회귀이므로 input_dim=1, output_dim=1.\n",
        "\n",
        "    def forward(self, x):\n",
        "        return self.linear(x)\n",
        "\n",
        "model = LinearRegressionModel()\n"
      ],
      "execution_count": null,
      "outputs": []
    },
    {
      "cell_type": "markdown",
      "metadata": {
        "id": "6hATXKw1JC3A"
      },
      "source": [
        " * 위와 같은 클래스를 사용한 모델 구현 형식은 대부분의 파이토치 구현체에서 사용하고 있는 방식으로 \n",
        " \n",
        " 반드시 숙지할 필요가 있습니다."
      ]
    },
    {
      "cell_type": "markdown",
      "metadata": {
        "id": "ohHcma2fJQP8"
      },
      "source": [
        " * 클래스(class) 형태의 모델은 nn.Module 을 상속받습니다. \n",
        " \n",
        " 그리고 __init__()에서 모델의 구조와 동작을 정의하는 생성자를 정의합니다. \n",
        " \n",
        " 이는 파이썬에서 객체가 갖는 속성값을 초기화하는 역할로, 객체가 생성될 때 자동으호 호출됩니다. \n",
        " \n",
        " super() 함수를 부르면 여기서 만든 클래스는 nn.Module 클래스의 속성들을 가지고 초기화 됩니다. \n",
        " \n",
        " foward() 함수는 모델이 학습데이터를 입력받아서 forward 연산을 진행시키는 함수입니다. \n",
        " \n",
        " 이 forward() 함수는 model 객체를 데이터와 함께 호출하면 자동으로 실행이됩니다. \n",
        " \n",
        " 예를 들어 model이란 이름의 객체를 생성 후, \n",
        " \n",
        " model(입력 데이터)와 같은 형식으로 객체를 호출하면 자동으로 forward 연산이 수행됩니다."
      ]
    },
    {
      "cell_type": "markdown",
      "metadata": {
        "id": "23Xt9dshJkzI"
      },
      "source": [
        "단순 선형 회귀 모델을 Class로 구현하기\n",
        "\n",
        "==> 이제 모델을 클래스로 구현한 코드를 보겠습니다. \n",
        "\n",
        "달라진 점은 모델을 클래스로 구현했다는 점 뿐입니다."
      ]
    },
    {
      "cell_type": "code",
      "metadata": {
        "id": "NXv-13egRn1S"
      },
      "source": [
        "import torch\n",
        "import torch.nn as nn\n",
        "import torch.nn.functional as F"
      ],
      "execution_count": null,
      "outputs": []
    },
    {
      "cell_type": "code",
      "metadata": {
        "colab": {
          "base_uri": "https://localhost:8080/"
        },
        "id": "Z1wQSedqR5Gy",
        "outputId": "0a32c890-53d2-44ab-b858-d3d73984c9d4"
      },
      "source": [
        "torch.manual_seed(1)"
      ],
      "execution_count": null,
      "outputs": [
        {
          "output_type": "execute_result",
          "data": {
            "text/plain": [
              "<torch._C.Generator at 0x7f751242d9b0>"
            ]
          },
          "metadata": {},
          "execution_count": 2
        }
      ]
    },
    {
      "cell_type": "code",
      "metadata": {
        "id": "MnAFsXMxR8fL"
      },
      "source": [
        "# 데이터\n",
        "x_train = torch.FloatTensor([[1], [2], [3]])\n",
        "y_train = torch.FloatTensor([[2], [4], [6]])"
      ],
      "execution_count": null,
      "outputs": []
    },
    {
      "cell_type": "code",
      "metadata": {
        "id": "qUoh7f42R_Nz"
      },
      "source": [
        "class LinearRegressionModel(nn.Module):\n",
        "    def __init__(self):\n",
        "        super().__init__()\n",
        "        self.linear = nn.Linear(1, 1)\n",
        "\n",
        "    def forward(self, x):\n",
        "        return self.linear(x)"
      ],
      "execution_count": null,
      "outputs": []
    },
    {
      "cell_type": "code",
      "metadata": {
        "id": "BxnFEsqYqw2c"
      },
      "source": [
        "model = LinearRegressionModel()"
      ],
      "execution_count": null,
      "outputs": []
    },
    {
      "cell_type": "code",
      "metadata": {
        "id": "J-cfwpb5q0Hp"
      },
      "source": [
        "# optimizer 설정. 경사 하강법 SGD를 사용하고 learning rate를 의미하는 lr은 0.01\n",
        "optimizer = torch.optim.SGD(model.parameters(), lr=0.01) "
      ],
      "execution_count": null,
      "outputs": []
    },
    {
      "cell_type": "code",
      "metadata": {
        "colab": {
          "base_uri": "https://localhost:8080/"
        },
        "id": "wvrXyg01q3Dy",
        "outputId": "60c833af-65d9-450a-ab86-ad488cca00b9"
      },
      "source": [
        "# 전체 훈련 데이터에 대해 경사 하강법을 2,000회 반복\n",
        "nb_epochs = 2000\n",
        "for epoch in range(nb_epochs+1):\n",
        "\n",
        "    # H(x) 계산\n",
        "    prediction = model(x_train)\n",
        "\n",
        "    # cost 계산\n",
        "    cost = F.mse_loss(prediction, y_train) # <== 파이토치에서 제공하는 평균 제곱 오차 함수\n",
        "\n",
        "    # cost로 H(x) 개선하는 부분\n",
        "    # gradient를 0으로 초기화\n",
        "    optimizer.zero_grad()\n",
        "    # 비용 함수를 미분하여 gradient 계산\n",
        "    cost.backward() # backward 연산\n",
        "    # W와 b를 업데이트\n",
        "    optimizer.step()\n",
        "\n",
        "    if epoch % 100 == 0:\n",
        "    # 100번마다 로그 출력\n",
        "      print('Epoch {:4d}/{} Cost: {:.6f}'.format(\n",
        "          epoch, nb_epochs, cost.item()\n",
        "      ))"
      ],
      "execution_count": null,
      "outputs": [
        {
          "output_type": "stream",
          "text": [
            "Epoch    0/2000 Cost: 10.421468\n",
            "Epoch  100/2000 Cost: 0.021824\n",
            "Epoch  200/2000 Cost: 0.013486\n",
            "Epoch  300/2000 Cost: 0.008334\n",
            "Epoch  400/2000 Cost: 0.005150\n",
            "Epoch  500/2000 Cost: 0.003182\n",
            "Epoch  600/2000 Cost: 0.001966\n",
            "Epoch  700/2000 Cost: 0.001215\n",
            "Epoch  800/2000 Cost: 0.000751\n",
            "Epoch  900/2000 Cost: 0.000464\n",
            "Epoch 1000/2000 Cost: 0.000287\n",
            "Epoch 1100/2000 Cost: 0.000177\n",
            "Epoch 1200/2000 Cost: 0.000109\n",
            "Epoch 1300/2000 Cost: 0.000068\n",
            "Epoch 1400/2000 Cost: 0.000042\n",
            "Epoch 1500/2000 Cost: 0.000026\n",
            "Epoch 1600/2000 Cost: 0.000016\n",
            "Epoch 1700/2000 Cost: 0.000010\n",
            "Epoch 1800/2000 Cost: 0.000006\n",
            "Epoch 1900/2000 Cost: 0.000004\n",
            "Epoch 2000/2000 Cost: 0.000002\n"
          ],
          "name": "stdout"
        }
      ]
    },
    {
      "cell_type": "markdown",
      "metadata": {
        "id": "vawe82p3SnAi"
      },
      "source": [
        "# 여기까지는 모델을 class로 정의하고 학습까지 완료!!!"
      ]
    },
    {
      "cell_type": "markdown",
      "metadata": {
        "id": "AHeWh0ZWSsv6"
      },
      "source": [
        "#  예측작업이 추가되어야 함!!!"
      ]
    },
    {
      "cell_type": "markdown",
      "metadata": {
        "id": "rjGxpsRcTX0k"
      },
      "source": [
        " * 이제 학습 후의 W와 b의 값을 출력해보겠습니다."
      ]
    },
    {
      "cell_type": "code",
      "metadata": {
        "colab": {
          "base_uri": "https://localhost:8080/"
        },
        "id": "afMT1T8zS5JO",
        "outputId": "8f11e659-9acb-4c1c-8ab8-05d1a76c16c9"
      },
      "source": [
        "print(list(model.parameters()))"
      ],
      "execution_count": null,
      "outputs": [
        {
          "output_type": "stream",
          "text": [
            "[Parameter containing:\n",
            "tensor([[1.9982]], requires_grad=True), Parameter containing:\n",
            "tensor([0.0040], requires_grad=True)]\n"
          ],
          "name": "stdout"
        }
      ]
    },
    {
      "cell_type": "markdown",
      "metadata": {
        "id": "bKcVnWfmTaSk"
      },
      "source": [
        " * W의 값이 2에 가깝고, b의 값이 0에 가까운 것을 볼 수 있습니다."
      ]
    }
  ]
}