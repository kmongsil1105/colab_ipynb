{
  "nbformat": 4,
  "nbformat_minor": 0,
  "metadata": {
    "colab": {
      "name": "AI_YOLOv5_my_objection model.ipynb",
      "provenance": [],
      "collapsed_sections": [],
      "mount_file_id": "1d0gkMD-4tMF-7DmIU55ZYCl6LTpu2j-R",
      "authorship_tag": "ABX9TyNciux0+auLDm6xD3mevJjl",
      "include_colab_link": true
    },
    "kernelspec": {
      "name": "python3",
      "display_name": "Python 3"
    },
    "language_info": {
      "name": "python"
    }
  },
  "cells": [
    {
      "cell_type": "markdown",
      "metadata": {
        "id": "view-in-github",
        "colab_type": "text"
      },
      "source": [
        "<a href=\"https://colab.research.google.com/github/kmongsil1105/colab_ipynb/blob/main/AI_YOLOv5_my_objection_model.ipynb\" target=\"_parent\"><img src=\"https://colab.research.google.com/assets/colab-badge.svg\" alt=\"Open In Colab\"/></a>"
      ]
    },
    {
      "cell_type": "markdown",
      "metadata": {
        "id": "pzE8ZI5wjjqQ"
      },
      "source": [
        "# yolov5 를 customize해서 나만의 object detection 모델을 만들어보기"
      ]
    },
    {
      "cell_type": "markdown",
      "metadata": {
        "id": "THhVW1-jlmpU"
      },
      "source": [
        "1. yolov5 를 clone "
      ]
    },
    {
      "cell_type": "code",
      "metadata": {
        "colab": {
          "base_uri": "https://localhost:8080/"
        },
        "id": "MbuaxWjsjlh4",
        "outputId": "384955eb-30e2-40eb-e228-64ab4f2f5140"
      },
      "source": [
        " !git clone https://github.com/ultralytics/yolov5 "
      ],
      "execution_count": null,
      "outputs": [
        {
          "output_type": "stream",
          "name": "stdout",
          "text": [
            "Cloning into 'yolov5'...\n",
            "remote: Enumerating objects: 9339, done.\u001b[K\n",
            "remote: Counting objects: 100% (30/30), done.\u001b[K\n",
            "remote: Compressing objects: 100% (23/23), done.\u001b[K\n",
            "remote: Total 9339 (delta 14), reused 20 (delta 7), pack-reused 9309\u001b[K\n",
            "Receiving objects: 100% (9339/9339), 9.77 MiB | 28.57 MiB/s, done.\n",
            "Resolving deltas: 100% (6485/6485), done.\n"
          ]
        }
      ]
    },
    {
      "cell_type": "code",
      "metadata": {
        "colab": {
          "base_uri": "https://localhost:8080/",
          "height": 1000
        },
        "id": "94zzhJ49kBXs",
        "outputId": "45dc126f-019f-4cd5-af5c-4f2c6d3f1840"
      },
      "source": [
        "%pip install imgaug==0.2.5\n",
        "%cd /content/yolov5   \n",
        "!pip install -U -r requirements.txt  # install dependencies   \n"
      ],
      "execution_count": null,
      "outputs": [
        {
          "output_type": "stream",
          "name": "stdout",
          "text": [
            "Collecting imgaug==0.2.5\n",
            "  Downloading imgaug-0.2.5.tar.gz (562 kB)\n",
            "\u001b[?25l\r\u001b[K     |▋                               | 10 kB 21.4 MB/s eta 0:00:01\r\u001b[K     |█▏                              | 20 kB 27.5 MB/s eta 0:00:01\r\u001b[K     |█▊                              | 30 kB 33.2 MB/s eta 0:00:01\r\u001b[K     |██▎                             | 40 kB 36.9 MB/s eta 0:00:01\r\u001b[K     |███                             | 51 kB 37.6 MB/s eta 0:00:01\r\u001b[K     |███▌                            | 61 kB 39.4 MB/s eta 0:00:01\r\u001b[K     |████                            | 71 kB 40.4 MB/s eta 0:00:01\r\u001b[K     |████▋                           | 81 kB 40.8 MB/s eta 0:00:01\r\u001b[K     |█████▎                          | 92 kB 41.3 MB/s eta 0:00:01\r\u001b[K     |█████▉                          | 102 kB 43.1 MB/s eta 0:00:01\r\u001b[K     |██████▍                         | 112 kB 43.1 MB/s eta 0:00:01\r\u001b[K     |███████                         | 122 kB 43.1 MB/s eta 0:00:01\r\u001b[K     |███████▋                        | 133 kB 43.1 MB/s eta 0:00:01\r\u001b[K     |████████▏                       | 143 kB 43.1 MB/s eta 0:00:01\r\u001b[K     |████████▊                       | 153 kB 43.1 MB/s eta 0:00:01\r\u001b[K     |█████████▎                      | 163 kB 43.1 MB/s eta 0:00:01\r\u001b[K     |██████████                      | 174 kB 43.1 MB/s eta 0:00:01\r\u001b[K     |██████████▌                     | 184 kB 43.1 MB/s eta 0:00:01\r\u001b[K     |███████████                     | 194 kB 43.1 MB/s eta 0:00:01\r\u001b[K     |███████████▋                    | 204 kB 43.1 MB/s eta 0:00:01\r\u001b[K     |████████████▎                   | 215 kB 43.1 MB/s eta 0:00:01\r\u001b[K     |████████████▉                   | 225 kB 43.1 MB/s eta 0:00:01\r\u001b[K     |█████████████▍                  | 235 kB 43.1 MB/s eta 0:00:01\r\u001b[K     |██████████████                  | 245 kB 43.1 MB/s eta 0:00:01\r\u001b[K     |██████████████▋                 | 256 kB 43.1 MB/s eta 0:00:01\r\u001b[K     |███████████████▏                | 266 kB 43.1 MB/s eta 0:00:01\r\u001b[K     |███████████████▊                | 276 kB 43.1 MB/s eta 0:00:01\r\u001b[K     |████████████████▎               | 286 kB 43.1 MB/s eta 0:00:01\r\u001b[K     |████████████████▉               | 296 kB 43.1 MB/s eta 0:00:01\r\u001b[K     |█████████████████▌              | 307 kB 43.1 MB/s eta 0:00:01\r\u001b[K     |██████████████████              | 317 kB 43.1 MB/s eta 0:00:01\r\u001b[K     |██████████████████▋             | 327 kB 43.1 MB/s eta 0:00:01\r\u001b[K     |███████████████████▏            | 337 kB 43.1 MB/s eta 0:00:01\r\u001b[K     |███████████████████▉            | 348 kB 43.1 MB/s eta 0:00:01\r\u001b[K     |████████████████████▍           | 358 kB 43.1 MB/s eta 0:00:01\r\u001b[K     |█████████████████████           | 368 kB 43.1 MB/s eta 0:00:01\r\u001b[K     |█████████████████████▌          | 378 kB 43.1 MB/s eta 0:00:01\r\u001b[K     |██████████████████████▏         | 389 kB 43.1 MB/s eta 0:00:01\r\u001b[K     |██████████████████████▊         | 399 kB 43.1 MB/s eta 0:00:01\r\u001b[K     |███████████████████████▎        | 409 kB 43.1 MB/s eta 0:00:01\r\u001b[K     |███████████████████████▉        | 419 kB 43.1 MB/s eta 0:00:01\r\u001b[K     |████████████████████████▌       | 430 kB 43.1 MB/s eta 0:00:01\r\u001b[K     |█████████████████████████       | 440 kB 43.1 MB/s eta 0:00:01\r\u001b[K     |█████████████████████████▋      | 450 kB 43.1 MB/s eta 0:00:01\r\u001b[K     |██████████████████████████▏     | 460 kB 43.1 MB/s eta 0:00:01\r\u001b[K     |██████████████████████████▉     | 471 kB 43.1 MB/s eta 0:00:01\r\u001b[K     |███████████████████████████▍    | 481 kB 43.1 MB/s eta 0:00:01\r\u001b[K     |████████████████████████████    | 491 kB 43.1 MB/s eta 0:00:01\r\u001b[K     |████████████████████████████▌   | 501 kB 43.1 MB/s eta 0:00:01\r\u001b[K     |█████████████████████████████▏  | 512 kB 43.1 MB/s eta 0:00:01\r\u001b[K     |█████████████████████████████▊  | 522 kB 43.1 MB/s eta 0:00:01\r\u001b[K     |██████████████████████████████▎ | 532 kB 43.1 MB/s eta 0:00:01\r\u001b[K     |██████████████████████████████▉ | 542 kB 43.1 MB/s eta 0:00:01\r\u001b[K     |███████████████████████████████▍| 552 kB 43.1 MB/s eta 0:00:01\r\u001b[K     |████████████████████████████████| 562 kB 43.1 MB/s \n",
            "\u001b[?25hRequirement already satisfied: scipy in /usr/local/lib/python3.7/dist-packages (from imgaug==0.2.5) (1.4.1)\n",
            "Requirement already satisfied: scikit-image>=0.11.0 in /usr/local/lib/python3.7/dist-packages (from imgaug==0.2.5) (0.16.2)\n",
            "Requirement already satisfied: numpy>=1.7.0 in /usr/local/lib/python3.7/dist-packages (from imgaug==0.2.5) (1.19.5)\n",
            "Requirement already satisfied: six in /usr/local/lib/python3.7/dist-packages (from imgaug==0.2.5) (1.15.0)\n",
            "Requirement already satisfied: pillow>=4.3.0 in /usr/local/lib/python3.7/dist-packages (from scikit-image>=0.11.0->imgaug==0.2.5) (7.1.2)\n",
            "Requirement already satisfied: networkx>=2.0 in /usr/local/lib/python3.7/dist-packages (from scikit-image>=0.11.0->imgaug==0.2.5) (2.6.2)\n",
            "Requirement already satisfied: matplotlib!=3.0.0,>=2.0.0 in /usr/local/lib/python3.7/dist-packages (from scikit-image>=0.11.0->imgaug==0.2.5) (3.2.2)\n",
            "Requirement already satisfied: PyWavelets>=0.4.0 in /usr/local/lib/python3.7/dist-packages (from scikit-image>=0.11.0->imgaug==0.2.5) (1.1.1)\n",
            "Requirement already satisfied: imageio>=2.3.0 in /usr/local/lib/python3.7/dist-packages (from scikit-image>=0.11.0->imgaug==0.2.5) (2.4.1)\n",
            "Requirement already satisfied: python-dateutil>=2.1 in /usr/local/lib/python3.7/dist-packages (from matplotlib!=3.0.0,>=2.0.0->scikit-image>=0.11.0->imgaug==0.2.5) (2.8.2)\n",
            "Requirement already satisfied: cycler>=0.10 in /usr/local/lib/python3.7/dist-packages (from matplotlib!=3.0.0,>=2.0.0->scikit-image>=0.11.0->imgaug==0.2.5) (0.10.0)\n",
            "Requirement already satisfied: pyparsing!=2.0.4,!=2.1.2,!=2.1.6,>=2.0.1 in /usr/local/lib/python3.7/dist-packages (from matplotlib!=3.0.0,>=2.0.0->scikit-image>=0.11.0->imgaug==0.2.5) (2.4.7)\n",
            "Requirement already satisfied: kiwisolver>=1.0.1 in /usr/local/lib/python3.7/dist-packages (from matplotlib!=3.0.0,>=2.0.0->scikit-image>=0.11.0->imgaug==0.2.5) (1.3.1)\n",
            "Building wheels for collected packages: imgaug\n",
            "  Building wheel for imgaug (setup.py) ... \u001b[?25l\u001b[?25hdone\n",
            "  Created wheel for imgaug: filename=imgaug-0.2.5-py3-none-any.whl size=561438 sha256=127e2a66b5af955edcb2309f8b9042c3ec0b83d76f5402da1f9bdd5c1b0bc022\n",
            "  Stored in directory: /root/.cache/pip/wheels/60/dd/38/d1dc2cad2b6a66dc0249261004990bccb0f27985c74ba26e49\n",
            "Successfully built imgaug\n",
            "Installing collected packages: imgaug\n",
            "  Attempting uninstall: imgaug\n",
            "    Found existing installation: imgaug 0.2.9\n",
            "    Uninstalling imgaug-0.2.9:\n",
            "      Successfully uninstalled imgaug-0.2.9\n",
            "Successfully installed imgaug-0.2.5\n",
            "/content/yolov5\n",
            "Requirement already satisfied: matplotlib>=3.2.2 in /usr/local/lib/python3.7/dist-packages (from -r requirements.txt (line 4)) (3.2.2)\n",
            "Collecting matplotlib>=3.2.2\n",
            "  Downloading matplotlib-3.4.3-cp37-cp37m-manylinux1_x86_64.whl (10.3 MB)\n",
            "\u001b[K     |████████████████████████████████| 10.3 MB 27.1 MB/s \n",
            "\u001b[?25hRequirement already satisfied: numpy>=1.18.5 in /usr/local/lib/python3.7/dist-packages (from -r requirements.txt (line 5)) (1.19.5)\n",
            "Collecting numpy>=1.18.5\n",
            "  Downloading numpy-1.21.2-cp37-cp37m-manylinux_2_12_x86_64.manylinux2010_x86_64.whl (15.7 MB)\n",
            "\u001b[K     |████████████████████████████████| 15.7 MB 182 kB/s \n",
            "\u001b[?25hRequirement already satisfied: opencv-python>=4.1.2 in /usr/local/lib/python3.7/dist-packages (from -r requirements.txt (line 6)) (4.1.2.30)\n",
            "Collecting opencv-python>=4.1.2\n",
            "  Downloading opencv_python-4.5.3.56-cp37-cp37m-manylinux2014_x86_64.whl (49.9 MB)\n",
            "\u001b[K     |████████████████████████████████| 49.9 MB 14 kB/s \n",
            "\u001b[?25hCollecting Pillow>=8.0.0\n",
            "  Downloading Pillow-8.3.2-cp37-cp37m-manylinux_2_17_x86_64.manylinux2014_x86_64.whl (3.0 MB)\n",
            "\u001b[K     |████████████████████████████████| 3.0 MB 37.3 MB/s \n",
            "\u001b[?25hCollecting PyYAML>=5.3.1\n",
            "  Downloading PyYAML-5.4.1-cp37-cp37m-manylinux1_x86_64.whl (636 kB)\n",
            "\u001b[K     |████████████████████████████████| 636 kB 41.0 MB/s \n",
            "\u001b[?25hRequirement already satisfied: scipy>=1.4.1 in /usr/local/lib/python3.7/dist-packages (from -r requirements.txt (line 9)) (1.4.1)\n",
            "Collecting scipy>=1.4.1\n",
            "  Downloading scipy-1.7.1-cp37-cp37m-manylinux_2_5_x86_64.manylinux1_x86_64.whl (28.5 MB)\n",
            "\u001b[K     |████████████████████████████████| 28.5 MB 50 kB/s \n",
            "\u001b[?25hRequirement already satisfied: torch>=1.7.0 in /usr/local/lib/python3.7/dist-packages (from -r requirements.txt (line 10)) (1.9.0+cu102)\n",
            "Requirement already satisfied: torchvision>=0.8.1 in /usr/local/lib/python3.7/dist-packages (from -r requirements.txt (line 11)) (0.10.0+cu102)\n",
            "Requirement already satisfied: tqdm>=4.41.0 in /usr/local/lib/python3.7/dist-packages (from -r requirements.txt (line 12)) (4.62.0)\n",
            "Collecting tqdm>=4.41.0\n",
            "  Downloading tqdm-4.62.2-py2.py3-none-any.whl (76 kB)\n",
            "\u001b[K     |████████████████████████████████| 76 kB 4.6 MB/s \n",
            "\u001b[?25hRequirement already satisfied: tensorboard>=2.4.1 in /usr/local/lib/python3.7/dist-packages (from -r requirements.txt (line 15)) (2.6.0)\n",
            "Requirement already satisfied: seaborn>=0.11.0 in /usr/local/lib/python3.7/dist-packages (from -r requirements.txt (line 19)) (0.11.1)\n",
            "Collecting seaborn>=0.11.0\n",
            "  Downloading seaborn-0.11.2-py3-none-any.whl (292 kB)\n",
            "\u001b[K     |████████████████████████████████| 292 kB 50.5 MB/s \n",
            "\u001b[?25hRequirement already satisfied: pandas in /usr/local/lib/python3.7/dist-packages (from -r requirements.txt (line 20)) (1.1.5)\n",
            "Collecting pandas\n",
            "  Downloading pandas-1.3.3-cp37-cp37m-manylinux_2_17_x86_64.manylinux2014_x86_64.whl (11.3 MB)\n",
            "\u001b[K     |████████████████████████████████| 11.3 MB 49.2 MB/s \n",
            "\u001b[?25hCollecting thop\n",
            "  Downloading thop-0.0.31.post2005241907-py3-none-any.whl (8.7 kB)\n",
            "Requirement already satisfied: pyparsing>=2.2.1 in /usr/local/lib/python3.7/dist-packages (from matplotlib>=3.2.2->-r requirements.txt (line 4)) (2.4.7)\n",
            "Requirement already satisfied: python-dateutil>=2.7 in /usr/local/lib/python3.7/dist-packages (from matplotlib>=3.2.2->-r requirements.txt (line 4)) (2.8.2)\n",
            "Requirement already satisfied: kiwisolver>=1.0.1 in /usr/local/lib/python3.7/dist-packages (from matplotlib>=3.2.2->-r requirements.txt (line 4)) (1.3.1)\n",
            "Requirement already satisfied: cycler>=0.10 in /usr/local/lib/python3.7/dist-packages (from matplotlib>=3.2.2->-r requirements.txt (line 4)) (0.10.0)\n",
            "Requirement already satisfied: typing-extensions in /usr/local/lib/python3.7/dist-packages (from torch>=1.7.0->-r requirements.txt (line 10)) (3.7.4.3)\n",
            "Requirement already satisfied: google-auth-oauthlib<0.5,>=0.4.1 in /usr/local/lib/python3.7/dist-packages (from tensorboard>=2.4.1->-r requirements.txt (line 15)) (0.4.5)\n",
            "Requirement already satisfied: absl-py>=0.4 in /usr/local/lib/python3.7/dist-packages (from tensorboard>=2.4.1->-r requirements.txt (line 15)) (0.12.0)\n",
            "Requirement already satisfied: requests<3,>=2.21.0 in /usr/local/lib/python3.7/dist-packages (from tensorboard>=2.4.1->-r requirements.txt (line 15)) (2.23.0)\n",
            "Requirement already satisfied: wheel>=0.26 in /usr/local/lib/python3.7/dist-packages (from tensorboard>=2.4.1->-r requirements.txt (line 15)) (0.37.0)\n",
            "Requirement already satisfied: google-auth<2,>=1.6.3 in /usr/local/lib/python3.7/dist-packages (from tensorboard>=2.4.1->-r requirements.txt (line 15)) (1.34.0)\n",
            "Requirement already satisfied: markdown>=2.6.8 in /usr/local/lib/python3.7/dist-packages (from tensorboard>=2.4.1->-r requirements.txt (line 15)) (3.3.4)\n",
            "Requirement already satisfied: tensorboard-data-server<0.7.0,>=0.6.0 in /usr/local/lib/python3.7/dist-packages (from tensorboard>=2.4.1->-r requirements.txt (line 15)) (0.6.1)\n",
            "Requirement already satisfied: protobuf>=3.6.0 in /usr/local/lib/python3.7/dist-packages (from tensorboard>=2.4.1->-r requirements.txt (line 15)) (3.17.3)\n",
            "Requirement already satisfied: tensorboard-plugin-wit>=1.6.0 in /usr/local/lib/python3.7/dist-packages (from tensorboard>=2.4.1->-r requirements.txt (line 15)) (1.8.0)\n",
            "Requirement already satisfied: werkzeug>=0.11.15 in /usr/local/lib/python3.7/dist-packages (from tensorboard>=2.4.1->-r requirements.txt (line 15)) (1.0.1)\n",
            "Requirement already satisfied: grpcio>=1.24.3 in /usr/local/lib/python3.7/dist-packages (from tensorboard>=2.4.1->-r requirements.txt (line 15)) (1.39.0)\n",
            "Requirement already satisfied: setuptools>=41.0.0 in /usr/local/lib/python3.7/dist-packages (from tensorboard>=2.4.1->-r requirements.txt (line 15)) (57.4.0)\n",
            "Requirement already satisfied: pytz>=2017.3 in /usr/local/lib/python3.7/dist-packages (from pandas->-r requirements.txt (line 20)) (2018.9)\n",
            "Requirement already satisfied: six in /usr/local/lib/python3.7/dist-packages (from absl-py>=0.4->tensorboard>=2.4.1->-r requirements.txt (line 15)) (1.15.0)\n",
            "Requirement already satisfied: rsa<5,>=3.1.4 in /usr/local/lib/python3.7/dist-packages (from google-auth<2,>=1.6.3->tensorboard>=2.4.1->-r requirements.txt (line 15)) (4.7.2)\n",
            "Requirement already satisfied: pyasn1-modules>=0.2.1 in /usr/local/lib/python3.7/dist-packages (from google-auth<2,>=1.6.3->tensorboard>=2.4.1->-r requirements.txt (line 15)) (0.2.8)\n",
            "Requirement already satisfied: cachetools<5.0,>=2.0.0 in /usr/local/lib/python3.7/dist-packages (from google-auth<2,>=1.6.3->tensorboard>=2.4.1->-r requirements.txt (line 15)) (4.2.2)\n",
            "Requirement already satisfied: requests-oauthlib>=0.7.0 in /usr/local/lib/python3.7/dist-packages (from google-auth-oauthlib<0.5,>=0.4.1->tensorboard>=2.4.1->-r requirements.txt (line 15)) (1.3.0)\n",
            "Requirement already satisfied: importlib-metadata in /usr/local/lib/python3.7/dist-packages (from markdown>=2.6.8->tensorboard>=2.4.1->-r requirements.txt (line 15)) (4.6.4)\n",
            "Requirement already satisfied: pyasn1<0.5.0,>=0.4.6 in /usr/local/lib/python3.7/dist-packages (from pyasn1-modules>=0.2.1->google-auth<2,>=1.6.3->tensorboard>=2.4.1->-r requirements.txt (line 15)) (0.4.8)\n",
            "Requirement already satisfied: idna<3,>=2.5 in /usr/local/lib/python3.7/dist-packages (from requests<3,>=2.21.0->tensorboard>=2.4.1->-r requirements.txt (line 15)) (2.10)\n",
            "Requirement already satisfied: certifi>=2017.4.17 in /usr/local/lib/python3.7/dist-packages (from requests<3,>=2.21.0->tensorboard>=2.4.1->-r requirements.txt (line 15)) (2021.5.30)\n",
            "Requirement already satisfied: urllib3!=1.25.0,!=1.25.1,<1.26,>=1.21.1 in /usr/local/lib/python3.7/dist-packages (from requests<3,>=2.21.0->tensorboard>=2.4.1->-r requirements.txt (line 15)) (1.24.3)\n",
            "Requirement already satisfied: chardet<4,>=3.0.2 in /usr/local/lib/python3.7/dist-packages (from requests<3,>=2.21.0->tensorboard>=2.4.1->-r requirements.txt (line 15)) (3.0.4)\n",
            "Requirement already satisfied: oauthlib>=3.0.0 in /usr/local/lib/python3.7/dist-packages (from requests-oauthlib>=0.7.0->google-auth-oauthlib<0.5,>=0.4.1->tensorboard>=2.4.1->-r requirements.txt (line 15)) (3.1.1)\n",
            "Requirement already satisfied: zipp>=0.5 in /usr/local/lib/python3.7/dist-packages (from importlib-metadata->markdown>=2.6.8->tensorboard>=2.4.1->-r requirements.txt (line 15)) (3.5.0)\n",
            "Installing collected packages: Pillow, numpy, scipy, pandas, matplotlib, tqdm, thop, seaborn, PyYAML, opencv-python\n",
            "  Attempting uninstall: Pillow\n",
            "    Found existing installation: Pillow 7.1.2\n",
            "    Uninstalling Pillow-7.1.2:\n",
            "      Successfully uninstalled Pillow-7.1.2\n",
            "  Attempting uninstall: numpy\n",
            "    Found existing installation: numpy 1.19.5\n",
            "    Uninstalling numpy-1.19.5:\n",
            "      Successfully uninstalled numpy-1.19.5\n",
            "  Attempting uninstall: scipy\n",
            "    Found existing installation: scipy 1.4.1\n",
            "    Uninstalling scipy-1.4.1:\n",
            "      Successfully uninstalled scipy-1.4.1\n",
            "  Attempting uninstall: pandas\n",
            "    Found existing installation: pandas 1.1.5\n",
            "    Uninstalling pandas-1.1.5:\n",
            "      Successfully uninstalled pandas-1.1.5\n",
            "  Attempting uninstall: matplotlib\n",
            "    Found existing installation: matplotlib 3.2.2\n",
            "    Uninstalling matplotlib-3.2.2:\n",
            "      Successfully uninstalled matplotlib-3.2.2\n",
            "  Attempting uninstall: tqdm\n",
            "    Found existing installation: tqdm 4.62.0\n",
            "    Uninstalling tqdm-4.62.0:\n",
            "      Successfully uninstalled tqdm-4.62.0\n",
            "  Attempting uninstall: seaborn\n",
            "    Found existing installation: seaborn 0.11.1\n",
            "    Uninstalling seaborn-0.11.1:\n",
            "      Successfully uninstalled seaborn-0.11.1\n",
            "  Attempting uninstall: PyYAML\n",
            "    Found existing installation: PyYAML 3.13\n",
            "    Uninstalling PyYAML-3.13:\n",
            "      Successfully uninstalled PyYAML-3.13\n",
            "  Attempting uninstall: opencv-python\n",
            "    Found existing installation: opencv-python 4.1.2.30\n",
            "    Uninstalling opencv-python-4.1.2.30:\n",
            "      Successfully uninstalled opencv-python-4.1.2.30\n",
            "\u001b[31mERROR: pip's dependency resolver does not currently take into account all the packages that are installed. This behaviour is the source of the following dependency conflicts.\n",
            "tensorflow 2.6.0 requires numpy~=1.19.2, but you have numpy 1.21.2 which is incompatible.\n",
            "google-colab 1.0.0 requires pandas~=1.1.0; python_version >= \"3.0\", but you have pandas 1.3.3 which is incompatible.\n",
            "datascience 0.10.6 requires folium==0.2.1, but you have folium 0.8.3 which is incompatible.\u001b[0m\n",
            "Successfully installed Pillow-8.3.2 PyYAML-5.4.1 matplotlib-3.4.3 numpy-1.21.2 opencv-python-4.5.3.56 pandas-1.3.3 scipy-1.7.1 seaborn-0.11.2 thop-0.0.31.post2005241907 tqdm-4.62.2\n"
          ]
        },
        {
          "output_type": "display_data",
          "data": {
            "application/vnd.colab-display-data+json": {
              "pip_warning": {
                "packages": [
                  "PIL",
                  "matplotlib",
                  "mpl_toolkits",
                  "numpy",
                  "pandas"
                ]
              }
            }
          },
          "metadata": {}
        }
      ]
    },
    {
      "cell_type": "markdown",
      "metadata": {
        "id": "SzJJe4N5lht9"
      },
      "source": [
        "2. customized 모델에 사용할 데이터셋 만들기"
      ]
    },
    {
      "cell_type": "code",
      "metadata": {
        "colab": {
          "base_uri": "https://localhost:8080/"
        },
        "id": "UJXpbaxN1eEq",
        "outputId": "96c1c28c-fb87-47d1-9b2f-c82d6355e292"
      },
      "source": [
        "! pip install -U PyYAML"
      ],
      "execution_count": null,
      "outputs": [
        {
          "output_type": "stream",
          "name": "stdout",
          "text": [
            "Requirement already satisfied: PyYAML in /usr/local/lib/python3.7/dist-packages (5.4.1)\n"
          ]
        }
      ]
    },
    {
      "cell_type": "code",
      "metadata": {
        "colab": {
          "base_uri": "https://localhost:8080/"
        },
        "id": "24FsdE701qpD",
        "outputId": "30ff41b6-4e26-4b6c-ab8f-0793463673bf"
      },
      "source": [
        "%cd /content/yolov5"
      ],
      "execution_count": null,
      "outputs": [
        {
          "output_type": "stream",
          "name": "stdout",
          "text": [
            "/content/yolov5\n"
          ]
        }
      ]
    },
    {
      "cell_type": "code",
      "metadata": {
        "colab": {
          "base_uri": "https://localhost:8080/"
        },
        "id": "NkCQOCG-gRNC",
        "outputId": "c6cf9ffc-7456-41f7-afc3-9468aa44eba0"
      },
      "source": [
        "%cat /content/drive/MyDrive/dataset/data.yaml"
      ],
      "execution_count": null,
      "outputs": [
        {
          "output_type": "stream",
          "name": "stdout",
          "text": [
            "train: /content/drive/MyDrive/images/train/  #train 데이터셋이 있는 디렉토리\r\n",
            "val: /content/drive/MyDrive/images/val/     #val 데이터셋이 있는 디렉토리\r\n",
            "\r\n",
            "# number of classes\r\n",
            "nc : 2\r\n",
            "\r\n",
            "# class names\r\n",
            "name: ['car','man']"
          ]
        }
      ]
    },
    {
      "cell_type": "code",
      "metadata": {
        "colab": {
          "base_uri": "https://localhost:8080/"
        },
        "id": "pQ4d8iiQfeVj",
        "outputId": "3ed1584c-a68d-4e90-ad76-3a7d4f6f9d35"
      },
      "source": [
        "#this is the model configuration we will use for our tutorial \n",
        "\n",
        "%cat /content/yolov5/models/yolov5s.yaml"
      ],
      "execution_count": null,
      "outputs": [
        {
          "output_type": "stream",
          "name": "stdout",
          "text": [
            "# YOLOv5 🚀 by Ultralytics, GPL-3.0 license\r\n",
            "\r\n",
            "# Parameters\r\n",
            "nc: 2  # number of classes\r\n",
            "depth_multiple: 0.33  # model depth multiple\r\n",
            "width_multiple: 0.50  # layer channel multiple\r\n",
            "anchors:\r\n",
            "  - [10,13, 16,30, 33,23]  # P3/8\r\n",
            "  - [30,61, 62,45, 59,119]  # P4/16\r\n",
            "  - [116,90, 156,198, 373,326]  # P5/32\r\n",
            "\r\n",
            "# YOLOv5 backbone\r\n",
            "backbone:\r\n",
            "  # [from, number, module, args]\r\n",
            "  [[-1, 1, Focus, [64, 3]],  # 0-P1/2\r\n",
            "   [-1, 1, Conv, [128, 3, 2]],  # 1-P2/4\r\n",
            "   [-1, 3, C3, [128]],\r\n",
            "   [-1, 1, Conv, [256, 3, 2]],  # 3-P3/8\r\n",
            "   [-1, 9, C3, [256]],\r\n",
            "   [-1, 1, Conv, [512, 3, 2]],  # 5-P4/16\r\n",
            "   [-1, 9, C3, [512]],\r\n",
            "   [-1, 1, Conv, [1024, 3, 2]],  # 7-P5/32\r\n",
            "   [-1, 1, SPP, [1024, [5, 9, 13]]],\r\n",
            "   [-1, 3, C3, [1024, False]],  # 9\r\n",
            "  ]\r\n",
            "\r\n",
            "# YOLOv5 head\r\n",
            "head:\r\n",
            "  [[-1, 1, Conv, [512, 1, 1]],\r\n",
            "   [-1, 1, nn.Upsample, [None, 2, 'nearest']],\r\n",
            "   [[-1, 6], 1, Concat, [1]],  # cat backbone P4\r\n",
            "   [-1, 3, C3, [512, False]],  # 13\r\n",
            "\r\n",
            "   [-1, 1, Conv, [256, 1, 1]],\r\n",
            "   [-1, 1, nn.Upsample, [None, 2, 'nearest']],\r\n",
            "   [[-1, 4], 1, Concat, [1]],  # cat backbone P3\r\n",
            "   [-1, 3, C3, [256, False]],  # 17 (P3/8-small)\r\n",
            "\r\n",
            "   [-1, 1, Conv, [256, 3, 2]],\r\n",
            "   [[-1, 14], 1, Concat, [1]],  # cat head P4\r\n",
            "   [-1, 3, C3, [512, False]],  # 20 (P4/16-medium)\r\n",
            "\r\n",
            "   [-1, 1, Conv, [512, 3, 2]],\r\n",
            "   [[-1, 10], 1, Concat, [1]],  # cat head P5\r\n",
            "   [-1, 3, C3, [1024, False]],  # 23 (P5/32-large)\r\n",
            "\r\n",
            "   [[17, 20, 23], 1, Detect, [nc, anchors]],  # Detect(P3, P4, P5)\r\n",
            "  ]"
          ]
        }
      ]
    },
    {
      "cell_type": "code",
      "metadata": {
        "colab": {
          "base_uri": "https://localhost:8080/"
        },
        "id": "hhQbIuqt2LUq",
        "outputId": "d93d59c7-5523-4dd9-bf47-51af099e9906"
      },
      "source": [
        "# Train YOLOv5s on COCO128 for 3 epochs\n",
        "#$ python train.py --img 640 --batch 16 --epochs 3 --data coco128.yaml --weights yolov5s.pt\n",
        "# python train.py --img 640 --batch 16 --epochs 5 --data data/coco128.yaml --cfg models/yolov5s.yaml --weights weights/yolov5s.pt\n",
        "!python train.py --img 640 --batch 30 --epochs 10 --data /content/drive/MyDrive/dataset/data.yaml --cfg /content/yolov5/models/yolov5s.yaml --weights /content/yolov5/yolov5/yolov5s.pt"
      ],
      "execution_count": null,
      "outputs": [
        {
          "output_type": "stream",
          "name": "stdout",
          "text": [
            "\u001b[34m\u001b[1mtrain: \u001b[0mweights=/content/yolov5/yolov5/yolov5s.pt, cfg=/content/yolov5/models/yolov5s.yaml, data=/content/drive/MyDrive/dataset/data.yaml, hyp=data/hyps/hyp.scratch.yaml, epochs=10, batch_size=30, imgsz=640, rect=False, resume=False, nosave=False, noval=False, noautoanchor=False, evolve=None, bucket=, cache=None, image_weights=False, device=, multi_scale=False, single_cls=False, adam=False, sync_bn=False, workers=8, project=runs/train, entity=None, name=exp, exist_ok=False, quad=False, linear_lr=False, label_smoothing=0.0, upload_dataset=False, bbox_interval=-1, save_period=-1, artifact_alias=latest, local_rank=-1, freeze=0, patience=100\n",
            "\u001b[34m\u001b[1mgithub: \u001b[0mup to date with https://github.com/ultralytics/yolov5 ✅\n",
            "YOLOv5 🚀 v5.0-433-g621b6d5 torch 1.9.0+cu102 CPU\n",
            "\n",
            "\u001b[34m\u001b[1mhyperparameters: \u001b[0mlr0=0.01, lrf=0.2, momentum=0.937, weight_decay=0.0005, warmup_epochs=3.0, warmup_momentum=0.8, warmup_bias_lr=0.1, box=0.05, cls=0.5, cls_pw=1.0, obj=1.0, obj_pw=1.0, iou_t=0.2, anchor_t=4.0, fl_gamma=0.0, hsv_h=0.015, hsv_s=0.7, hsv_v=0.4, degrees=0.0, translate=0.1, scale=0.5, shear=0.0, perspective=0.0, flipud=0.0, fliplr=0.5, mosaic=1.0, mixup=0.0, copy_paste=0.0\n",
            "\u001b[34m\u001b[1mWeights & Biases: \u001b[0mrun 'pip install wandb' to automatically track and visualize YOLOv5 🚀 runs (RECOMMENDED)\n",
            "\u001b[34m\u001b[1mTensorBoard: \u001b[0mStart with 'tensorboard --logdir runs/train', view at http://localhost:6006/\n",
            "\n",
            "                 from  n    params  module                                  arguments                     \n",
            "  0                -1  1      3520  models.common.Focus                     [3, 32, 3]                    \n",
            "  1                -1  1     18560  models.common.Conv                      [32, 64, 3, 2]                \n",
            "  2                -1  1     18816  models.common.C3                        [64, 64, 1]                   \n",
            "  3                -1  1     73984  models.common.Conv                      [64, 128, 3, 2]               \n",
            "  4                -1  3    156928  models.common.C3                        [128, 128, 3]                 \n",
            "  5                -1  1    295424  models.common.Conv                      [128, 256, 3, 2]              \n",
            "  6                -1  3    625152  models.common.C3                        [256, 256, 3]                 \n",
            "  7                -1  1   1180672  models.common.Conv                      [256, 512, 3, 2]              \n",
            "  8                -1  1    656896  models.common.SPP                       [512, 512, [5, 9, 13]]        \n",
            "  9                -1  1   1182720  models.common.C3                        [512, 512, 1, False]          \n",
            " 10                -1  1    131584  models.common.Conv                      [512, 256, 1, 1]              \n",
            " 11                -1  1         0  torch.nn.modules.upsampling.Upsample    [None, 2, 'nearest']          \n",
            " 12           [-1, 6]  1         0  models.common.Concat                    [1]                           \n",
            " 13                -1  1    361984  models.common.C3                        [512, 256, 1, False]          \n",
            " 14                -1  1     33024  models.common.Conv                      [256, 128, 1, 1]              \n",
            " 15                -1  1         0  torch.nn.modules.upsampling.Upsample    [None, 2, 'nearest']          \n",
            " 16           [-1, 4]  1         0  models.common.Concat                    [1]                           \n",
            " 17                -1  1     90880  models.common.C3                        [256, 128, 1, False]          \n",
            " 18                -1  1    147712  models.common.Conv                      [128, 128, 3, 2]              \n",
            " 19          [-1, 14]  1         0  models.common.Concat                    [1]                           \n",
            " 20                -1  1    296448  models.common.C3                        [256, 256, 1, False]          \n",
            " 21                -1  1    590336  models.common.Conv                      [256, 256, 3, 2]              \n",
            " 22          [-1, 10]  1         0  models.common.Concat                    [1]                           \n",
            " 23                -1  1   1182720  models.common.C3                        [512, 512, 1, False]          \n",
            " 24      [17, 20, 23]  1     18879  models.yolo.Detect                      [2, [[10, 13, 16, 30, 33, 23], [30, 61, 62, 45, 59, 119], [116, 90, 156, 198, 373, 326]], [128, 256, 512]]\n",
            "Model Summary: 283 layers, 7066239 parameters, 7066239 gradients, 16.4 GFLOPs\n",
            "\n",
            "Transferred 354/362 items from /content/yolov5/yolov5/yolov5s.pt\n",
            "Scaled weight_decay = 0.00046875\n",
            "\u001b[34m\u001b[1moptimizer:\u001b[0m SGD with parameter groups 59 weight, 62 weight (no decay), 62 bias\n",
            "\u001b[34m\u001b[1malbumentations: \u001b[0mversion 1.0.3 required by YOLOv5, but version 0.1.12 is currently installed\n",
            "\u001b[34m\u001b[1mtrain: \u001b[0mScanning '/content/drive/MyDrive/labels/train.cache' images and labels... 0 found, 2 missing, 0 empty, 0 corrupted: 100% 2/2 [00:00<?, ?it/s]\n",
            "Traceback (most recent call last):\n",
            "  File \"train.py\", line 611, in <module>\n",
            "    main(opt)\n",
            "  File \"train.py\", line 509, in main\n",
            "    train(opt.hyp, opt, device, callbacks)\n",
            "  File \"train.py\", line 210, in train\n",
            "    prefix=colorstr('train: '))\n",
            "  File \"/content/yolov5/utils/datasets.py\", line 107, in create_dataloader\n",
            "    prefix=prefix)\n",
            "  File \"/content/yolov5/utils/datasets.py\", line 418, in __init__\n",
            "    assert nf > 0 or not augment, f'{prefix}No labels in {cache_path}. Can not train without labels. See {HELP_URL}'\n",
            "AssertionError: \u001b[34m\u001b[1mtrain: \u001b[0mNo labels in /content/drive/MyDrive/labels/train.cache. Can not train without labels. See https://github.com/ultralytics/yolov5/wiki/Train-Custom-Data\n"
          ]
        }
      ]
    }
  ]
}