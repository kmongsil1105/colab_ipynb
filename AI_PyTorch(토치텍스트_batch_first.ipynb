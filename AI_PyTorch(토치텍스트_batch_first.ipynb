{
  "nbformat": 4,
  "nbformat_minor": 0,
  "metadata": {
    "colab": {
      "name": "AI_PyTorch(토치텍스트 -batch_first.ipynb",
      "provenance": [],
      "collapsed_sections": [],
      "authorship_tag": "ABX9TyNK4vvGiANFlg398fXEJFrH",
      "include_colab_link": true
    },
    "kernelspec": {
      "name": "python3",
      "display_name": "Python 3"
    },
    "language_info": {
      "name": "python"
    }
  },
  "cells": [
    {
      "cell_type": "markdown",
      "metadata": {
        "id": "view-in-github",
        "colab_type": "text"
      },
      "source": [
        "<a href=\"https://colab.research.google.com/github/kmongsil1105/colab_ipynb/blob/main/AI_PyTorch(%ED%86%A0%EC%B9%98%ED%85%8D%EC%8A%A4%ED%8A%B8_batch_first.ipynb\" target=\"_parent\"><img src=\"https://colab.research.google.com/assets/colab-badge.svg\" alt=\"Open In Colab\"/></a>"
      ]
    },
    {
      "cell_type": "code",
      "metadata": {
        "colab": {
          "base_uri": "https://localhost:8080/"
        },
        "id": "q6_QpuFV50i7",
        "outputId": "e88c7335-0dc6-479f-cc34-034b5ccfa1d4"
      },
      "source": [
        "!pip3 install nltk\n",
        "\n",
        "!pip3 install -U torchtext "
      ],
      "execution_count": null,
      "outputs": [
        {
          "output_type": "stream",
          "name": "stdout",
          "text": [
            "Requirement already satisfied: nltk in /usr/local/lib/python3.7/dist-packages (3.2.5)\n",
            "Requirement already satisfied: six in /usr/local/lib/python3.7/dist-packages (from nltk) (1.15.0)\n",
            "Requirement already satisfied: torchtext in /usr/local/lib/python3.7/dist-packages (0.10.0)\n",
            "Requirement already satisfied: torch==1.9.0 in /usr/local/lib/python3.7/dist-packages (from torchtext) (1.9.0+cu102)\n",
            "Requirement already satisfied: requests in /usr/local/lib/python3.7/dist-packages (from torchtext) (2.23.0)\n",
            "Requirement already satisfied: numpy in /usr/local/lib/python3.7/dist-packages (from torchtext) (1.19.5)\n",
            "Requirement already satisfied: tqdm in /usr/local/lib/python3.7/dist-packages (from torchtext) (4.62.0)\n",
            "Requirement already satisfied: typing-extensions in /usr/local/lib/python3.7/dist-packages (from torch==1.9.0->torchtext) (3.7.4.3)\n",
            "Requirement already satisfied: urllib3!=1.25.0,!=1.25.1,<1.26,>=1.21.1 in /usr/local/lib/python3.7/dist-packages (from requests->torchtext) (1.24.3)\n",
            "Requirement already satisfied: certifi>=2017.4.17 in /usr/local/lib/python3.7/dist-packages (from requests->torchtext) (2021.5.30)\n",
            "Requirement already satisfied: idna<3,>=2.5 in /usr/local/lib/python3.7/dist-packages (from requests->torchtext) (2.10)\n",
            "Requirement already satisfied: chardet<4,>=3.0.2 in /usr/local/lib/python3.7/dist-packages (from requests->torchtext) (3.0.4)\n"
          ]
        }
      ]
    },
    {
      "cell_type": "code",
      "metadata": {
        "id": "RuxrnGkx5803"
      },
      "source": [
        "import nltk\n",
        "import tensorflow as tf\n",
        "import torch"
      ],
      "execution_count": null,
      "outputs": []
    },
    {
      "cell_type": "code",
      "metadata": {
        "id": "iWD-ZOLG5_0j"
      },
      "source": [
        "import urllib.request  # not define 에서시는 \"from urllib import request\"\n",
        "import pandas as pd\n",
        "# import urllib\n",
        "# from urllib import request\n",
        "#import pandas as pd"
      ],
      "execution_count": null,
      "outputs": []
    },
    {
      "cell_type": "code",
      "metadata": {
        "colab": {
          "base_uri": "https://localhost:8080/"
        },
        "id": "ZbzmIObX6DDP",
        "outputId": "c49f0b19-30b6-427f-a614-c11abf53588a"
      },
      "source": [
        "urllib.request.urlretrieve(\"https://raw.githubusercontent.com/LawrenceDuan/IMDb-Review-Analysis/master/IMDb_Reviews.csv\", filename=\"IMDb_Reviews.csv\")"
      ],
      "execution_count": null,
      "outputs": [
        {
          "output_type": "execute_result",
          "data": {
            "text/plain": [
              "('IMDb_Reviews.csv', <http.client.HTTPMessage at 0x7ff420741b90>)"
            ]
          },
          "metadata": {},
          "execution_count": 4
        }
      ]
    },
    {
      "cell_type": "code",
      "metadata": {
        "id": "FcyHuyCG6D69"
      },
      "source": [
        "df = pd.read_csv('IMDb_Reviews.csv', encoding='latin1')\n"
      ],
      "execution_count": null,
      "outputs": []
    },
    {
      "cell_type": "code",
      "metadata": {
        "colab": {
          "base_uri": "https://localhost:8080/"
        },
        "id": "gUlDv6iG6HtV",
        "outputId": "20ae1d0a-287e-4b7e-aafe-5bdf3d10b47e"
      },
      "source": [
        "# 전체 샘플의 개수를 보겠습니다.\n",
        "print('전체 샘플의 개수 : {}'.format(len(df)))"
      ],
      "execution_count": null,
      "outputs": [
        {
          "output_type": "stream",
          "name": "stdout",
          "text": [
            "전체 샘플의 개수 : 50000\n"
          ]
        }
      ]
    },
    {
      "cell_type": "code",
      "metadata": {
        "id": "ZUU4xcqV6XW-"
      },
      "source": [
        "# 전체 샘플의 개수는 50,000개입니다. 25,000개씩 분리하여 훈련 데이터와 테스트 데이터로 분리해보겠습니다.\n",
        "\n",
        "train_df = df[:25000]\n",
        "test_df = df[25000:]"
      ],
      "execution_count": null,
      "outputs": []
    },
    {
      "cell_type": "code",
      "metadata": {
        "id": "hZ9dxOzs6c6J"
      },
      "source": [
        "# 상위 25,000개의 행은 train_df에 하위 25,000개의 행은 test_df에 저장하였습니다.\n",
        "train_df.to_csv(\"train_data.csv\", index=False)\n",
        "test_df.to_csv(\"test_data.csv\", index=False)"
      ],
      "execution_count": null,
      "outputs": []
    },
    {
      "cell_type": "code",
      "metadata": {
        "id": "JIZ2aMzr6ly9"
      },
      "source": [
        "from torchtext.legacy import data # torchtext.data 임포트\n",
        "\n",
        "# 필드 정의\n",
        "TEXT = data.Field(sequential=True,\n",
        "                  use_vocab=True,\n",
        "                  tokenize=str.split,\n",
        "                  lower=True,\n",
        "                  batch_first=True, # <== 이 부분을 True로 합니다.\n",
        "                  fix_length=20)\n",
        " # batch_first : 미니 배치 차원을 맨 앞으로 하여 데이터를 불러올 것인지 여부. (False가 기본값)\n",
        "LABEL = data.Field(sequential=False,\n",
        "                   use_vocab=False,\n",
        "                   batch_first=False,\n",
        "                   is_target=True)"
      ],
      "execution_count": null,
      "outputs": []
    },
    {
      "cell_type": "markdown",
      "metadata": {
        "id": "EcyOTtoB8lhr"
      },
      "source": [
        " 현 위치의 위,아래 코드 중에서 하나만 실행!!!\n",
        "\n",
        " 필드 정의할 때 batch_first=True 인자를 넣느냐, 넣지 않느냐의 차이!!!"
      ]
    },
    {
      "cell_type": "code",
      "metadata": {
        "id": "ZGi3FgzS8RTs"
      },
      "source": [
        "#\n",
        "# 필드 재정의하기(torchtext.data)\n",
        "####################################\n",
        "\n",
        "from torchtext.legacy import data # torchtext.data 임포트\n",
        "# 필드 정의\n",
        "#TEXT = data.Field(sequential=True,\n",
        "#                  use_vocab=True,\n",
        "#                  tokenize=str.split,\n",
        "#                  lower=True,\n",
        "#                  \" batch_first=True, \" # <== 이 부분을 True로 합니다.\n",
        "#                  fix_length=20)\n",
        "# batch_first : 미니 배치 차원을 맨 앞으로 하여 데이터를 불러올 것인지 여부. (False가 기본값)\n",
        "#LABEL = data.Field(sequential=False,\n",
        "#                   use_vocab=False,\n",
        "#                   batch_first=False,\n",
        "#                   is_target=True)\n",
        "# 필드 정의\n",
        "TEXT = data.Field(sequential=True,\n",
        "                  use_vocab=True,\n",
        "                  tokenize=str.split,\n",
        "                  lower=True,      # TEXT 필드에서 batch_first = True 인자를 제거하였습니다. \n",
        "                  fix_length=20)   # 기본값이 False이므로 batch_first의 값이 False가 됩니다..\n",
        "\n",
        "LABEL = data.Field(sequential=False,\n",
        "                   use_vocab=False,\n",
        "                   batch_first=False,\n",
        "                   is_target=True)"
      ],
      "execution_count": null,
      "outputs": []
    },
    {
      "cell_type": "markdown",
      "metadata": {
        "id": "bcbHrjaK8Khu"
      },
      "source": [
        " -- 3. 데이터셋 / 단어 집합 / 데이터로더 만들기 --"
      ]
    },
    {
      "cell_type": "code",
      "metadata": {
        "id": "kAK2E3by60zF"
      },
      "source": [
        "from torchtext.legacy.data import TabularDataset\n",
        "from torchtext.legacy.data import Iterator\n",
        "\n",
        "# TabularDataset은 데이터를 불러오면서 필드에서 정의했던 토큰화 방법으로 토큰화를 수행합니다.\n",
        "train_data, test_data = TabularDataset.splits(\n",
        "        path='.', train='train_data.csv', test='test_data.csv', format='csv',\n",
        "        fields=[('text', TEXT), ('label', LABEL)], skip_header=True)\n",
        "\n",
        "# 정의한 필드에 .build_vocab() 도구를 사용하면 단어 집합을 생성합니다.\n",
        "TEXT.build_vocab(train_data, min_freq=10, max_size=10000) # 10,000개의 단어를 가진 단어 집합 생성\n",
        "\n",
        "# 배치 크기를 정하고 첫번째 배치를 출력해보겠습니다.\n",
        "batch_size = 5\n",
        "train_loader = Iterator(dataset=train_data, batch_size = batch_size)\n",
        "batch = next(iter(train_loader)) # 첫번째 미니배치"
      ],
      "execution_count": null,
      "outputs": []
    },
    {
      "cell_type": "code",
      "metadata": {
        "colab": {
          "base_uri": "https://localhost:8080/"
        },
        "id": "4A_8adyO69y1",
        "outputId": "a7bfcf97-6091-49a8-8deb-35e1d7dfb1a8"
      },
      "source": [
        "print(batch.text)"
      ],
      "execution_count": null,
      "outputs": [
        {
          "output_type": "stream",
          "name": "stdout",
          "text": [
            "tensor([[   2, 1818,   10,   11, 3126],\n",
            "        [ 308,   10,    7,    7,    2],\n",
            "        [  12,   20,  314,   87,  348],\n",
            "        [ 259,  513,   30,    6, 2461],\n",
            "        [  91,   37,    5,   66,   35],\n",
            "        [   5,    9,    2,    3, 4697],\n",
            "        [   0,  350,   78,  163, 1937],\n",
            "        [ 129,   18,  553,    0,  144],\n",
            "        [   3,   24,  125,    5,  353],\n",
            "        [   0, 1369,    5, 5760,   10],\n",
            "        [   0,  312,   36, 1865,  422],\n",
            "        [ 262,    6,  289, 7382,  138],\n",
            "        [   0,  109,   43,    8,   48],\n",
            "        [3815,   11, 2938,   10,    3],\n",
            "        [  20,   15,    0, 1243,  739],\n",
            "        [   7,   81,  945,    9,  158],\n",
            "        [   0,  258, 3911,  235,   27],\n",
            "        [   2,    3,    4,   10,  205],\n",
            "        [ 417,  109, 3905, 5859,    0],\n",
            "        [ 974,  440,    0,    3,   13]])\n"
          ]
        }
      ]
    },
    {
      "cell_type": "code",
      "metadata": {
        "colab": {
          "base_uri": "https://localhost:8080/"
        },
        "id": "dylMwHE-7Dj0",
        "outputId": "5cb23392-7bc5-4d46-9abb-48ef7b033e39"
      },
      "source": [
        "print(batch.text.shape)"
      ],
      "execution_count": null,
      "outputs": [
        {
          "output_type": "stream",
          "name": "stdout",
          "text": [
            "torch.Size([20, 5])\n"
          ]
        }
      ]
    }
  ]
}