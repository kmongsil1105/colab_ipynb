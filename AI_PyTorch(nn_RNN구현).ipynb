{
  "nbformat": 4,
  "nbformat_minor": 0,
  "metadata": {
    "colab": {
      "name": "AI_PyTorch(nn.RNN구현).ipynb",
      "provenance": [],
      "collapsed_sections": [],
      "authorship_tag": "ABX9TyOE/6C2lScUe1mQCMIiJwuG",
      "include_colab_link": true
    },
    "kernelspec": {
      "name": "python3",
      "display_name": "Python 3"
    },
    "language_info": {
      "name": "python"
    },
    "accelerator": "GPU"
  },
  "cells": [
    {
      "cell_type": "markdown",
      "metadata": {
        "id": "view-in-github",
        "colab_type": "text"
      },
      "source": [
        "<a href=\"https://colab.research.google.com/github/kmongsil1105/colab_ipynb/blob/main/AI_PyTorch(nn_RNN%EA%B5%AC%ED%98%84).ipynb\" target=\"_parent\"><img src=\"https://colab.research.google.com/assets/colab-badge.svg\" alt=\"Open In Colab\"/></a>"
      ]
    },
    {
      "cell_type": "markdown",
      "metadata": {
        "id": "dTKO9J3midDe"
      },
      "source": [
        "# RNN 층을 실제 동작되는 코드로 구현해보겠습니다"
      ]
    },
    {
      "cell_type": "markdown",
      "metadata": {
        "id": "eP5uKg9-iiPF"
      },
      "source": [
        " * 아래의 코드는 이해를 돕기 위해 (timesteps, input_size) 크기의 2D 텐서를 입력으로 받았다고 가정하였으나, \n",
        " \n",
        " 실제로 파이토치에서는 (batch_size, timesteps, input_size)의 크기의 3D 텐서를 입력으로 받는 것을 기억합시다."
      ]
    },
    {
      "cell_type": "code",
      "metadata": {
        "id": "9_3TYiQiiZMw"
      },
      "source": [
        "import numpy as np\n",
        "\n",
        "timesteps = 10 # 시점의 수. NLP에서는 보통 문장의 길이가 된다.\n",
        "input_size = 4 # 입력의 차원. NLP에서는 보통 단어 벡터의 차원이 된다.\n",
        "hidden_size = 8 # 은닉 상태의 크기. 메모리 셀의 용량이다.\n",
        "\n",
        "inputs = np.random.random((timesteps, input_size)) # 입력에 해당되는 2D 텐서\n",
        "\n",
        "hidden_state_t = np.zeros((hidden_size,)) # 초기 은닉 상태는 0(벡터)로 초기화\n",
        "# 은닉 상태의 크기 hidden_size로 은닉 상태를 만듬."
      ],
      "execution_count": null,
      "outputs": []
    },
    {
      "cell_type": "markdown",
      "metadata": {
        "id": "wUO0UHPiirUx"
      },
      "source": [
        " * 우선 시점, 입력의 차원, 은닉 상태의 크기, 그리고 초기 은닉 상태를 정의하였습니다. 현재 초기 은닉 상태는 0의 값을 가지는 벡터로 초기화가 된 상태입니다. 초기 은닉 상태를 출력해보겠습니다."
      ]
    },
    {
      "cell_type": "code",
      "metadata": {
        "colab": {
          "base_uri": "https://localhost:8080/"
        },
        "id": "2dSPPzDMiurq",
        "outputId": "61b48e6d-aad2-424c-ca3f-286aa369918b"
      },
      "source": [
        "print(hidden_state_t) # 8의 크기를 가지는 은닉 상태. 현재는 초기 은닉 상태로 모든 차원이 0의 값을 가짐."
      ],
      "execution_count": null,
      "outputs": [
        {
          "output_type": "stream",
          "name": "stdout",
          "text": [
            "[0. 0. 0. 0. 0. 0. 0. 0.]\n"
          ]
        }
      ]
    },
    {
      "cell_type": "markdown",
      "metadata": {
        "id": "_AjeDjhGiyi1"
      },
      "source": [
        " * 은닉 상태의 크기를 8로 정의하였으므로 8의 차원을 가지는 0의 값으로 구성된 벡터가 출력됩니다"
      ]
    },
    {
      "cell_type": "markdown",
      "metadata": {
        "id": "UTGuKnN1i19R"
      },
      "source": [
        " * 이제 가중치와 편향을 정의합니다."
      ]
    },
    {
      "cell_type": "code",
      "metadata": {
        "id": "EYLf6425i4-d"
      },
      "source": [
        "Wx = np.random.random((hidden_size, input_size))  # (8, 4)크기의 2D 텐서 생성. 입력에 대한 가중치.\n",
        "Wh = np.random.random((hidden_size, hidden_size)) # (8, 8)크기의 2D 텐서 생성. 은닉 상태에 대한 가중치.\n",
        "b = np.random.random((hidden_size,)) # (8,)크기의 1D 텐서 생성. 이 값은 편향(bias)."
      ],
      "execution_count": null,
      "outputs": []
    },
    {
      "cell_type": "code",
      "metadata": {
        "colab": {
          "base_uri": "https://localhost:8080/"
        },
        "id": "HmjQKemHi-aV",
        "outputId": "c79bcc83-8345-4f29-ef52-e1db14c36570"
      },
      "source": [
        "print(np.shape(Wx))\n",
        "print(np.shape(Wh))\n",
        "print(np.shape(b))"
      ],
      "execution_count": null,
      "outputs": [
        {
          "output_type": "stream",
          "name": "stdout",
          "text": [
            "(8, 4)\n",
            "(8, 8)\n",
            "(8,)\n"
          ]
        }
      ]
    },
    {
      "cell_type": "markdown",
      "metadata": {
        "id": "uJgBaq_DjEMb"
      },
      "source": [
        " * 각 가중치와 편향의 크기는 다음과 같습니다. \n",
        " \n",
        " Wx는 (은닉 상태의 크기 × 입력의 차원), \n",
        " \n",
        " Wh는 (은닉 상태의 크기 × 은닉 상태의 크기), \n",
        " \n",
        " b는 (은닉 상태의 크기)의 크기를 가집니다. \n",
        " \n",
        " 이제 모든 시점의 은닉 상태를 출력한다고 가정하고, RNN 층을 동작시켜봅시다."
      ]
    },
    {
      "cell_type": "code",
      "metadata": {
        "colab": {
          "base_uri": "https://localhost:8080/"
        },
        "id": "LYkXjSEAjPVp",
        "outputId": "d0327596-afd2-4462-9625-a9a11549ec8c"
      },
      "source": [
        "total_hidden_states = []\n",
        "\n",
        "# 메모리 셀 동작\n",
        "for input_t in inputs: # 각 시점에 따라서 입력값이 입력됨.\n",
        "  output_t = np.tanh(np.dot(Wx,input_t) + np.dot(Wh,hidden_state_t) + b) # Wx * Xt + Wh * Ht-1 + b(bias)\n",
        "  total_hidden_states.append(list(output_t)) # 각 시점의 은닉 상태의 값을 계속해서 축적\n",
        "  print(np.shape(total_hidden_states)) # 각 시점 t별 메모리 셀의 출력의 크기는 (timestep, output_dim)\n",
        "  hidden_state_t = output_t\n",
        "\n",
        "total_hidden_states = np.stack(total_hidden_states, axis = 0) \n",
        "# 출력 시 값을 깔끔하게 해준다.\n",
        "\n",
        "print(total_hidden_states) # (timesteps, output_dim)의 크기. 이 경우 (10, 8)의 크기를 가지는 메모리 셀의 2D 텐서를 출력."
      ],
      "execution_count": null,
      "outputs": [
        {
          "output_type": "stream",
          "name": "stdout",
          "text": [
            "(1, 8)\n",
            "(2, 8)\n",
            "(3, 8)\n",
            "(4, 8)\n",
            "(5, 8)\n",
            "(6, 8)\n",
            "(7, 8)\n",
            "(8, 8)\n",
            "(9, 8)\n",
            "(10, 8)\n",
            "[[0.85369707 0.73493701 0.50639824 0.74140491 0.61520149 0.84313023\n",
            "  0.8891122  0.70584776]\n",
            " [0.99988286 0.99983353 0.99830964 0.9998628  0.99782717 0.99997783\n",
            "  0.99976638 0.99961948]\n",
            " [0.99997007 0.99999298 0.99941208 0.99998506 0.9988647  0.99999854\n",
            "  0.99996973 0.99995193]\n",
            " [0.99997985 0.99998909 0.99955471 0.9999849  0.99929725 0.99999766\n",
            "  0.99995059 0.99993971]\n",
            " [0.9999934  0.99999568 0.99976002 0.99999561 0.99982554 0.99999959\n",
            "  0.99998364 0.99996207]\n",
            " [0.99997448 0.99998463 0.99954845 0.99998015 0.99874425 0.99999858\n",
            "  0.9999549  0.99994705]\n",
            " [0.99999252 0.99999705 0.99970151 0.99999665 0.99981375 0.99999959\n",
            "  0.99998642 0.99995922]\n",
            " [0.99997702 0.99996733 0.99963028 0.99997075 0.9987167  0.9999978\n",
            "  0.99991923 0.99993688]\n",
            " [0.99996164 0.99999172 0.99934008 0.99997416 0.99881227 0.99999572\n",
            "  0.99994956 0.99994724]\n",
            " [0.9999696  0.99998488 0.9994773  0.9999801  0.9983923  0.99999854\n",
            "  0.99995526 0.99994362]]\n"
          ]
        }
      ]
    },
    {
      "cell_type": "markdown",
      "metadata": {
        "id": "apmUfySIjba2"
      },
      "source": [
        " * timesteps = 10 # 시점의 수. NLP에서는 보통 문장의 길이가 된다.==> 10개의 결과치\n",
        " * hidden_size = 8 # 은닉 상태의 크기. 메모리 셀의 용량이다. ==> 각 배열값은 8개씩"
      ]
    },
    {
      "cell_type": "markdown",
      "metadata": {
        "id": "v3k6thIfjqzn"
      },
      "source": [
        "--------------------------------------------------------------------------------"
      ]
    },
    {
      "cell_type": "markdown",
      "metadata": {
        "id": "-kJD-NenjszS"
      },
      "source": [
        "# nn.RNN() in PyTorch"
      ]
    },
    {
      "cell_type": "code",
      "metadata": {
        "id": "3bo9KNavbQFx"
      },
      "source": [
        "import torch\n",
        "import torch.nn as nn"
      ],
      "execution_count": null,
      "outputs": []
    },
    {
      "cell_type": "code",
      "metadata": {
        "id": "jeZoWWgBbd_o"
      },
      "source": [
        "input_size = 5 # 입력의 크기\n",
        "hidden_size = 8 # 은닉 상태의 크기"
      ],
      "execution_count": null,
      "outputs": []
    },
    {
      "cell_type": "code",
      "metadata": {
        "id": "o3BRl-y7bf4j"
      },
      "source": [
        "# (batch_size, time_steps, input_size)\n",
        "inputs = torch.Tensor(1, 10, 5)    # 입력값 tensor"
      ],
      "execution_count": null,
      "outputs": []
    },
    {
      "cell_type": "code",
      "metadata": {
        "colab": {
          "base_uri": "https://localhost:8080/"
        },
        "id": "Mze_DWLLb7-e",
        "outputId": "7d0acb6c-43bb-4bfc-9d9e-0a9e142d5e06"
      },
      "source": [
        "inputs   # 아직은 초기화를 한했으므로 난수값 출력"
      ],
      "execution_count": null,
      "outputs": [
        {
          "output_type": "execute_result",
          "data": {
            "text/plain": [
              "tensor([[[1.1427e-30, 3.0934e-41, 7.9874e-44, 0.0000e+00, 1.1431e-30],\n",
              "         [3.0934e-41, 1.1431e-30, 3.0934e-41, 3.5733e-43, 0.0000e+00],\n",
              "         [0.0000e+00, 0.0000e+00, 0.0000e+00, 0.0000e+00, 0.0000e+00],\n",
              "         [0.0000e+00, 3.5733e-43, 0.0000e+00, 0.0000e+00, 0.0000e+00],\n",
              "         [0.0000e+00, 0.0000e+00, 0.0000e+00, 0.0000e+00, 3.5733e-43],\n",
              "         [0.0000e+00, 7.7071e-44, 0.0000e+00, 1.1431e-30, 3.0934e-41],\n",
              "         [1.1431e-30, 3.0934e-41, 3.5733e-43, 0.0000e+00, 0.0000e+00],\n",
              "         [0.0000e+00, 0.0000e+00, 0.0000e+00, 0.0000e+00, 0.0000e+00],\n",
              "         [3.5733e-43, 0.0000e+00, 0.0000e+00, 0.0000e+00, 0.0000e+00],\n",
              "         [0.0000e+00, 0.0000e+00, 0.0000e+00, 3.5733e-43, 0.0000e+00]]])"
            ]
          },
          "metadata": {},
          "execution_count": 8
        }
      ]
    },
    {
      "cell_type": "code",
      "metadata": {
        "id": "O5V7VAgycbjw"
      },
      "source": [
        "cell = nn.RNN(input_size, hidden_size, batch_first=True)"
      ],
      "execution_count": null,
      "outputs": []
    },
    {
      "cell_type": "code",
      "metadata": {
        "id": "zo-JA4tQbkSc"
      },
      "source": [
        "outputs, _status = cell(inputs)  # 전파를 시킴"
      ],
      "execution_count": null,
      "outputs": []
    },
    {
      "cell_type": "code",
      "metadata": {
        "colab": {
          "base_uri": "https://localhost:8080/"
        },
        "id": "JLlH5af_cek9",
        "outputId": "366d8ba7-0662-4285-a4a9-b2a6dc4a2437"
      },
      "source": [
        "outputs   # 첫번째 리턴값은 모든 시점(timesteps)의 은닉 상태들이며, \n",
        "          # 각 출력시점(t)마다의 출력결과(h)값\n",
        "          # 출력결과(h)는 다음 시점(t)의 입력값으로 들어가게 됨 (RNN)"
      ],
      "execution_count": null,
      "outputs": [
        {
          "output_type": "execute_result",
          "data": {
            "text/plain": [
              "tensor([[[-0.1184, -0.5642,  0.3123,  0.2807, -0.0886,  0.1021, -0.5579,\n",
              "           0.4116],\n",
              "         [-0.2048, -0.6240,  0.2400,  0.4747, -0.0132, -0.2329, -0.6050,\n",
              "           0.4358],\n",
              "         [-0.3505, -0.5805,  0.2179,  0.5358, -0.0896, -0.1918, -0.5539,\n",
              "           0.3455],\n",
              "         [-0.3683, -0.5624,  0.2016,  0.5550, -0.0666, -0.1803, -0.5626,\n",
              "           0.2853],\n",
              "         [-0.3739, -0.5739,  0.1940,  0.5512, -0.0490, -0.1901, -0.5424,\n",
              "           0.2791],\n",
              "         [-0.3761, -0.5687,  0.2017,  0.5474, -0.0510, -0.1857, -0.5466,\n",
              "           0.2872],\n",
              "         [-0.3768, -0.5695,  0.2045,  0.5490, -0.0526, -0.1843, -0.5484,\n",
              "           0.2870],\n",
              "         [-0.3770, -0.5702,  0.2036,  0.5497, -0.0519, -0.1860, -0.5483,\n",
              "           0.2864],\n",
              "         [-0.3774, -0.5699,  0.2035,  0.5497, -0.0520, -0.1859, -0.5480,\n",
              "           0.2863],\n",
              "         [-0.3775, -0.5698,  0.2036,  0.5497, -0.0520, -0.1857, -0.5481,\n",
              "           0.2861]]], grad_fn=<TransposeBackward1>)"
            ]
          },
          "metadata": {},
          "execution_count": 11
        }
      ]
    },
    {
      "cell_type": "markdown",
      "metadata": {
        "id": "Owbh8ZMteMbs"
      },
      "source": [
        " * time_step이 10이므로.. 입력단어가 10개라는 의미이고\n",
        "\n",
        "  hidden_size(은닉상태 : 녹색 상자 갯수)가 8이므로 ...각 배열의 값이 8개씩이다!!\n",
        "\n",
        " * 출력결과 첫 라인 : [-0.1184, -0.5642,  0.3123,  0.2807, -0.0886,  0.1021, -0.5579, 0.4116], ==> 첫번째 단어가 입력되었을 때의 상태\n",
        "\n",
        " * 출력결과 마지막 라인 : [-0.3775, -0.5698,  0.2036,  0.5497, -0.0520, -0.1857, -0.5481, 0.2861] ==> 마지막 단어까지 입력되었을 때의 상태\n"
      ]
    },
    {
      "cell_type": "code",
      "metadata": {
        "colab": {
          "base_uri": "https://localhost:8080/"
        },
        "id": "iZz25uujf9k7",
        "outputId": "a4d15cc3-656a-4f2b-f19d-c92b6dab0a3e"
      },
      "source": [
        "print(outputs.shape) # 모든 time-step의 hidden_state"
      ],
      "execution_count": null,
      "outputs": [
        {
          "output_type": "stream",
          "name": "stdout",
          "text": [
            "torch.Size([1, 10, 8])\n"
          ]
        }
      ]
    },
    {
      "cell_type": "code",
      "metadata": {
        "colab": {
          "base_uri": "https://localhost:8080/"
        },
        "id": "IMZk_4HAcs6m",
        "outputId": "36dd7194-657e-41bd-bda7-bd0276e0d84d"
      },
      "source": [
        "_status  # # 두번째 리턴값은 마지막 시점(timestep):10번째 단어까지 입력된 결과의 은닉 상태입니다."
      ],
      "execution_count": null,
      "outputs": [
        {
          "output_type": "execute_result",
          "data": {
            "text/plain": [
              "tensor([[[-0.3775, -0.5698,  0.2036,  0.5497, -0.0520, -0.1857, -0.5481,\n",
              "           0.2861]]], grad_fn=<StackBackward>)"
            ]
          },
          "metadata": {},
          "execution_count": 12
        }
      ]
    },
    {
      "cell_type": "code",
      "metadata": {
        "colab": {
          "base_uri": "https://localhost:8080/"
        },
        "id": "lDoyrhoTbzM0",
        "outputId": "4c7890dd-321f-4bf9-f8f7-05fecc3a965e"
      },
      "source": [
        "print(_status.shape) # 최종 time-step의 hidden_state"
      ],
      "execution_count": null,
      "outputs": [
        {
          "output_type": "stream",
          "name": "stdout",
          "text": [
            "torch.Size([1, 1, 8])\n"
          ]
        }
      ]
    }
  ]
}