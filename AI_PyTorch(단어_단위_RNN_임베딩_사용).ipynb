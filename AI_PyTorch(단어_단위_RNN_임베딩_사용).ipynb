{
  "nbformat": 4,
  "nbformat_minor": 0,
  "metadata": {
    "colab": {
      "name": "AI_PyTorch(단어 단위 RNN - 임베딩 사용).ipynb",
      "provenance": [],
      "collapsed_sections": [],
      "authorship_tag": "ABX9TyNS2IhxOBNfM8kqY67SMlyE",
      "include_colab_link": true
    },
    "kernelspec": {
      "name": "python3",
      "display_name": "Python 3"
    },
    "language_info": {
      "name": "python"
    }
  },
  "cells": [
    {
      "cell_type": "markdown",
      "metadata": {
        "id": "view-in-github",
        "colab_type": "text"
      },
      "source": [
        "<a href=\"https://colab.research.google.com/github/kmongsil1105/colab_ipynb/blob/main/AI_PyTorch(%EB%8B%A8%EC%96%B4_%EB%8B%A8%EC%9C%84_RNN_%EC%9E%84%EB%B2%A0%EB%94%A9_%EC%82%AC%EC%9A%A9).ipynb\" target=\"_parent\"><img src=\"https://colab.research.google.com/assets/colab-badge.svg\" alt=\"Open In Colab\"/></a>"
      ]
    },
    {
      "cell_type": "markdown",
      "metadata": {
        "id": "zroyn7pU3-O7"
      },
      "source": [
        "# 단어 단위 RNN - 임베딩 사용"
      ]
    },
    {
      "cell_type": "markdown",
      "metadata": {
        "id": "cs2wxmrM4QbP"
      },
      "source": [
        "문자 단위가 아니라 RNN의 입력 단위를 단어 단위로 사용합니다."
      ]
    },
    {
      "cell_type": "markdown",
      "metadata": {
        "id": "khQENmrp4T45"
      },
      "source": [
        "단어 단위를 사용함에 따라서 Pytorch에서 제공하는 임베딩 층(embedding layer)를 사용하겠습니다."
      ]
    },
    {
      "cell_type": "code",
      "metadata": {
        "id": "YA-l5IUu39P7"
      },
      "source": [
        "import torch\n",
        "import torch.nn as nn\n",
        "import torch.optim as optim"
      ],
      "execution_count": null,
      "outputs": []
    },
    {
      "cell_type": "markdown",
      "metadata": {
        "id": "j3Y-ppQn4aBi"
      },
      "source": [
        "실습을 위해 임의의 문장을 만듭니다."
      ]
    },
    {
      "cell_type": "code",
      "metadata": {
        "id": "uISo_0oa4cWl"
      },
      "source": [
        "sentence = \"Repeat is the best medicine for memory\".split()"
      ],
      "execution_count": null,
      "outputs": []
    },
    {
      "cell_type": "markdown",
      "metadata": {
        "id": "paKS5JwK44Mq"
      },
      "source": [
        "우리가 만들 RNN은 'Repeat is the best medicine for'을 입력받으면 'is the best medicine for memory'를 출력하는 RNN입니다."
      ]
    },
    {
      "cell_type": "markdown",
      "metadata": {
        "id": "v_y3I2xd49MS"
      },
      "source": [
        "위의 임의의 문장으로부터 단어장(vocabulary)을 만듭니다."
      ]
    },
    {
      "cell_type": "code",
      "metadata": {
        "colab": {
          "base_uri": "https://localhost:8080/"
        },
        "id": "GSYN0am44-Zh",
        "outputId": "64363569-f49d-497b-bafe-3975e07cc038"
      },
      "source": [
        "vocab = list(set(sentence))\n",
        "print(vocab)"
      ],
      "execution_count": null,
      "outputs": [
        {
          "output_type": "stream",
          "name": "stdout",
          "text": [
            "['is', 'for', 'the', 'Repeat', 'memory', 'medicine', 'best']\n"
          ]
        }
      ]
    },
    {
      "cell_type": "markdown",
      "metadata": {
        "id": "oL1lTnqQ5F6x"
      },
      "source": [
        "이제 단어장의 단어에 고유한 정수 인덱스를 부여합니다. 그리고 그와 동시에 모르는 단어를 의미하는 UNK 토큰도 추가하겠습니다."
      ]
    },
    {
      "cell_type": "code",
      "metadata": {
        "id": "lrp6ITbr5Iyo"
      },
      "source": [
        "word2index = {tkn: i for i, tkn in enumerate(vocab, 1)}  # 단어에 고유한 정수 부여\n",
        "word2index['<unk>']=0"
      ],
      "execution_count": null,
      "outputs": []
    },
    {
      "cell_type": "code",
      "metadata": {
        "colab": {
          "base_uri": "https://localhost:8080/"
        },
        "id": "c8zj_ma65L7Z",
        "outputId": "9ab6229f-9ddf-4e1c-ffb5-904242b4dfae"
      },
      "source": [
        "print(word2index)"
      ],
      "execution_count": null,
      "outputs": [
        {
          "output_type": "stream",
          "name": "stdout",
          "text": [
            "{'is': 1, 'for': 2, 'the': 3, 'Repeat': 4, 'memory': 5, 'medicine': 6, 'best': 7, '<unk>': 0}\n"
          ]
        }
      ]
    },
    {
      "cell_type": "markdown",
      "metadata": {
        "id": "f_xSVSQ_5PWC"
      },
      "source": [
        "word2index가 우리가 사용할 최종 단어장인 셈입니다. word2index에 단어를 입력하면 맵핑되는 정수를 리턴합니다."
      ]
    },
    {
      "cell_type": "code",
      "metadata": {
        "colab": {
          "base_uri": "https://localhost:8080/"
        },
        "id": "ooC9pGEa5Rop",
        "outputId": "7f53767e-931c-4bc3-ab97-3188cde73899"
      },
      "source": [
        "print(word2index['memory'])"
      ],
      "execution_count": null,
      "outputs": [
        {
          "output_type": "stream",
          "name": "stdout",
          "text": [
            "5\n"
          ]
        }
      ]
    },
    {
      "cell_type": "markdown",
      "metadata": {
        "id": "Mq4zq8e55Wfz"
      },
      "source": [
        "단어 'memory'와 맵핑되는 정수는 2입니다. 예측 단계에서 예측한 문장을 확인하기 위해 idx2word도 만듭니다."
      ]
    },
    {
      "cell_type": "code",
      "metadata": {
        "colab": {
          "base_uri": "https://localhost:8080/"
        },
        "id": "Qewl9WNe5Y4R",
        "outputId": "d0643115-fd6e-435f-9a80-92b0583c34fa"
      },
      "source": [
        "# 수치화된 데이터를 단어로 바꾸기 위한 사전\n",
        "index2word = {v: k for k, v in word2index.items()}\n",
        "print(index2word)"
      ],
      "execution_count": null,
      "outputs": [
        {
          "output_type": "stream",
          "name": "stdout",
          "text": [
            "{1: 'is', 2: 'for', 3: 'the', 4: 'Repeat', 5: 'memory', 6: 'medicine', 7: 'best', 0: '<unk>'}\n"
          ]
        }
      ]
    },
    {
      "cell_type": "markdown",
      "metadata": {
        "id": "Ip0KnAWi5cVi"
      },
      "source": [
        "idx2word는 정수로부터 단어를 리턴하는 역할을 합니다. 정수 2를 넣어봅시다."
      ]
    },
    {
      "cell_type": "code",
      "metadata": {
        "colab": {
          "base_uri": "https://localhost:8080/"
        },
        "id": "z2SXwtLF5e_N",
        "outputId": "892940cd-1506-41e2-e6ff-9fdf1a17bb57"
      },
      "source": [
        "print(index2word[2])"
      ],
      "execution_count": null,
      "outputs": [
        {
          "output_type": "stream",
          "name": "stdout",
          "text": [
            "for\n"
          ]
        }
      ]
    },
    {
      "cell_type": "markdown",
      "metadata": {
        "id": "4SBAInma5jiN"
      },
      "source": [
        "==> 정수 2와 맵핑되는 단어는 memory인 것을 확인할 수 있습니다."
      ]
    },
    {
      "cell_type": "markdown",
      "metadata": {
        "id": "uCi2mylZ5m9b"
      },
      "source": [
        "제 데이터의 각 단어를 정수로 인코딩하는 동시에, 입력 데이터와 레이블 데이터를 만드는 build_data라는 함수를 만들어보겠습니다."
      ]
    },
    {
      "cell_type": "code",
      "metadata": {
        "id": "ZlZeMRRT5p0r"
      },
      "source": [
        "def build_data(sentence, word2index):\n",
        "    encoded = [word2index[token] for token in sentence] # 각 문자를 정수로 변환. \n",
        "    input_seq, label_seq = encoded[:-1], encoded[1:] # 입력 시퀀스와 레이블 시퀀스를 분리\n",
        "    input_seq = torch.LongTensor(input_seq).unsqueeze(0) # 배치 차원 추가\n",
        "    label_seq = torch.LongTensor(label_seq).unsqueeze(0) # 배치 차원 추가\n",
        "    return input_seq, label_seq"
      ],
      "execution_count": null,
      "outputs": []
    },
    {
      "cell_type": "markdown",
      "metadata": {
        "id": "hbTAJCQA5tG0"
      },
      "source": [
        "만들어진 함수로부터 입력 데이터와 레이블 데이터를 얻습니다."
      ]
    },
    {
      "cell_type": "code",
      "metadata": {
        "id": "f906rxu95vMF"
      },
      "source": [
        "X, Y = build_data(sentence, word2index)"
      ],
      "execution_count": null,
      "outputs": []
    },
    {
      "cell_type": "markdown",
      "metadata": {
        "id": "pi06EH5O5yj-"
      },
      "source": [
        "입력 데이터와 레이블 데이터가 정상적으로 생성되었는지 출력해봅시다."
      ]
    },
    {
      "cell_type": "code",
      "metadata": {
        "colab": {
          "base_uri": "https://localhost:8080/"
        },
        "id": "x7_Du5cf50S1",
        "outputId": "d060e556-f4aa-46cc-a38e-b4c9cd494c4d"
      },
      "source": [
        "# sentence = \"Repeat is the best medicine for memory\".split()\n",
        "print(X)   # {1: 'is', 2: 'for', 3: 'the', 4: 'Repeat', 5: 'memory', 6: 'medicine', 7: 'best', 0: '<unk>'}\n",
        "print(Y)\n",
        "\n",
        "############ 결과\n",
        "#tensor([[7, 4, 3, 1, 6, 5]]) # Repeat is the best medicine for을 의미\n",
        "#tensor([[4, 3, 1, 6, 5, 2]]) # is the best medicine for memory을 의미"
      ],
      "execution_count": null,
      "outputs": [
        {
          "output_type": "stream",
          "name": "stdout",
          "text": [
            "tensor([[4, 1, 3, 7, 6, 2]])\n",
            "tensor([[1, 3, 7, 6, 2, 5]])\n"
          ]
        }
      ]
    },
    {
      "cell_type": "markdown",
      "metadata": {
        "id": "ER9k7rQ-6eJk"
      },
      "source": [
        "# 모델 구현하기"
      ]
    },
    {
      "cell_type": "markdown",
      "metadata": {
        "id": "6LF5eaOR6h92"
      },
      "source": [
        "==> 전 모델들과 달라진 점은 임베딩 층을 추가했다는 점입니다. 파이토치에서는 nn.Embedding()을 사용해서 임베딩 층을 구현합니다. 임베딩층은 크게 두 가지 인자를 받는데 첫번째 인자는 단어장의 크기이며, 두번째 인자는 임베딩 벡터의 차원입니다."
      ]
    },
    {
      "cell_type": "code",
      "metadata": {
        "id": "zAnS_0_R6l8C"
      },
      "source": [
        "class Net(nn.Module):\n",
        "    def __init__(self, vocab_size, input_size, hidden_size, batch_first=True):\n",
        "        super(Net, self).__init__()\n",
        "        self.embedding_layer = nn.Embedding(num_embeddings=vocab_size, # 워드 임베딩\n",
        "                                            embedding_dim=input_size)\n",
        "        self.rnn_layer = nn.RNN(input_size, hidden_size, # 입력 차원, 은닉 상태의 크기 정의\n",
        "                                batch_first=batch_first)\n",
        "        self.linear = nn.Linear(hidden_size, vocab_size) # 출력은 원-핫 벡터의 크기를 가져야함. 또는 단어 집합의 크기만큼 가져야함.\n",
        "\n",
        "    def forward(self, x):\n",
        "        # 1. 임베딩 층\n",
        "        # 크기변화: (배치 크기, 시퀀스 길이) => (배치 크기, 시퀀스 길이, 임베딩 차원)\n",
        "        output = self.embedding_layer(x)\n",
        "        # 2. RNN 층\n",
        "        # 크기변화: (배치 크기, 시퀀스 길이, 임베딩 차원)\n",
        "        # => output (배치 크기, 시퀀스 길이, 은닉층 크기), hidden (1, 배치 크기, 은닉층 크기)\n",
        "        output, hidden = self.rnn_layer(output)\n",
        "        # 3. 최종 출력층\n",
        "        # 크기변화: (배치 크기, 시퀀스 길이, 은닉층 크기) => (배치 크기, 시퀀스 길이, 단어장 크기)\n",
        "        output = self.linear(output)\n",
        "        # 4. view를 통해서 배치 차원 제거\n",
        "        # 크기변화: (배치 크기, 시퀀스 길이, 단어장 크기) => (배치 크기*시퀀스 길이, 단어장 크기)\n",
        "        return output.view(-1, output.size(2))"
      ],
      "execution_count": null,
      "outputs": []
    },
    {
      "cell_type": "markdown",
      "metadata": {
        "id": "B1FvXNso6pj4"
      },
      "source": [
        "이제 모델을 위해 하이퍼파라미터를 설정합니다."
      ]
    },
    {
      "cell_type": "code",
      "metadata": {
        "id": "nB3NtymC6r3i"
      },
      "source": [
        "# 하이퍼 파라미터\n",
        "vocab_size = len(word2index)  # 단어장의 크기는 임베딩 층, 최종 출력층에 사용된다. <unk> 토큰을 크기에 포함한다.\n",
        "input_size = 5  # 임베딩 된 차원의 크기 및 RNN 층 입력 차원의 크기\n",
        "hidden_size = 20  # RNN의 은닉층 크기"
      ],
      "execution_count": null,
      "outputs": []
    },
    {
      "cell_type": "markdown",
      "metadata": {
        "id": "_KGuaNKe6ur2"
      },
      "source": [
        "모델을 생성합니다."
      ]
    },
    {
      "cell_type": "code",
      "metadata": {
        "id": "H8UMGiJJ6vXy"
      },
      "source": [
        "# 모델 생성\n",
        "model = Net(vocab_size, input_size, hidden_size, batch_first=True)\n",
        "# 손실함수 정의\n",
        "loss_function = nn.CrossEntropyLoss() # 소프트맥스 함수 포함이며 실제값은 원-핫 인코딩 안 해도 됨.\n",
        "# 옵티마이저 정의\n",
        "optimizer = optim.Adam(params=model.parameters())"
      ],
      "execution_count": null,
      "outputs": []
    },
    {
      "cell_type": "markdown",
      "metadata": {
        "id": "BVIJtgJ16zmk"
      },
      "source": [
        "모델에 입력을 넣어서 출력을 확인해봅시다."
      ]
    },
    {
      "cell_type": "code",
      "metadata": {
        "colab": {
          "base_uri": "https://localhost:8080/"
        },
        "id": "g5patCxQ60eq",
        "outputId": "186c9b79-c6de-4f66-8b69-e92490ce56c7"
      },
      "source": [
        "# 임의로 예측해보기. 가중치는 전부 랜덤 초기화 된 상태이다.\n",
        "output = model(X)\n",
        "print(output)"
      ],
      "execution_count": null,
      "outputs": [
        {
          "output_type": "stream",
          "name": "stdout",
          "text": [
            "tensor([[-0.5570,  0.0234, -0.2844, -0.1279, -0.0263, -0.3691, -0.4098, -0.1306],\n",
            "        [-0.3032, -0.1547, -0.2559, -0.3821,  0.1355, -0.3250, -0.2312, -0.1613],\n",
            "        [-0.2627, -0.1161, -0.2290, -0.4161,  0.1349, -0.3649, -0.1319, -0.0724],\n",
            "        [-0.0477, -0.2737,  0.1242,  0.0871,  0.5134, -0.0757, -0.1776, -0.1219],\n",
            "        [-0.2574, -0.0315, -0.0053, -0.2669,  0.2663, -0.2883, -0.1990,  0.0245],\n",
            "        [-0.0852,  0.0686, -0.2270, -0.3748,  0.2887, -0.2412, -0.4358,  0.1846]],\n",
            "       grad_fn=<ViewBackward>)\n"
          ]
        }
      ]
    },
    {
      "cell_type": "markdown",
      "metadata": {
        "id": "A_VLCGxQ65_l"
      },
      "source": [
        "모델이 어떤 예측값을 내놓기는 하지만 현재 가중치는 랜덤 초기화되어 있어 의미있는 예측값은 아닙니다. 예측값의 크기를 확인해봅시다"
      ]
    },
    {
      "cell_type": "code",
      "metadata": {
        "colab": {
          "base_uri": "https://localhost:8080/"
        },
        "id": "DxGdumFt68F9",
        "outputId": "29c72de3-cace-4f6b-ced2-829690dd7bc6"
      },
      "source": [
        "print(output.shape)"
      ],
      "execution_count": null,
      "outputs": [
        {
          "output_type": "stream",
          "name": "stdout",
          "text": [
            "torch.Size([6, 8])\n"
          ]
        }
      ]
    },
    {
      "cell_type": "markdown",
      "metadata": {
        "id": "BXUfBn9e6_s3"
      },
      "source": [
        "예측값의 크기는 (6, 8)입니다. 이는 각각 (시퀀스의 길이, 은닉층의 크기)에 해당됩니다. 모델은 훈련시키기 전에 예측을 제대로 하고 있는지 예측된 정수 시퀀스를 다시 단어 시퀀스로 바꾸는 decode 함수를 만듭니다."
      ]
    },
    {
      "cell_type": "code",
      "metadata": {
        "id": "DjER9b3y7CGB"
      },
      "source": [
        "# 수치화된 데이터를 단어로 전환하는 함수\n",
        "decode = lambda y: [index2word.get(x) for x in y]"
      ],
      "execution_count": null,
      "outputs": []
    },
    {
      "cell_type": "markdown",
      "metadata": {
        "id": "JPjv7WFD7EdE"
      },
      "source": [
        "약 200 에포크 학습합니다."
      ]
    },
    {
      "cell_type": "code",
      "metadata": {
        "colab": {
          "base_uri": "https://localhost:8080/"
        },
        "id": "3st8Hg_z7FmZ",
        "outputId": "0d571103-be56-470c-ba14-da567256f180"
      },
      "source": [
        "# 훈련 시작\n",
        "for step in range(201):\n",
        "    # 경사 초기화\n",
        "    optimizer.zero_grad()\n",
        "    # 순방향 전파\n",
        "    output = model(X)\n",
        "    # 손실값 계산\n",
        "    loss = loss_function(output, Y.view(-1))\n",
        "    # 역방향 전파\n",
        "    loss.backward()\n",
        "    # 매개변수 업데이트\n",
        "    optimizer.step()\n",
        "    # 기록\n",
        "    if step % 40 == 0:    # # sentence = \"Repeat is the best medicine for memory\".split()\n",
        "        print(\"[{:02d}/201] {:.4f} \".format(step+1, loss))\n",
        "        pred = output.softmax(-1).argmax(-1).tolist()\n",
        "        print(\" \".join([\"Repeat\"] + decode(pred)))\n",
        "        print()"
      ],
      "execution_count": null,
      "outputs": [
        {
          "output_type": "stream",
          "name": "stdout",
          "text": [
            "[01/201] 2.1050 \n",
            "Repeat is Repeat Repeat Repeat Repeat Repeat\n",
            "\n",
            "[41/201] 1.5303 \n",
            "Repeat is the best Repeat for memory\n",
            "\n",
            "[81/201] 0.8460 \n",
            "Repeat is the best medicine for memory\n",
            "\n",
            "[121/201] 0.3961 \n",
            "Repeat is the best medicine for memory\n",
            "\n",
            "[161/201] 0.2084 \n",
            "Repeat is the best medicine for memory\n",
            "\n",
            "[201/201] 0.1301 \n",
            "Repeat is the best medicine for memory\n",
            "\n"
          ]
        }
      ]
    }
  ]
}