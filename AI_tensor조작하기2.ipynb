{
  "nbformat": 4,
  "nbformat_minor": 0,
  "metadata": {
    "colab": {
      "name": "AI_tensor조작하기2.ipynb",
      "provenance": [],
      "collapsed_sections": [],
      "authorship_tag": "ABX9TyMNGVkMrqwtH37BUadW0vVy",
      "include_colab_link": true
    },
    "kernelspec": {
      "name": "python3",
      "display_name": "Python 3"
    },
    "language_info": {
      "name": "python"
    },
    "accelerator": "GPU"
  },
  "cells": [
    {
      "cell_type": "markdown",
      "metadata": {
        "id": "view-in-github",
        "colab_type": "text"
      },
      "source": [
        "<a href=\"https://colab.research.google.com/github/kmongsil1105/colab_ipynb/blob/main/AI_tensor%EC%A1%B0%EC%9E%91%ED%95%98%EA%B8%B02.ipynb\" target=\"_parent\"><img src=\"https://colab.research.google.com/assets/colab-badge.svg\" alt=\"Open In Colab\"/></a>"
      ]
    },
    {
      "cell_type": "markdown",
      "metadata": {
        "id": "k7GBksRlq5Ve"
      },
      "source": [
        "# 텐서 조작하기(Tensor Manipulation) 2"
      ]
    },
    {
      "cell_type": "markdown",
      "metadata": {
        "id": "iJkpkkgqq9fF"
      },
      "source": [
        " * 뷰(View) - 원소의 수를 유지하면서 텐서의 크기 변경. 매우 중요함!!"
      ]
    },
    {
      "cell_type": "code",
      "metadata": {
        "id": "Fcj7clpQrWbe"
      },
      "source": [
        "import torch\n",
        "import numpy as np"
      ],
      "execution_count": null,
      "outputs": []
    },
    {
      "cell_type": "code",
      "metadata": {
        "colab": {
          "base_uri": "https://localhost:8080/"
        },
        "id": "ER9XDHgBpEBb",
        "outputId": "9f75f1aa-67f7-4aa0-de0d-52d958631a20"
      },
      "source": [
        "# 파이토치 텐서의 뷰(View)는 넘파이에서의 리쉐이프(Reshape)와 같은 역할을 합니다. \n",
        "# Reshape라는 이름에서 알 수 있듯이, 텐서의 크기(Shape)를 변경해주는 역할\n",
        "t = np.array([[[0, 1, 2],\n",
        "               [3, 4, 5]],\n",
        "              [[6, 7, 8],\n",
        "               [9, 10, 11]]])\n",
        "ft = torch.FloatTensor(t)\n",
        "print(ft)\n",
        "print(ft.shape)"
      ],
      "execution_count": null,
      "outputs": [
        {
          "output_type": "stream",
          "name": "stdout",
          "text": [
            "tensor([[[ 0.,  1.,  2.],\n",
            "         [ 3.,  4.,  5.]],\n",
            "\n",
            "        [[ 6.,  7.,  8.],\n",
            "         [ 9., 10., 11.]]])\n",
            "torch.Size([2, 2, 3])\n"
          ]
        }
      ]
    },
    {
      "cell_type": "markdown",
      "metadata": {
        "id": "C9UB63zPtNi-"
      },
      "source": [
        " * 3차원 텐서에서 2차원 텐서로 변경 :: \"view\"를 사용하여 크기(shape)를 2차원 텐서로 변경해봅시다."
      ]
    },
    {
      "cell_type": "code",
      "metadata": {
        "colab": {
          "base_uri": "https://localhost:8080/"
        },
        "id": "z-DLQNQdtZDt",
        "outputId": "869f9b76-749a-424a-d3b7-6af6b5dc3dbc"
      },
      "source": [
        "print(ft.view([-1, 3])) # ft라는 텐서를 (?, 3)의 크기로 변경\n",
        "# -1은 첫번째 차원은 사용자가 잘 모르겠으니 파이토치에 맡기겠다는 의미이고, 3은 두번째 차원의 길이는 3을 가지도록 하라는 의미\n",
        "print(ft.view([-1, 3]).shape)"
      ],
      "execution_count": null,
      "outputs": [
        {
          "output_type": "stream",
          "name": "stdout",
          "text": [
            "tensor([[ 0.,  1.,  2.],\n",
            "        [ 3.,  4.,  5.],\n",
            "        [ 6.,  7.,  8.],\n",
            "        [ 9., 10., 11.]])\n",
            "torch.Size([4, 3])\n"
          ]
        }
      ]
    },
    {
      "cell_type": "markdown",
      "metadata": {
        "id": "7jXGA7lOtwNF"
      },
      "source": [
        "내부적으로 크기 변환은 다음과 같이 이루어졌습니다. (2, 2, 3) -> (2 × 2, 3) -> (4, 3)\n",
        "\n",
        "view는 기본적으로 변경 전과 변경 후의 텐서 안의 원소의 개수가 유지되어야 합니다.\n",
        "파이토치의 view는 사이즈가 -1로 설정되면 다른 차원으로부터 해당 값을 유추합니다"
      ]
    },
    {
      "cell_type": "markdown",
      "metadata": {
        "id": "kbUirDPGt6SF"
      },
      "source": [
        " * 3차원 텐서의 크기 변경"
      ]
    },
    {
      "cell_type": "code",
      "metadata": {
        "colab": {
          "base_uri": "https://localhost:8080/"
        },
        "id": "ZU3Ixr1vuIYd",
        "outputId": "8c8a2b44-1b73-46d7-9d3b-22354bbb7e5d"
      },
      "source": [
        "#  (2 × 2 × 3) 텐서를 (? × 1 × 3) 텐서로 변경하라고 하면 ?는 몇 차원인가요?\n",
        "#  (2 × 2 × 3) = (? × 1 × 3) = 12를 만족해야 하므로 ?는 4가 됩니다\n",
        "print(ft) \n",
        "print(ft.shape)\n",
        "print('---------------------------')\n",
        "print(ft.view([-1, 1, 3]))\n",
        "print(ft.view([-1, 1, 3]).shape)"
      ],
      "execution_count": null,
      "outputs": [
        {
          "output_type": "stream",
          "name": "stdout",
          "text": [
            "tensor([[[ 0.,  1.,  2.],\n",
            "         [ 3.,  4.,  5.]],\n",
            "\n",
            "        [[ 6.,  7.,  8.],\n",
            "         [ 9., 10., 11.]]])\n",
            "torch.Size([2, 2, 3])\n",
            "--------------------\n",
            "tensor([[[ 0.,  1.,  2.]],\n",
            "\n",
            "        [[ 3.,  4.,  5.]],\n",
            "\n",
            "        [[ 6.,  7.,  8.]],\n",
            "\n",
            "        [[ 9., 10., 11.]]])\n",
            "torch.Size([4, 1, 3])\n"
          ]
        }
      ]
    },
    {
      "cell_type": "markdown",
      "metadata": {
        "id": "jkSXIEM4vM0e"
      },
      "source": [
        " * 스퀴즈(Squeeze) - 차원이 1인 경우에는 해당 차원을 제거"
      ]
    },
    {
      "cell_type": "code",
      "metadata": {
        "colab": {
          "base_uri": "https://localhost:8080/"
        },
        "id": "lXYG3LbHvPz-",
        "outputId": "fd7eed7e-fbae-445c-8bba-95a08012bdc8"
      },
      "source": [
        "ft = torch.FloatTensor([[0], [1], [2]])\n",
        "print(ft)\n",
        "print(ft.shape)"
      ],
      "execution_count": null,
      "outputs": [
        {
          "output_type": "stream",
          "name": "stdout",
          "text": [
            "tensor([[0.],\n",
            "        [1.],\n",
            "        [2.]])\n",
            "torch.Size([3, 1])\n"
          ]
        }
      ]
    },
    {
      "cell_type": "code",
      "metadata": {
        "colab": {
          "base_uri": "https://localhost:8080/"
        },
        "id": "Me08WYfNvU8f",
        "outputId": "eda79f4a-63c7-4221-97e2-8858ca494866"
      },
      "source": [
        "# 두번째 차원이 1이므로 squeeze를 사용하면 (3,)의 크기를 가지는 텐서로 변경됩니다.\n",
        "# 차원이 1인 경우에는 해당 차원을 제거\n",
        "print(ft.squeeze())\n",
        "print(ft.squeeze().shape)"
      ],
      "execution_count": null,
      "outputs": [
        {
          "output_type": "stream",
          "name": "stdout",
          "text": [
            "tensor([0., 1., 2.])\n",
            "torch.Size([3])\n"
          ]
        }
      ]
    },
    {
      "cell_type": "markdown",
      "metadata": {
        "id": "kYrzxz7Vv3B-"
      },
      "source": [
        "결과는 1이었던 두번째 차원이 제거되면서 (3,)의 크기를 가지는 텐서로 변경되어 1차원 벡터가 된 것을 보여줍니다."
      ]
    },
    {
      "cell_type": "markdown",
      "metadata": {
        "id": "7QNPTRTVv-Il"
      },
      "source": [
        " * 언스퀴즈(Unsqueeze) - 특정 위치에 1인 차원을 추가한다."
      ]
    },
    {
      "cell_type": "code",
      "metadata": {
        "colab": {
          "base_uri": "https://localhost:8080/"
        },
        "id": "F2JgwbFdv6JO",
        "outputId": "822319d5-aa76-47e3-8348-b860aab515aa"
      },
      "source": [
        "ft = torch.Tensor([0, 1, 2])\n",
        "print(ft.shape)"
      ],
      "execution_count": null,
      "outputs": [
        {
          "output_type": "stream",
          "name": "stdout",
          "text": [
            "torch.Size([3])\n"
          ]
        }
      ]
    },
    {
      "cell_type": "markdown",
      "metadata": {
        "id": "VjOQYKLnwWUl"
      },
      "source": [
        " 차원이 1개인 1차원 벡터입니다"
      ]
    },
    {
      "cell_type": "code",
      "metadata": {
        "colab": {
          "base_uri": "https://localhost:8080/"
        },
        "id": "TZ7XoykzwZ2-",
        "outputId": "f090a99e-7bcd-4bbe-dacc-858745d92a8f"
      },
      "source": [
        "# 첫번째 차원의 인덱스를 의미하는 숫자 0을 인자로 넣으면 \"첫번째 차원에 1인 차원이 추가\"됩니다.\n",
        "print(ft)\n",
        "print(ft.unsqueeze(0)) # 인덱스가 0부터 시작하므로 0은 첫번째 차원을 의미한다.\n",
        "print(ft.unsqueeze(0).shape)"
      ],
      "execution_count": null,
      "outputs": [
        {
          "output_type": "stream",
          "name": "stdout",
          "text": [
            "tensor([0., 1., 2.])\n",
            "tensor([[0., 1., 2.]])\n",
            "torch.Size([1, 3])\n"
          ]
        }
      ]
    },
    {
      "cell_type": "markdown",
      "metadata": {
        "id": "_qpe93RvwmaV"
      },
      "source": [
        " 위 결과는 (3,)의 크기를 가졌던 1차원 벡터가 (1, 3)의 2차원 텐서로 변경된 것을 보여줍니다."
      ]
    },
    {
      "cell_type": "code",
      "metadata": {
        "colab": {
          "base_uri": "https://localhost:8080/"
        },
        "id": "JFoVLV1qw3F2",
        "outputId": "ac2a2615-8b42-46da-ab79-5e6aac8db1e0"
      },
      "source": [
        "print(ft)\n",
        "print(ft.view(1, -1))\n",
        "print(ft.view(1, -1).shape)\n",
        "# unsqueeze와 view가 동일한 결과를 만든 것을 보여줍니다"
      ],
      "execution_count": null,
      "outputs": [
        {
          "output_type": "stream",
          "name": "stdout",
          "text": [
            "tensor([0., 1., 2.])\n",
            "tensor([[0., 1., 2.]])\n",
            "torch.Size([1, 3])\n"
          ]
        }
      ]
    },
    {
      "cell_type": "code",
      "metadata": {
        "colab": {
          "base_uri": "https://localhost:8080/"
        },
        "id": "iEJc-h9AxVB_",
        "outputId": "c5a1ed91-a978-40d2-8ee8-7901809fbcd1"
      },
      "source": [
        "print(ft)   # 1*3\n",
        "print(ft.unsqueeze(1))  # 두번째 차원에 1을 추가하겠다는 것을 의미\n",
        "print(ft.unsqueeze(1).shape)  # 3*1"
      ],
      "execution_count": null,
      "outputs": [
        {
          "output_type": "stream",
          "name": "stdout",
          "text": [
            "tensor([0., 1., 2.])\n",
            "tensor([[0.],\n",
            "        [1.],\n",
            "        [2.]])\n",
            "torch.Size([3, 1])\n"
          ]
        }
      ]
    },
    {
      "cell_type": "markdown",
      "metadata": {
        "id": "rfO-P9awx9xl"
      },
      "source": [
        "# view( ), squeeze( ), unsqueeze( )는 \n",
        "\n",
        "# 텐서의 원소 수를 그대로 유지하면서 모양과 차원을 조절합니다."
      ]
    },
    {
      "cell_type": "code",
      "metadata": {
        "colab": {
          "base_uri": "https://localhost:8080/"
        },
        "id": "77vs3bicyPiV",
        "outputId": "e0f661cf-e4d2-41bc-bdeb-a836f771bf6d"
      },
      "source": [
        "lt = torch.LongTensor([1, 2, 3, 4])\n",
        "print(lt)\n",
        "print(lt.float())"
      ],
      "execution_count": null,
      "outputs": [
        {
          "output_type": "stream",
          "name": "stdout",
          "text": [
            "tensor([1, 2, 3, 4])\n",
            "tensor([1., 2., 3., 4.])\n"
          ]
        }
      ]
    },
    {
      "cell_type": "code",
      "metadata": {
        "colab": {
          "base_uri": "https://localhost:8080/"
        },
        "id": "8iuf4VPCyY9O",
        "outputId": "1ea5754d-f87a-4887-8ddf-49fb69bf2eb7"
      },
      "source": [
        "bt = torch.ByteTensor([True, False, False, True])\n",
        "print(bt)\n",
        "print(bt.long())     # long 타입의 텐서로 변경\n",
        "print(bt.float())    # float 타입의 텐서로 변경"
      ],
      "execution_count": null,
      "outputs": [
        {
          "output_type": "stream",
          "name": "stdout",
          "text": [
            "tensor([1, 0, 0, 1], dtype=torch.uint8)\n",
            "tensor([1, 0, 0, 1])\n",
            "tensor([1., 0., 0., 1.])\n"
          ]
        }
      ]
    },
    {
      "cell_type": "markdown",
      "metadata": {
        "id": "rVe5sFYBytov"
      },
      "source": [
        " * 연결하기(concatenate)"
      ]
    },
    {
      "cell_type": "code",
      "metadata": {
        "colab": {
          "base_uri": "https://localhost:8080/"
        },
        "id": "TpJyVxKiytVX",
        "outputId": "624fa446-91d4-4400-9f43-1e2c77148afd"
      },
      "source": [
        "x = torch.FloatTensor([[1, 2], [3, 4]])\n",
        "y = torch.FloatTensor([[5, 6], [7, 8]])\n",
        "print(x)\n",
        "print(y)\n",
        "print('-----------------------')\n",
        "print(torch.cat([x, y]))\n",
        "# torch.cat은 어느 차원을 늘릴 것인지를 인자로 줄 수 있습니다. \n",
        "# dim=0은 첫번째 차원(행:2차원 텐서이므로)을 늘리라는 의미를 담고있습니다.\n",
        "print(torch.cat([x, y], dim=0))\n",
        "print('-----------------------')\n",
        "print(torch.cat([x, y], dim=1))\n",
        "# dim=1은 두번째 차원(열:2차원 텐서이므로)을 늘리라는 의미를 담고있습니다."
      ],
      "execution_count": null,
      "outputs": [
        {
          "output_type": "stream",
          "name": "stdout",
          "text": [
            "tensor([[1., 2.],\n",
            "        [3., 4.]])\n",
            "tensor([[5., 6.],\n",
            "        [7., 8.]])\n",
            "-----------------------\n",
            "tensor([[1., 2.],\n",
            "        [3., 4.],\n",
            "        [5., 6.],\n",
            "        [7., 8.]])\n",
            "tensor([[1., 2.],\n",
            "        [3., 4.],\n",
            "        [5., 6.],\n",
            "        [7., 8.]])\n",
            "-----------------------\n",
            "tensor([[1., 2., 5., 6.],\n",
            "        [3., 4., 7., 8.]])\n"
          ]
        }
      ]
    },
    {
      "cell_type": "markdown",
      "metadata": {
        "id": "XWCMHZEuz-we"
      },
      "source": [
        " * 스택킹(Stacking)"
      ]
    },
    {
      "cell_type": "code",
      "metadata": {
        "colab": {
          "base_uri": "https://localhost:8080/"
        },
        "id": "A9-Qputh0FPu",
        "outputId": "bf9639e0-3012-4a25-ce3b-efd3a257b841"
      },
      "source": [
        "x = torch.FloatTensor([1, 4])\n",
        "y = torch.FloatTensor([2, 5])\n",
        "z = torch.FloatTensor([3, 6])\n",
        "# torch.stack을 통해서 3개의 벡터를 모두 스택킹해보겠습니다.\n",
        "print(torch.stack([x, y, z]))"
      ],
      "execution_count": null,
      "outputs": [
        {
          "output_type": "stream",
          "name": "stdout",
          "text": [
            "tensor([[1., 4.],\n",
            "        [2., 5.],\n",
            "        [3., 6.]])\n"
          ]
        }
      ]
    },
    {
      "cell_type": "markdown",
      "metadata": {
        "id": "D_uoEFdM0aDe"
      },
      "source": [
        " 3개의 벡터가 순차적으로 쌓여 (3 × 2) 텐서가 된 것을 보여줍니다."
      ]
    },
    {
      "cell_type": "code",
      "metadata": {
        "colab": {
          "base_uri": "https://localhost:8080/"
        },
        "id": "I_bv8ERG0Jqv",
        "outputId": "40bc2e32-a03e-4f20-b915-f77e38bec8e8"
      },
      "source": [
        "print(torch.cat([x.unsqueeze(0), y.unsqueeze(0), z.unsqueeze(0)], dim=0)) # 위쪽 stack기능과 같은 작업"
      ],
      "execution_count": null,
      "outputs": [
        {
          "output_type": "stream",
          "name": "stdout",
          "text": [
            "tensor([[1., 4.],\n",
            "        [2., 5.],\n",
            "        [3., 6.]])\n"
          ]
        }
      ]
    },
    {
      "cell_type": "markdown",
      "metadata": {
        "id": "kBD9Mz7E02EP"
      },
      "source": [
        " x, y, z는 기존에는 전부 (2,)의 크기를 가졌습니다. \n",
        " \n",
        " 그런데 .unsqueeze(0)을 하므로서 3개의 벡터는 전부 (1, 2)의 크기의 2차원 텐서로 변경됩니다. \n",
        " \n",
        " 여기에 연결(concatenate)를 의미하는 cat을 사용하면 (3 x 2) 텐서가 됩니다."
      ]
    },
    {
      "cell_type": "code",
      "metadata": {
        "colab": {
          "base_uri": "https://localhost:8080/"
        },
        "id": "4vTuxVyH1MVu",
        "outputId": "ed77d824-0e84-4ad6-8779-d7d9a9fd9ab7"
      },
      "source": [
        "print(torch.stack([x, y, z], dim=1))  # 두번째 차원이 증가하도록 쌓으라는 의미"
      ],
      "execution_count": null,
      "outputs": [
        {
          "output_type": "stream",
          "name": "stdout",
          "text": [
            "tensor([[1., 2., 3.],\n",
            "        [4., 5., 6.]])\n"
          ]
        }
      ]
    },
    {
      "cell_type": "markdown",
      "metadata": {
        "id": "2jOuULD51YY3"
      },
      "source": [
        " * ones_like와 zeros_like - 0으로 채워진 텐서와 1로 채워진 텐서"
      ]
    },
    {
      "cell_type": "code",
      "metadata": {
        "colab": {
          "base_uri": "https://localhost:8080/"
        },
        "id": "6x3-hFzq1a3G",
        "outputId": "ae5a3a83-6c0b-4414-d2dc-62e1f52918fe"
      },
      "source": [
        "x = torch.FloatTensor([[0, 1, 2], [2, 1, 0]])\n",
        "print(x)"
      ],
      "execution_count": null,
      "outputs": [
        {
          "output_type": "stream",
          "name": "stdout",
          "text": [
            "tensor([[0., 1., 2.],\n",
            "        [2., 1., 0.]])\n"
          ]
        }
      ]
    },
    {
      "cell_type": "code",
      "metadata": {
        "colab": {
          "base_uri": "https://localhost:8080/"
        },
        "id": "0lcMIZW11fTe",
        "outputId": "7f0b9f37-b2d0-47e7-b401-6aae1b82cb3b"
      },
      "source": [
        "# ones_like를 하면 동일한 크기(shape)지만 1으로만 값이 채워진 텐서를 생성합니다\n",
        "print(torch.ones_like(x)) # 입력 텐서와 크기를 동일하게 하면서 값을 1로 채우기"
      ],
      "execution_count": null,
      "outputs": [
        {
          "output_type": "stream",
          "name": "stdout",
          "text": [
            "tensor([[1., 1., 1.],\n",
            "        [1., 1., 1.]])\n"
          ]
        }
      ]
    },
    {
      "cell_type": "code",
      "metadata": {
        "colab": {
          "base_uri": "https://localhost:8080/"
        },
        "id": "62Ze2EHw1lWu",
        "outputId": "4d918dbb-7b99-4ef0-fe1a-647c7a178db6"
      },
      "source": [
        "print(torch.zeros_like(x)) # 입력 텐서와 크기를 동일하게 하면서 값을 0으로 채우기"
      ],
      "execution_count": null,
      "outputs": [
        {
          "output_type": "stream",
          "name": "stdout",
          "text": [
            "tensor([[0., 0., 0.],\n",
            "        [0., 0., 0.]])\n"
          ]
        }
      ]
    },
    {
      "cell_type": "markdown",
      "metadata": {
        "id": "8bxnkS0P1oPX"
      },
      "source": [
        " * In-place Operation (덮어쓰기 연산)"
      ]
    },
    {
      "cell_type": "code",
      "metadata": {
        "colab": {
          "base_uri": "https://localhost:8080/"
        },
        "id": "dTp6cT0i1rDf",
        "outputId": "a37f048c-455c-431b-8c2a-369401de0f42"
      },
      "source": [
        "x = torch.FloatTensor([[1, 2], [3, 4]])\n",
        "print(x.mul(2.)) # 곱하기 2를 수행한 결과를 출력\n",
        "print(x) # 기존의 값 출력"
      ],
      "execution_count": null,
      "outputs": [
        {
          "output_type": "stream",
          "name": "stdout",
          "text": [
            "tensor([[2., 4.],\n",
            "        [6., 8.]])\n",
            "tensor([[1., 2.],\n",
            "        [3., 4.]])\n"
          ]
        }
      ]
    },
    {
      "cell_type": "markdown",
      "metadata": {
        "id": "NNuRchfT2MfG"
      },
      "source": [
        "그런데 연산 뒤에 _를 붙이면 기존의 값을 덮어쓰기 합니다.\n",
        "\n"
      ]
    },
    {
      "cell_type": "code",
      "metadata": {
        "colab": {
          "base_uri": "https://localhost:8080/"
        },
        "id": "3mgfe8A42PR3",
        "outputId": "131e3a1a-18cf-42e5-8c53-772ffd7a5fb7"
      },
      "source": [
        "print(x.mul_(2.))  # 곱하기 2를 수행한 결과를 변수 x에 값을 저장하면서 결과를 출력\n",
        "print(x) # 기존의 값 출력"
      ],
      "execution_count": null,
      "outputs": [
        {
          "output_type": "stream",
          "name": "stdout",
          "text": [
            "tensor([[2., 4.],\n",
            "        [6., 8.]])\n",
            "tensor([[2., 4.],\n",
            "        [6., 8.]])\n"
          ]
        }
      ]
    }
  ]
}