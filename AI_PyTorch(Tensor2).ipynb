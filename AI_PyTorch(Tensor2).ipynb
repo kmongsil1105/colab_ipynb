{
  "nbformat": 4,
  "nbformat_minor": 0,
  "metadata": {
    "colab": {
      "name": "AI_PyTorch(Tensor2).ipynb",
      "provenance": [],
      "collapsed_sections": [],
      "authorship_tag": "ABX9TyN08F0bJGPSYDfBCxITYHmv",
      "include_colab_link": true
    },
    "kernelspec": {
      "name": "python3",
      "display_name": "Python 3"
    },
    "language_info": {
      "name": "python"
    }
  },
  "cells": [
    {
      "cell_type": "markdown",
      "metadata": {
        "id": "view-in-github",
        "colab_type": "text"
      },
      "source": [
        "<a href=\"https://colab.research.google.com/github/kmongsil1105/colab_ipynb/blob/main/AI_PyTorch(Tensor2).ipynb\" target=\"_parent\"><img src=\"https://colab.research.google.com/assets/colab-badge.svg\" alt=\"Open In Colab\"/></a>"
      ]
    },
    {
      "cell_type": "markdown",
      "metadata": {
        "id": "8H9VROWsvFsm"
      },
      "source": [
        ""
      ]
    },
    {
      "cell_type": "markdown",
      "metadata": {
        "id": "QnTfP7CurGfc"
      },
      "source": [
        "#  **  텐서 조작하기(Tensor Manipulation) 2  ** "
      ]
    },
    {
      "cell_type": "markdown",
      "metadata": {
        "id": "7uEbCxE2rIBq"
      },
      "source": [
        "### 뷰(View) - 원소의 수를 유지하면서 텐서의 크기 변경. 매우 중요함!!\n",
        "파이토치 텐서의 뷰(View)는 넘파이에서의 리쉐이프(Reshape)와 같은 역할을 합니다. \n",
        "\n",
        "Reshape라는 이름에서 알 수 있듯이, 텐서의 크기(Shape)를 변경해주는 역할을 합니다. 실습을 위해 우선 임의로 다음과 같이 3차원 텐서를 만든다"
      ]
    },
    {
      "cell_type": "code",
      "metadata": {
        "id": "pe9C6XMtu_ne"
      },
      "source": [
        "import numpy as np\n",
        "import torch"
      ],
      "execution_count": null,
      "outputs": []
    },
    {
      "cell_type": "code",
      "metadata": {
        "colab": {
          "base_uri": "https://localhost:8080/"
        },
        "id": "5hqvGvWVreNo",
        "outputId": "8cf61915-84ef-4536-e7cd-40c3b543feb7"
      },
      "source": [
        "t = np.array([[[0, 1, 2],\n",
        "               [3, 4, 5]],\n",
        "              [[6, 7, 8],\n",
        "               [9, 10, 11]]])\n",
        "ft = torch.FloatTensor(t)\n",
        "print(ft.shape)    \n",
        "\n",
        "# torch.Size([2, 2, 3]) ==> 2 * 3 행렬이 옆으로 2개 나열되어 있는 형태!!!"
      ],
      "execution_count": null,
      "outputs": [
        {
          "output_type": "stream",
          "text": [
            "torch.Size([2, 2, 3])\n"
          ],
          "name": "stdout"
        }
      ]
    },
    {
      "cell_type": "markdown",
      "metadata": {
        "id": "FqXx9ksiw9sS"
      },
      "source": [
        "* 3차원 텐서에서 2차원 텐서로 변경 ==> ft 텐서를 view를 사용하여 크기(shape)를 2차원 텐서로 변경"
      ]
    },
    {
      "cell_type": "code",
      "metadata": {
        "colab": {
          "base_uri": "https://localhost:8080/"
        },
        "id": "coB8KUQIw7w8",
        "outputId": "aa744b3e-cc95-4ca5-d55e-d778b3da629b"
      },
      "source": [
        "print(ft.view([-1, 3])) # ft라는 텐서를 (?, 3)의 크기로 변경\n",
        "print(ft.view([-1, 3]).shape)"
      ],
      "execution_count": null,
      "outputs": [
        {
          "output_type": "stream",
          "text": [
            "tensor([[ 0.,  1.,  2.],\n",
            "        [ 3.,  4.,  5.],\n",
            "        [ 6.,  7.,  8.],\n",
            "        [ 9., 10., 11.]])\n",
            "torch.Size([4, 3])\n"
          ],
          "name": "stdout"
        }
      ]
    },
    {
      "cell_type": "markdown",
      "metadata": {
        "id": "qYqZPD6exQj-"
      },
      "source": [
        " * **view([-1, 3])이 가지는 의미**==> -1은 첫번째 차원은 사용자가 잘 모르겠으니 파이토치에 맡기겠다는 의미이고, \n",
        "3은 두번째 차원의 길이는 3을 가지도록 하라는 의미입니다. \n",
        "다시 말해 현재 3차원 텐서를 2차원 텐서로 변경하되 (?, 3)의 크기로 변경하라는 의미입니다. *결과적으로 (4, 3)의 크기를 가지는 텐서를 얻었습니다.*\n",
        "\n"
      ]
    },
    {
      "cell_type": "markdown",
      "metadata": {
        "id": "hPNvcCdi0zGS"
      },
      "source": [
        " * 내부적으로 크기 변환은 다음과 같이 이루어졌습니다. **(2, 2, 3) -> (2 × 2, 3) -> (4, 3)**\n",
        "\n",
        " * 규칙을 정리해봅시다. \n",
        "\n",
        " * view는 기본적으로 **변경 전과 변경 후의 텐서 안의 원소의 개수가 유지**되어야 합니다.\n",
        "\n",
        " * 파이토치의 view는 사이즈가 -1로 설정되면 다른 차원으로부터 해당 값을 유추합니다.\n",
        "\n",
        "변경 전 텐서의 원소의 수는 (2 × 2 × 3) = 12개였습니다. 그리고 변경 후 텐서의 원소의 개수 또한 (4 × 3) = 12개였습니다."
      ]
    },
    {
      "cell_type": "markdown",
      "metadata": {
        "id": "c4UVX3iN1rZj"
      },
      "source": [
        "******************************************"
      ]
    },
    {
      "cell_type": "markdown",
      "metadata": {
        "id": "H_Fxe7MJ1tY7"
      },
      "source": [
        " *  **3차원 텐서의 크기 변경** ==>  3차원 텐서에서 3차원 텐서로 차원은 유지하되, 크기(shape)를 바꾸는 작업을 해보겠습니다. \n",
        " \n",
        " view로 텐서의 크기를 변경하더라도 원소의 수는 유지되어야 한다고 언급한 바 있습니다. \n",
        " \n",
        " 그렇다면 (2 × 2 × 3) 텐서를 (? × 1 × 3) 텐서로 변경하라고 하면 ?는 몇 차원인가요?\n",
        "\n",
        "\n",
        " * (2 × 2 × 3) = (? × 1 × 3) = 12를 만족해야 하므로 ?는 4가 됩니다. 이를 실습으로 확인해봅시다."
      ]
    },
    {
      "cell_type": "code",
      "metadata": {
        "colab": {
          "base_uri": "https://localhost:8080/"
        },
        "id": "oSkjGGyMxmlA",
        "outputId": "2f72bfa2-16ae-4bc2-ef65-2ab52f494e16"
      },
      "source": [
        "print(ft.view([-1, 1, 3]))         #     tensor([[ 0.,  1.,  2.],   ==> 변경전 tensor\n",
        "print(ft.view([-1, 1, 3]).shape)   #             [ 3.,  4.,  5.],\n",
        "                                   #             [ 6.,  7.,  8.],\n",
        "                                   #             [ 9., 10., 11.]]) "
      ],
      "execution_count": null,
      "outputs": [
        {
          "output_type": "stream",
          "text": [
            "tensor([[[ 0.,  1.,  2.]],\n",
            "\n",
            "        [[ 3.,  4.,  5.]],\n",
            "\n",
            "        [[ 6.,  7.,  8.]],\n",
            "\n",
            "        [[ 9., 10., 11.]]])\n",
            "torch.Size([4, 1, 3])\n"
          ],
          "name": "stdout"
        }
      ]
    },
    {
      "cell_type": "markdown",
      "metadata": {
        "id": "wDXjG3TG3y22"
      },
      "source": [
        " * 스퀴즈(Squeeze) - 1인 차원을 제거한다."
      ]
    },
    {
      "cell_type": "markdown",
      "metadata": {
        "id": "m8rClgUJ33EB"
      },
      "source": [
        " * 스퀴즈는 차원이 1인 경우에는 해당 차원을 제거합니다.\n",
        "실습을 위해 임의로 (3 × 1)의 크기를 가지는 2차원 텐서를 만들겠습니다."
      ]
    },
    {
      "cell_type": "code",
      "metadata": {
        "colab": {
          "base_uri": "https://localhost:8080/"
        },
        "id": "RQ6lh3a122Ps",
        "outputId": "4a0edf7d-b1af-4779-cebf-5a5e6f5dc897"
      },
      "source": [
        "ft = torch.FloatTensor([[0], [1], [2]])\n",
        "print(ft)\n",
        "print(ft.shape)"
      ],
      "execution_count": null,
      "outputs": [
        {
          "output_type": "stream",
          "text": [
            "tensor([[0.],\n",
            "        [1.],\n",
            "        [2.]])\n",
            "torch.Size([3, 1])\n"
          ],
          "name": "stdout"
        }
      ]
    },
    {
      "cell_type": "markdown",
      "metadata": {
        "id": "4Zm4mGnb4Egw"
      },
      "source": [
        " * 해당 텐서는 (3 × 1)의 크기를 가집니다. 두번째 차원이 1이므로 squeeze를 사용하면 (3,)의 크기를 가지는 텐서로 변경됩니다."
      ]
    },
    {
      "cell_type": "code",
      "metadata": {
        "colab": {
          "base_uri": "https://localhost:8080/"
        },
        "id": "SlmHhy8h4G1f",
        "outputId": "7b4649e1-03d4-4e15-b182-e0fced31c9c5"
      },
      "source": [
        "print(ft.squeeze())\n",
        "print(ft.squeeze().shape)"
      ],
      "execution_count": null,
      "outputs": [
        {
          "output_type": "stream",
          "text": [
            "tensor([0., 1., 2.])\n",
            "torch.Size([3])\n"
          ],
          "name": "stdout"
        }
      ]
    },
    {
      "cell_type": "markdown",
      "metadata": {
        "id": "tjIxcvfi4hCm"
      },
      "source": [
        " * ******결과는 1이었던 두번째 차원이 제거되면서 (3,)의 크기를 가지는 텐서로 변경되어 1차원 벡터가 된 것을 알 수 있다."
      ]
    },
    {
      "cell_type": "markdown",
      "metadata": {
        "id": "yRmkiU5YBmcg"
      },
      "source": [
        "-------------------------------------------------------"
      ]
    },
    {
      "cell_type": "markdown",
      "metadata": {
        "id": "0QSBsxcxBoor"
      },
      "source": [
        "* 타입 캐스팅(Type Casting)"
      ]
    },
    {
      "cell_type": "markdown",
      "metadata": {
        "id": "n_GTLivHCFXW"
      },
      "source": [
        "* 텐서에는 자료형이라는 것이 있습니다. 각 데이터형별로 정의되어져 있는데,    \n",
        "* 32비트의 부동 소수점은 torch.FloatTensor를, \n",
        "* 64비트의 부호 있는 정수는 torch.LongTensor를 사용합니다.\n",
        " * **GPU 연산용 ==> \"cuda.floatTensor\"**\n",
        "\n",
        " * **CPU 연산용 ==> \"torch.floatTensor\"**"
      ]
    },
    {
      "cell_type": "code",
      "metadata": {
        "colab": {
          "base_uri": "https://localhost:8080/"
        },
        "id": "dkCN6r0YCE5G",
        "outputId": "0b079d34-2f86-48ba-d2cd-eace5b344f83"
      },
      "source": [
        "# 실습을 위해 long 타입의 lt라는 텐서를 선언\n",
        "lt = torch.LongTensor([1, 2, 3, 4])\n",
        "print(lt)"
      ],
      "execution_count": null,
      "outputs": [
        {
          "output_type": "stream",
          "text": [
            "tensor([1, 2, 3, 4])\n"
          ],
          "name": "stdout"
        }
      ]
    },
    {
      "cell_type": "code",
      "metadata": {
        "colab": {
          "base_uri": "https://localhost:8080/"
        },
        "id": "ZtTqv_4bBsCU",
        "outputId": "d7064ad9-9ddb-48fb-8a04-348473bcff5b"
      },
      "source": [
        "# 텐서에다가 .float()를 붙이면 바로 float형으로 타입이 변경됩니다.\n",
        "print(lt.float())"
      ],
      "execution_count": null,
      "outputs": [
        {
          "output_type": "stream",
          "text": [
            "tensor([1., 2., 3., 4.])\n"
          ],
          "name": "stdout"
        }
      ]
    },
    {
      "cell_type": "code",
      "metadata": {
        "colab": {
          "base_uri": "https://localhost:8080/"
        },
        "id": "T23CyAwaEZWe",
        "outputId": "bcee5c0f-16c8-4222-8d21-79daac493fb3"
      },
      "source": [
        "# 이번에는 Byte 타입의 bt라는 텐서를 만들어보겠습니다.\n",
        "bt = torch.ByteTensor([True, False, False, True])\n",
        "print(bt)"
      ],
      "execution_count": null,
      "outputs": [
        {
          "output_type": "stream",
          "text": [
            "tensor([1, 0, 0, 1], dtype=torch.uint8)\n"
          ],
          "name": "stdout"
        }
      ]
    },
    {
      "cell_type": "markdown",
      "metadata": {
        "id": "UUw483yeElaF"
      },
      "source": [
        " * 여기에 .long()이라고하면 long 타입의 텐서로 변경되고 .float()이라고 하면 float 타입의 텐서로 변경됩니다."
      ]
    },
    {
      "cell_type": "code",
      "metadata": {
        "colab": {
          "base_uri": "https://localhost:8080/"
        },
        "id": "iM_I3By2EkpI",
        "outputId": "70d0c4d9-2c51-47ac-9850-13e2078f0d59"
      },
      "source": [
        "print(bt.long())\n",
        "print(bt.float())"
      ],
      "execution_count": null,
      "outputs": [
        {
          "output_type": "stream",
          "text": [
            "tensor([1, 0, 0, 1])\n",
            "tensor([1., 0., 0., 1.])\n"
          ],
          "name": "stdout"
        }
      ]
    },
    {
      "cell_type": "markdown",
      "metadata": {
        "id": "XjaE-Jc7FCJ2"
      },
      "source": [
        " ------------------------------------------------------------"
      ]
    },
    {
      "cell_type": "markdown",
      "metadata": {
        "id": "FzwC9UQ0E0Hw"
      },
      "source": [
        " * 연결하기(concatenate)\n",
        "\n",
        " 이번에는 두 텐서를 연결하는 방법에 대해서 알아보겠습니다.\n",
        "우선 (2 × 2) 크기의 텐서를 두 개 만듭니다."
      ]
    },
    {
      "cell_type": "code",
      "metadata": {
        "colab": {
          "base_uri": "https://localhost:8080/"
        },
        "id": "CJcZ9WuEEg5H",
        "outputId": "1bf3be22-39c6-437a-fa0b-346b91382818"
      },
      "source": [
        "x = torch.FloatTensor([[1, 2], [3, 4]])  # 2 * 2\n",
        "y = torch.FloatTensor([[5, 6], [7, 8]])  # 2 * 2 \n",
        "print(x)\n",
        "print(y)"
      ],
      "execution_count": null,
      "outputs": [
        {
          "output_type": "stream",
          "text": [
            "tensor([[1., 2.],\n",
            "        [3., 4.]])\n",
            "tensor([[5., 6.],\n",
            "        [7., 8.]])\n"
          ],
          "name": "stdout"
        }
      ]
    },
    {
      "cell_type": "markdown",
      "metadata": {
        "id": "DY8WSii6FNPg"
      },
      "source": [
        " * 두 텐서를 torch.cat([ ])를 통해 연결해보겠습니다. \n",
        " \n",
        "  그런데 연결 방법은 한 가지만 있는 것이 아닙니다. \n",
        "  \n",
        "  torch.cat은 어느 차원을 늘릴 것인지를 인자로 줄 수 있습니다. ==> \"**dim=0**\" 은 첫번째 차원을 늘리라는 의미를 담고있습니다."
      ]
    },
    {
      "cell_type": "code",
      "metadata": {
        "colab": {
          "base_uri": "https://localhost:8080/"
        },
        "id": "ZIrKTNYJFHzr",
        "outputId": "acaff269-28e1-4b98-f8d3-ff7da6bf7cdd"
      },
      "source": [
        "print(torch.cat([x, y], dim=0))    # 4 * 2 로 연결해서 변경!!!\n",
        "#   dim=0을 인자로 했더니 두 개의 (2 × 2) 텐서가 (4 × 2) 텐서가 된 것을 볼 수 있습니다. "
      ],
      "execution_count": null,
      "outputs": [
        {
          "output_type": "stream",
          "text": [
            "tensor([[1., 2.],\n",
            "        [3., 4.],\n",
            "        [5., 6.],\n",
            "        [7., 8.]])\n"
          ],
          "name": "stdout"
        }
      ]
    },
    {
      "cell_type": "markdown",
      "metadata": {
        "id": "wxrviHjmF3_a"
      },
      "source": [
        " * 이번에는 dim=1을 인자로 주겠습니다."
      ]
    },
    {
      "cell_type": "code",
      "metadata": {
        "colab": {
          "base_uri": "https://localhost:8080/"
        },
        "id": "9RgNumx2F6JB",
        "outputId": "529eea61-f718-4f1c-a7dc-13051a53e314"
      },
      "source": [
        "print(torch.cat([x, y], dim=1))    # 2 * 4 로 연결해서 변경!!!\n",
        "\n",
        "# dim=1을 인자로 했더니 두 개의 (2 × 2) 텐서가 (2 × 4) 텐서가 된 것을 볼 수 있습니다."
      ],
      "execution_count": null,
      "outputs": [
        {
          "output_type": "stream",
          "text": [
            "tensor([[1., 2., 5., 6.],\n",
            "        [3., 4., 7., 8.]])\n"
          ],
          "name": "stdout"
        }
      ]
    },
    {
      "cell_type": "markdown",
      "metadata": {
        "id": "tFDHkRKEGO3B"
      },
      "source": [
        " * 딥 러닝에서는 주로 모델의 입력 또는 중간 연산에서 두 개의 텐서를 연결하는 경우가 많습니다. \n",
        " \n",
        " 두 텐서를 연결해서 입력으로 사용하는 것은 두 가지의 정보를 모두 사용한다는 의미를 가지고 있습니다.\n"
      ]
    },
    {
      "cell_type": "markdown",
      "metadata": {
        "id": "U0fT0OhMGcil"
      },
      "source": [
        " ----------------------------------------------------------------"
      ]
    },
    {
      "cell_type": "markdown",
      "metadata": {
        "id": "21gki0q-GeDZ"
      },
      "source": [
        " * ones_like와 zeros_like - 0으로 채워진 텐서와 1로 채워진 텐서"
      ]
    },
    {
      "cell_type": "code",
      "metadata": {
        "colab": {
          "base_uri": "https://localhost:8080/"
        },
        "id": "lfDQLFpnGf7A",
        "outputId": "42ae1238-080d-438d-ea9d-b1aa702c6173"
      },
      "source": [
        "x = torch.FloatTensor([[0, 1, 2], [2, 1, 0]])  # 2 * 3 텐서\n",
        "print(x)"
      ],
      "execution_count": null,
      "outputs": [
        {
          "output_type": "stream",
          "text": [
            "tensor([[0., 1., 2.],\n",
            "        [2., 1., 0.]])\n"
          ],
          "name": "stdout"
        }
      ]
    },
    {
      "cell_type": "markdown",
      "metadata": {
        "id": "vLGJK84WGpr_"
      },
      "source": [
        " * 위 텐서에 ones_like를 하면 동일한 크기(shape)지만 1으로만 값이 채워진 텐서를 생성"
      ]
    },
    {
      "cell_type": "code",
      "metadata": {
        "colab": {
          "base_uri": "https://localhost:8080/"
        },
        "id": "TWDgvOeBGs7B",
        "outputId": "a82ecc48-7942-47ed-9b92-641c577da834"
      },
      "source": [
        "print(torch.ones_like(x)) # 입력 텐서와 크기를 동일하게 하면서 값을 1로 채우기"
      ],
      "execution_count": null,
      "outputs": [
        {
          "output_type": "stream",
          "text": [
            "tensor([[1., 1., 1.],\n",
            "        [1., 1., 1.]])\n"
          ],
          "name": "stdout"
        }
      ]
    },
    {
      "cell_type": "markdown",
      "metadata": {
        "id": "fhdENjNjG0s3"
      },
      "source": [
        " * 위 텐서에 zeros_like를 하면 동일한 크기(shape)지만 0으로만 값이 채워진 텐서를 생성합니다."
      ]
    },
    {
      "cell_type": "code",
      "metadata": {
        "colab": {
          "base_uri": "https://localhost:8080/"
        },
        "id": "vHT4FvVHG2UT",
        "outputId": "67b6780f-b12b-4f67-e3ed-6815d19e57b5"
      },
      "source": [
        "print(torch.zeros_like(x)) # 입력 텐서와 크기를 동일하게 하면서 값을 0으로 채우기"
      ],
      "execution_count": null,
      "outputs": [
        {
          "output_type": "stream",
          "text": [
            "tensor([[0., 0., 0.],\n",
            "        [0., 0., 0.]])\n"
          ],
          "name": "stdout"
        }
      ]
    }
  ]
}