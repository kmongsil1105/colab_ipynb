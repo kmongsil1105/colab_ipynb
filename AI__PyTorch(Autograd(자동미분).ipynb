{
  "nbformat": 4,
  "nbformat_minor": 0,
  "metadata": {
    "colab": {
      "name": "AI__PyTorch(Autograd(자동미분).ipynb",
      "provenance": [],
      "collapsed_sections": [],
      "authorship_tag": "ABX9TyOibMmvHjaciF8Ty8N+M2Zj",
      "include_colab_link": true
    },
    "kernelspec": {
      "name": "python3",
      "display_name": "Python 3"
    },
    "language_info": {
      "name": "python"
    }
  },
  "cells": [
    {
      "cell_type": "markdown",
      "metadata": {
        "id": "view-in-github",
        "colab_type": "text"
      },
      "source": [
        "<a href=\"https://colab.research.google.com/github/kmongsil1105/colab_ipynb/blob/main/AI__PyTorch(Autograd(%EC%9E%90%EB%8F%99%EB%AF%B8%EB%B6%84).ipynb\" target=\"_parent\"><img src=\"https://colab.research.google.com/assets/colab-badge.svg\" alt=\"Open In Colab\"/></a>"
      ]
    },
    {
      "cell_type": "code",
      "metadata": {
        "id": "rB3SmdT0y39y"
      },
      "source": [
        "import torch"
      ],
      "execution_count": null,
      "outputs": []
    },
    {
      "cell_type": "code",
      "metadata": {
        "id": "zPuf921_y6-y"
      },
      "source": [
        "w = torch.tensor(2.0, requires_grad=True)\n",
        "# W값을 입력받음"
      ],
      "execution_count": null,
      "outputs": []
    },
    {
      "cell_type": "code",
      "metadata": {
        "id": "XBi5wzNQzHqQ"
      },
      "source": [
        "y = w**2\n",
        "z = 2*y + 5\n",
        "# 함수식을 지정해 줌"
      ],
      "execution_count": null,
      "outputs": []
    },
    {
      "cell_type": "code",
      "metadata": {
        "id": "5acIPc-nzMUc"
      },
      "source": [
        "z.backward()\n",
        "# backward() 함수로 편미분()"
      ],
      "execution_count": null,
      "outputs": []
    },
    {
      "cell_type": "code",
      "metadata": {
        "colab": {
          "base_uri": "https://localhost:8080/"
        },
        "id": "CiWAiLZIzPlS",
        "outputId": "34eea8d2-1372-4b99-fb94-ff23e7a93ce8"
      },
      "source": [
        "print('수식을 w로 미분한 값 : {}'.format(w.grad)) # 함수만 주어주면 알아서 미분해준다!!\n"
      ],
      "execution_count": null,
      "outputs": [
        {
          "output_type": "stream",
          "text": [
            "수식을 w로 미분한 값 : 8.0\n"
          ],
          "name": "stdout"
        }
      ]
    }
  ]
}