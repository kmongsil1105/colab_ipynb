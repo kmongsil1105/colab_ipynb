{
  "nbformat": 4,
  "nbformat_minor": 0,
  "metadata": {
    "colab": {
      "name": "AI_custom_model_in_keras.ipynb",
      "provenance": [],
      "collapsed_sections": [],
      "authorship_tag": "ABX9TyMEDGNLMqxAd42BWacoekzg",
      "include_colab_link": true
    },
    "kernelspec": {
      "name": "python3",
      "display_name": "Python 3"
    },
    "accelerator": "GPU"
  },
  "cells": [
    {
      "cell_type": "markdown",
      "metadata": {
        "id": "view-in-github",
        "colab_type": "text"
      },
      "source": [
        "<a href=\"https://colab.research.google.com/github/kmongsil1105/colab_ipynb/blob/main/AI_custom_model_in_keras.ipynb\" target=\"_parent\"><img src=\"https://colab.research.google.com/assets/colab-badge.svg\" alt=\"Open In Colab\"/></a>"
      ]
    },
    {
      "cell_type": "markdown",
      "metadata": {
        "id": "rHTDvDbj1ZDT"
      },
      "source": [
        "# 케라스 API를 사용한 사용자 정의 모델 만들기 with 텐서플로 2.3\n",
        "\n",
        "DLD(Daejeon Learning Day) 2020을 위해 작성된 노트북입니다.\n",
        "\n",
        "* 깃허브 주소: https://github.com/rickiepark/handson-ml2/blob/master/custom_model_in_keras.ipynb\n",
        "* 코랩 주소: https://colab.research.google.com/github/rickiepark/handson-ml2/blob/master/custom_model_in_keras.ipynb"
      ]
    },
    {
      "cell_type": "code",
      "metadata": {
        "id": "MpcLSx_i1ciF",
        "colab": {
          "base_uri": "https://localhost:8080/",
          "height": 35
        },
        "outputId": "db109cdd-19da-4e7a-abb1-c8258ab37da7"
      },
      "source": [
        "import tensorflow as tf\n",
        "\n",
        "tf.__version__"
      ],
      "execution_count": null,
      "outputs": [
        {
          "output_type": "execute_result",
          "data": {
            "application/vnd.google.colaboratory.intrinsic+json": {
              "type": "string"
            },
            "text/plain": [
              "'2.3.0'"
            ]
          },
          "metadata": {
            "tags": []
          },
          "execution_count": 43
        }
      ]
    },
    {
      "cell_type": "markdown",
      "metadata": {
        "id": "N4tjqzSQ1kWk"
      },
      "source": [
        "### MNIST 손글씨 숫자 데이터 적재"
      ]
    },
    {
      "cell_type": "code",
      "metadata": {
        "id": "-5wNJSPl1lYM"
      },
      "source": [
        "(X_train, y_train), (X_test, y_test) = tf.keras.datasets.mnist.load_data()\n",
        "\n",
        "X_train = X_train.reshape(-1, 784) / 255.   # reshape( )으로 784개의 1차원 배열로 변경하고, 전처리(0~1사이의 실수값)으로 ( / 255.) 변경\n",
        "\n",
        "# 밀집층(완전연결층)이라고 불리는 기본적인 신경연결망의 층을 이용\n",
        "# MNIST 데이터셋은 28 * 28 의 2차원 배열이지만\n",
        "# numpy의 reshape( )으로 784개의 1차원 배열로 변경\n",
        "# 신경망 사용시에는 0 ~ 255의 pixel값을 그대로 사용하는 것 보다는 \n",
        "# 0 ~ 1 사이의 값(실수값)으로 신경망을 훈련하는 것이 효율적이므로 ==>  / 255. 처리를 해 줌 !!!\n"
      ],
      "execution_count": null,
      "outputs": []
    },
    {
      "cell_type": "markdown",
      "metadata": {
        "id": "1Tr2QlAv-ItD"
      },
      "source": [
        "## 사용할 데이터 셋 확인"
      ]
    },
    {
      "cell_type": "code",
      "metadata": {
        "id": "_NviftN52JBr",
        "colab": {
          "base_uri": "https://localhost:8080/",
          "height": 34
        },
        "outputId": "eced4e0d-369e-438c-a0a5-d9b5cb90c054"
      },
      "source": [
        "X_train.shape  # 784개의 원소(pixel)를 확인할 수 있다."
      ],
      "execution_count": null,
      "outputs": [
        {
          "output_type": "execute_result",
          "data": {
            "text/plain": [
              "(60000, 784)"
            ]
          },
          "metadata": {
            "tags": []
          },
          "execution_count": 45
        }
      ]
    },
    {
      "cell_type": "markdown",
      "metadata": {
        "id": "cN9FRUmM-Riw"
      },
      "source": [
        "## 사용자 정의층을 만들기 전에...\n",
        "## Keras에서 사용하는 대표적인 2가지 모델을 살펴보자!"
      ]
    },
    {
      "cell_type": "markdown",
      "metadata": {
        "id": "3G-UDI7y2M46"
      },
      "source": [
        "### `Sequential()` 클래스와 함수형 API의 관계 ==> 이 두가지를 사용해서 딥러닝 모델을 주로 만든다!"
      ]
    },
    {
      "cell_type": "markdown",
      "metadata": {
        "id": "h8lrySRW2Riy"
      },
      "source": [
        "# 1. Sequential( ) 클래스 :: 모델 생성 방법"
      ]
    },
    {
      "cell_type": "markdown",
      "metadata": {
        "id": "fx1XkGLT2VOV"
      },
      "source": [
        "시퀀셜 모델에 10개의 유닛을 가진 완전 연결 층을 추가합니다."
      ]
    },
    {
      "cell_type": "code",
      "metadata": {
        "id": "BP2WiMUV2ONz",
        "colab": {
          "base_uri": "https://localhost:8080/",
          "height": 185
        },
        "outputId": "72a9c82f-e82e-4ff6-f6d5-a5e7e6ea3e1c"
      },
      "source": [
        "seq_model = tf.keras.Sequential()\n",
        "\n",
        "seq_model.add(tf.keras.layers.Dense(units=10,  # unit(뉴런)의 갯수는 임의로\n",
        "                                    activation='softmax',\n",
        "                                    input_shape=(784,)))  # 입력받는 배열의 크기\n",
        "\n",
        "seq_model.summary()     # 생성된 모델의 구조를 출력할 수 있다."
      ],
      "execution_count": null,
      "outputs": [
        {
          "output_type": "stream",
          "text": [
            "Model: \"sequential_2\"\n",
            "_________________________________________________________________\n",
            "Layer (type)                 Output Shape              Param #   \n",
            "=================================================================\n",
            "dense_6 (Dense)              (None, 10)                7850      \n",
            "=================================================================\n",
            "Total params: 7,850\n",
            "Trainable params: 7,850\n",
            "Non-trainable params: 0\n",
            "_________________________________________________________________\n"
          ],
          "name": "stdout"
        }
      ]
    },
    {
      "cell_type": "markdown",
      "metadata": {
        "id": "b9prV-dS_8Ag"
      },
      "source": [
        "결과 :: 모델이름, Dense class, 이 층을 통해서 출력되는 tensor의 크기(Shape), 이 층에서 사용하는 parameter의 갯수(Param #)\n",
        "\n",
        "## sequential class를 사용한 Keras 신경망!!!"
      ]
    },
    {
      "cell_type": "code",
      "metadata": {
        "id": "YTui2Ws2AgLH",
        "colab": {
          "base_uri": "https://localhost:8080/",
          "height": 101
        },
        "outputId": "5ce9dd11-21b3-4f4a-df5b-f97e2930d51c"
      },
      "source": [
        "# 훈련!!!\n",
        "seq_model.compile(loss='sparse_categorical_crossentropy',   # compile 메소드 : loss(손실함수) 지정\n",
        "                  metrics=['accuracy'])                     # metrics  : 출력하고 싶은 지표값을 지정\n",
        "seq_model.fit(X_train, y_train, batch_size=32, epochs=2)    # 훈련보다는 \"사용자 정의 모델\"을 만드는 것이 목표이므로 \n",
        "                                                            # epochs는 2만큼만 지정!!  ==>  그래도 accuracy는 91% 정도 나옴.."
      ],
      "execution_count": null,
      "outputs": [
        {
          "output_type": "stream",
          "text": [
            "Epoch 1/2\n",
            "1875/1875 [==============================] - 3s 2ms/step - loss: 0.4384 - accuracy: 0.8819\n",
            "Epoch 2/2\n",
            "1875/1875 [==============================] - 3s 2ms/step - loss: 0.3030 - accuracy: 0.9160\n"
          ],
          "name": "stdout"
        },
        {
          "output_type": "execute_result",
          "data": {
            "text/plain": [
              "<tensorflow.python.keras.callbacks.History at 0x7f81d95a1f98>"
            ]
          },
          "metadata": {
            "tags": []
          },
          "execution_count": 47
        }
      ]
    },
    {
      "cell_type": "markdown",
      "metadata": {
        "id": "lUVI1M_pMKiz"
      },
      "source": [
        "# 2. 함수형 API: 모델 생성 방법\n",
        "\n",
        "함수형 API를 사용할 때는 `Input()`을 사용해 입력의 크기를 정의해야 합니다. 하지만 `InputLayer` 층이 추가되어 있습니다."
      ]
    },
    {
      "cell_type": "code",
      "metadata": {
        "id": "9mGrPnZmML7p",
        "colab": {
          "base_uri": "https://localhost:8080/",
          "height": 218
        },
        "outputId": "d3ebd772-10ad-4cb1-d564-3eec62e11cee"
      },
      "source": [
        "   # 입력과 출력을 chain처럼 연결함 \n",
        "   # 모델이라는 class를 사용해서, 이 class에 입력과 출력을 지정해서 Keras 모델을 만든다!!\n",
        "   ########################\n",
        "inputs = tf.keras.layers.Input(784)        # 784개의 1차원 배열값을 입력값으로 지정\n",
        " \n",
        "   # 위의 결과값인 inputs값을 Dense층에 입력받아서 아래에서 outputs값이 나오고, \n",
        "   # 다음 Dense층을 추가한다면 또 outputs값이 inputs값으로 들어가는 작업이 반복된다.\n",
        "\n",
        "outputs = tf.keras.layers.Dense(units=10,        \n",
        "                                activation='softmax')(inputs)  # __call()__ 메서드 호출\n",
        "# dense = tf.keras.layers.Dense(units=10, activation='softmax')\n",
        "# outputs = dense(inputs)\n",
        "\n",
        "func_model = tf.keras.Model(inputs, outputs)    #  모델층을 만들때 inputs, outputs을 지정\n",
        "\n",
        "func_model.summary()                            #  만들어진 모델의 구조를 출력"
      ],
      "execution_count": null,
      "outputs": [
        {
          "output_type": "stream",
          "text": [
            "Model: \"functional_9\"\n",
            "_________________________________________________________________\n",
            "Layer (type)                 Output Shape              Param #   \n",
            "=================================================================\n",
            "input_11 (InputLayer)        [(None, 784)]             0         \n",
            "_________________________________________________________________\n",
            "dense_7 (Dense)              (None, 10)                7850      \n",
            "=================================================================\n",
            "Total params: 7,850\n",
            "Trainable params: 7,850\n",
            "Non-trainable params: 0\n",
            "_________________________________________________________________\n"
          ],
          "name": "stdout"
        }
      ]
    },
    {
      "cell_type": "markdown",
      "metadata": {
        "id": "XBgClzMrR4yP"
      },
      "source": [
        " 결과 : 위에서 본 sequetial 모델과 비슷한 결과이지만 input_1이라는 2차원 배열 layer가 추가되었다,"
      ]
    },
    {
      "cell_type": "code",
      "metadata": {
        "id": "8bvPCNTGSaIG",
        "colab": {
          "base_uri": "https://localhost:8080/",
          "height": 101
        },
        "outputId": "d28bbddc-5293-446f-cb2a-323c421cf94d"
      },
      "source": [
        "  # 역시 훈련\n",
        "  \n",
        "func_model.compile(loss='sparse_categorical_crossentropy',\n",
        "                  metrics=['accuracy'])\n",
        "func_model.fit(X_train, y_train, batch_size=32, epochs=2)"
      ],
      "execution_count": null,
      "outputs": [
        {
          "output_type": "stream",
          "text": [
            "Epoch 1/2\n",
            "1875/1875 [==============================] - 3s 2ms/step - loss: 0.4372 - accuracy: 0.8842\n",
            "Epoch 2/2\n",
            "1875/1875 [==============================] - 3s 2ms/step - loss: 0.3017 - accuracy: 0.9157\n"
          ],
          "name": "stdout"
        },
        {
          "output_type": "execute_result",
          "data": {
            "text/plain": [
              "<tensorflow.python.keras.callbacks.History at 0x7f81d94f2e10>"
            ]
          },
          "metadata": {
            "tags": []
          },
          "execution_count": 49
        }
      ]
    },
    {
      "cell_type": "markdown",
      "metadata": {
        "id": "mffTFrqcSy2N"
      },
      "source": [
        "### `Input`의 정체는 무엇일까요? 이 함수는 `InputLayer` 클래스의 객체를 만들어 그 결과를 반환합니다."
      ]
    },
    {
      "cell_type": "code",
      "metadata": {
        "id": "LdnDFtW3S4Fq",
        "colab": {
          "base_uri": "https://localhost:8080/",
          "height": 34
        },
        "outputId": "63f5ed66-139a-4d52-f589-a66567af0989"
      },
      "source": [
        "type(tf.keras.layers.Input)   # input은  함.수!!!"
      ],
      "execution_count": null,
      "outputs": [
        {
          "output_type": "execute_result",
          "data": {
            "text/plain": [
              "function"
            ]
          },
          "metadata": {
            "tags": []
          },
          "execution_count": 50
        }
      ]
    },
    {
      "cell_type": "markdown",
      "metadata": {
        "id": "9Gde_cNnTPVp"
      },
      "source": [
        "## 사실 신경망의 입력층은 입력 그 자체입니다. `InputLayer` 객체의 입력 노드 출력을 그대로 `Dense` 층에 주입할 수 있습니다. 모든 층은 입력과 출력 노드를 정의합니다."
      ]
    },
    {
      "cell_type": "code",
      "metadata": {
        "id": "XJPPkQy3TZWb",
        "colab": {
          "base_uri": "https://localhost:8080/",
          "height": 218
        },
        "outputId": "3b6ec6b2-3e74-49d4-b676-79deec789b36"
      },
      "source": [
        "# inputs = tf.keras.layers.Input(784)\n",
        "\n",
        "input_layer = tf.keras.layers.InputLayer(784)    # 위의 출력모델에서 보인 InputLayer라는 레이어를 사용해서 코드작성\n",
        "inputs = input_layer._inbound_nodes[0].outputs   # inputs = tf.keras.layers.Input(784) 명령과 같은 의미\n",
        "\n",
        "# outputs = tf.keras.layers.Dense(units=10,        \n",
        "#                                activation='softmax')(inputs) \n",
        "outputs = tf.keras.layers.Dense(units=10,\n",
        "                                activation='softmax')(inputs)\n",
        "\n",
        "input_layer_model = tf.keras.Model(inputs, outputs)\n",
        "\n",
        "input_layer_model.summary()"
      ],
      "execution_count": null,
      "outputs": [
        {
          "output_type": "stream",
          "text": [
            "Model: \"functional_11\"\n",
            "_________________________________________________________________\n",
            "Layer (type)                 Output Shape              Param #   \n",
            "=================================================================\n",
            "input_12 (InputLayer)        [(None, 784)]             0         \n",
            "_________________________________________________________________\n",
            "dense_8 (Dense)              (None, 10)                7850      \n",
            "=================================================================\n",
            "Total params: 7,850\n",
            "Trainable params: 7,850\n",
            "Non-trainable params: 0\n",
            "_________________________________________________________________\n"
          ],
          "name": "stdout"
        }
      ]
    },
    {
      "cell_type": "code",
      "metadata": {
        "id": "Y_kejviwU4Ji",
        "colab": {
          "base_uri": "https://localhost:8080/",
          "height": 101
        },
        "outputId": "e565908b-6bb6-4a61-e2cc-47664c5f3e8f"
      },
      "source": [
        "  #  훈련!!\n",
        "\n",
        "input_layer_model.compile(loss='sparse_categorical_crossentropy', \n",
        "                          metrics=['accuracy'])\n",
        "input_layer_model.fit(X_train, y_train, batch_size=32, epochs=2)"
      ],
      "execution_count": null,
      "outputs": [
        {
          "output_type": "stream",
          "text": [
            "Epoch 1/2\n",
            "1875/1875 [==============================] - 3s 2ms/step - loss: 0.4406 - accuracy: 0.8827\n",
            "Epoch 2/2\n",
            "1875/1875 [==============================] - 3s 2ms/step - loss: 0.3024 - accuracy: 0.9161\n"
          ],
          "name": "stdout"
        },
        {
          "output_type": "execute_result",
          "data": {
            "text/plain": [
              "<tensorflow.python.keras.callbacks.History at 0x7f81d94e33c8>"
            ]
          },
          "metadata": {
            "tags": []
          },
          "execution_count": 52
        }
      ]
    },
    {
      "cell_type": "markdown",
      "metadata": {
        "id": "iBWj9fSVVBoa"
      },
      "source": [
        "### 함수형 API를 사용한 모델은 `layers` 속성에 `InputLayer` 클래스를 포함합니다."
      ]
    },
    {
      "cell_type": "code",
      "metadata": {
        "id": "adzvt-IQVDgx",
        "colab": {
          "base_uri": "https://localhost:8080/",
          "height": 50
        },
        "outputId": "13e497a5-cf78-4a9e-b4a1-cc68484bf0ee"
      },
      "source": [
        "func_model.layers"
      ],
      "execution_count": null,
      "outputs": [
        {
          "output_type": "execute_result",
          "data": {
            "text/plain": [
              "[<tensorflow.python.keras.engine.input_layer.InputLayer at 0x7f81d95a8748>,\n",
              " <tensorflow.python.keras.layers.core.Dense at 0x7f81d95a8898>]"
            ]
          },
          "metadata": {
            "tags": []
          },
          "execution_count": 53
        }
      ]
    },
    {
      "cell_type": "markdown",
      "metadata": {
        "id": "zZFXCa8LVJCO"
      },
      "source": [
        "### 하지만 시퀀셜 모델은 `layers` 속성에 `InputLayer` 클래스가 보이지 않습니다."
      ]
    },
    {
      "cell_type": "code",
      "metadata": {
        "id": "4ow6IZmzVMYk",
        "colab": {
          "base_uri": "https://localhost:8080/",
          "height": 34
        },
        "outputId": "5bae2fea-7a8e-4d41-ae9f-8e4ce0d78c92"
      },
      "source": [
        "seq_model.layers"
      ],
      "execution_count": null,
      "outputs": [
        {
          "output_type": "execute_result",
          "data": {
            "text/plain": [
              "[<tensorflow.python.keras.layers.core.Dense at 0x7f81d9ddea20>]"
            ]
          },
          "metadata": {
            "tags": []
          },
          "execution_count": 54
        }
      ]
    },
    {
      "cell_type": "markdown",
      "metadata": {
        "id": "NQTE7PNbWiJr"
      },
      "source": [
        "### 숨겨진 layer를 확인하려면  감춰진 `_layers` 속성으로 확인합니다. 여기에서 `InputLayer` 클래스를 확인할 수 있습니다."
      ]
    },
    {
      "cell_type": "code",
      "metadata": {
        "id": "ONaxDuTKWr8u",
        "colab": {
          "base_uri": "https://localhost:8080/",
          "height": 50
        },
        "outputId": "accd3ca1-f6e6-4482-e7b0-52621fa58a99"
      },
      "source": [
        "seq_model._layers  # sequencial 모델도 InputLayer가 있지만 숨겨져 있음... 확인해 볼려면!!!"
      ],
      "execution_count": null,
      "outputs": [
        {
          "output_type": "execute_result",
          "data": {
            "text/plain": [
              "[<tensorflow.python.keras.engine.input_layer.InputLayer at 0x7f81d9ddefd0>,\n",
              " <tensorflow.python.keras.layers.core.Dense at 0x7f81d9ddea20>]"
            ]
          },
          "metadata": {
            "tags": []
          },
          "execution_count": 55
        }
      ]
    },
    {
      "cell_type": "markdown",
      "metadata": {
        "id": "NAli3lAwXM6a"
      },
      "source": [
        "# InputLayer가 만들어지는 시점은.... 처음 Dense층을 만들때 매개변수로 넣은 input_shape값을 가지고 InputLayer 객체를 생성 해 준다!!"
      ]
    },
    {
      "cell_type": "markdown",
      "metadata": {
        "id": "kEWrex1CVSFp"
      },
      "source": [
        "################################\n",
        "\n",
        "### 또는 `_input_layers` 속성에서도 확인할 수 있습니다. :: seauencial모델과 funtion모델(함수형 API) 둘 다 InputLayer가 있음을 확인할 수 있다!!"
      ]
    },
    {
      "cell_type": "code",
      "metadata": {
        "id": "a_cQsCYKVbgg",
        "colab": {
          "base_uri": "https://localhost:8080/",
          "height": 50
        },
        "outputId": "ec36d5c5-40c9-4957-e3f6-14e18a209df2"
      },
      "source": [
        "seq_model._input_layers, func_model._input_layers"
      ],
      "execution_count": null,
      "outputs": [
        {
          "output_type": "execute_result",
          "data": {
            "text/plain": [
              "([<tensorflow.python.keras.engine.input_layer.InputLayer at 0x7f81d9ddefd0>],\n",
              " [<tensorflow.python.keras.engine.input_layer.InputLayer at 0x7f81d95a8748>])"
            ]
          },
          "metadata": {
            "tags": []
          },
          "execution_count": 56
        }
      ]
    },
    {
      "cell_type": "code",
      "metadata": {
        "id": "OiZ1wpwcVe_J",
        "colab": {
          "base_uri": "https://localhost:8080/",
          "height": 50
        },
        "outputId": "93c0fd39-7278-4071-d97e-98444049d5a6"
      },
      "source": [
        "seq_model._output_layers, func_model._output_layers"
      ],
      "execution_count": null,
      "outputs": [
        {
          "output_type": "execute_result",
          "data": {
            "text/plain": [
              "([<tensorflow.python.keras.layers.core.Dense at 0x7f81d9ddea20>],\n",
              " [<tensorflow.python.keras.layers.core.Dense at 0x7f81d95a8898>])"
            ]
          },
          "metadata": {
            "tags": []
          },
          "execution_count": 57
        }
      ]
    },
    {
      "cell_type": "markdown",
      "metadata": {
        "id": "hsPy_hrvVltT"
      },
      "source": [
        "### `Model` 클래스로 만든 `func_model`은 사실 `Functional` 클래스의 객체입니다. `Model` 클래스는 서브클래싱에 사용합니다."
      ]
    },
    {
      "cell_type": "code",
      "metadata": {
        "id": "x0GUWIy3Vqyx",
        "colab": {
          "base_uri": "https://localhost:8080/",
          "height": 34
        },
        "outputId": "3597a2b0-c2ee-49c4-dbaa-fe30d7f49936"
      },
      "source": [
        "func_model.__class__"
      ],
      "execution_count": null,
      "outputs": [
        {
          "output_type": "execute_result",
          "data": {
            "text/plain": [
              "tensorflow.python.keras.engine.functional.Functional"
            ]
          },
          "metadata": {
            "tags": []
          },
          "execution_count": 58
        }
      ]
    },
    {
      "cell_type": "markdown",
      "metadata": {
        "id": "QHfBGbbpVvLP"
      },
      "source": [
        "### 시퀀셜 모델은 함수형 모델의 특별한 경우입니다. (`Model` --> `Functional` --> `Sequential`)"
      ]
    },
    {
      "cell_type": "markdown",
      "metadata": {
        "id": "5gPhltFhVzDA"
      },
      "source": [
        "# 사용자 정의 층 만들기"
      ]
    },
    {
      "cell_type": "markdown",
      "metadata": {
        "id": "qbT2E5dHV07y"
      },
      "source": [
        "### `tf.layers.Layer` 클래스를 상속하고 `build()` 메서드에서 가중치를 만든다음 `call()` 메서드에서 연산을 구현합니다."
      ]
    },
    {
      "cell_type": "code",
      "metadata": {
        "id": "yidXEYzEV8zt"
      },
      "source": [
        "class MyDense(tf.keras.layers.Layer):\n",
        "    \n",
        "    def __init__(self, units, activation=None, **kwargs):\n",
        "        # units와 activation 매개변수 외에 나머지 변수를 부모 클래스의 생성자로 전달합니다.\n",
        "        super(MyDense, self).__init__(**kwargs)\n",
        "        self.units = units\n",
        "        # 문자열로 미리 정의된 활성화 함수를 선택합니다. e.g., 'softmax', 'relu'\n",
        "        self.activation = tf.keras.activations.get(activation)\n",
        "        \n",
        "    def build(self, input_shape):\n",
        "        # __call__() 메서드를 호출할 때 호출됩니다. 가중치 생성을 지연합니다.\n",
        "        # 가중치와 절편을 생성합니다.\n",
        "        self.kernel = self.add_weight(name='kernel', \n",
        "                                      shape=[input_shape[-1], self.units],\n",
        "                                      initializer='glorot_uniform'   # 케라스의 기본 초기화\n",
        "                                     )\n",
        "        self.bias = self.add_weight(name='bias',\n",
        "                                    shape=[self.units],\n",
        "                                    initializer='zeros')\n",
        "    \n",
        "    def call(self, inputs):  # training=None은 training은 배치 정규화나 드롭아웃 같은 경우 사용\n",
        "        # __call__() 메서드를 호출할 때 호출됩니다.\n",
        "        # 실제 연산을 수행합니다. [batch_size, units]\n",
        "        z = tf.matmul(inputs, self.kernel) + self.bias\n",
        "        if self.activation:\n",
        "            return self.activation(z)\n",
        "        return z"
      ],
      "execution_count": null,
      "outputs": []
    },
    {
      "cell_type": "code",
      "metadata": {
        "id": "Bsi5jDTFg6iE",
        "colab": {
          "base_uri": "https://localhost:8080/",
          "height": 218
        },
        "outputId": "ca0bc404-91b3-4c69-c12f-d57d2989b897"
      },
      "source": [
        "inputs = tf.keras.layers.Input(784)\n",
        "\n",
        "# Layer.__call__() --> MyDense().build() --> Layer.build() --> MyDense().call()\n",
        "\n",
        "outputs = MyDense(units=10, activation='softmax')(inputs)\n",
        "\n",
        "my_dense_model = tf.keras.Model(inputs, outputs)\n",
        "\n",
        "my_dense_model.summary()\n"
      ],
      "execution_count": null,
      "outputs": [
        {
          "output_type": "stream",
          "text": [
            "Model: \"functional_13\"\n",
            "_________________________________________________________________\n",
            "Layer (type)                 Output Shape              Param #   \n",
            "=================================================================\n",
            "input_14 (InputLayer)        [(None, 784)]             0         \n",
            "_________________________________________________________________\n",
            "my_dense_7 (MyDense)         (None, 10)                7850      \n",
            "=================================================================\n",
            "Total params: 7,850\n",
            "Trainable params: 7,850\n",
            "Non-trainable params: 0\n",
            "_________________________________________________________________\n"
          ],
          "name": "stdout"
        }
      ]
    },
    {
      "cell_type": "code",
      "metadata": {
        "id": "xPkqVAClia-L",
        "colab": {
          "base_uri": "https://localhost:8080/",
          "height": 101
        },
        "outputId": "5eaad210-26b3-42fa-c1ec-71cef27e7764"
      },
      "source": [
        "my_dense_model.compile(loss='sparse_categorical_crossentropy', \n",
        "                       metrics=['accuracy'])\n",
        "my_dense_model.fit(X_train, y_train, batch_size=32, epochs=2)"
      ],
      "execution_count": null,
      "outputs": [
        {
          "output_type": "stream",
          "text": [
            "Epoch 1/2\n",
            "1875/1875 [==============================] - 3s 2ms/step - loss: 0.4395 - accuracy: 0.8823\n",
            "Epoch 2/2\n",
            "1875/1875 [==============================] - 3s 2ms/step - loss: 0.3024 - accuracy: 0.9163\n"
          ],
          "name": "stdout"
        },
        {
          "output_type": "execute_result",
          "data": {
            "text/plain": [
              "<tensorflow.python.keras.callbacks.History at 0x7f81d7b13668>"
            ]
          },
          "metadata": {
            "tags": []
          },
          "execution_count": 64
        }
      ]
    },
    {
      "cell_type": "markdown",
      "metadata": {
        "id": "BRP9PWONieEx"
      },
      "source": [
        "# 사용자 정의 모델 만들기"
      ]
    },
    {
      "cell_type": "code",
      "metadata": {
        "id": "Pctx3v9FifXn"
      },
      "source": [
        "# fit(), compile(), predict(), evaluate() 등의 메서드 제공\n",
        "class MyModel(tf.keras.Model):\n",
        "    \n",
        "    def __init__(self):\n",
        "        super(MyModel, self).__init__()\n",
        "        self.output_layer = MyDense(units=10, activation='softmax')\n",
        "    \n",
        "    def call(self, inputs):\n",
        "        return self.output_layer(inputs)"
      ],
      "execution_count": null,
      "outputs": []
    },
    {
      "cell_type": "code",
      "metadata": {
        "id": "nRLQrYYeii3-",
        "colab": {
          "base_uri": "https://localhost:8080/",
          "height": 101
        },
        "outputId": "b62bd119-65c4-4540-f89d-69eaf0bfd023"
      },
      "source": [
        "my_model = MyModel()\n",
        "\n",
        "my_model.compile(loss='sparse_categorical_crossentropy', \n",
        "                       metrics=['accuracy'])\n",
        "my_model.fit(X_train, y_train, batch_size=32, epochs=2)"
      ],
      "execution_count": null,
      "outputs": [
        {
          "output_type": "stream",
          "text": [
            "Epoch 1/2\n",
            "1875/1875 [==============================] - 3s 2ms/step - loss: 0.4419 - accuracy: 0.8808\n",
            "Epoch 2/2\n",
            "1875/1875 [==============================] - 3s 2ms/step - loss: 0.3029 - accuracy: 0.9161\n"
          ],
          "name": "stdout"
        },
        {
          "output_type": "execute_result",
          "data": {
            "text/plain": [
              "<tensorflow.python.keras.callbacks.History at 0x7f81d7a62ba8>"
            ]
          },
          "metadata": {
            "tags": []
          },
          "execution_count": 66
        }
      ]
    },
    {
      "cell_type": "markdown",
      "metadata": {
        "id": "ijCAM_0iilyQ"
      },
      "source": [
        "# 사용자 정의 훈련"
      ]
    },
    {
      "cell_type": "code",
      "metadata": {
        "id": "eLXGFBF7iocE"
      },
      "source": [
        "class MyCustomStep(MyModel):\n",
        "    \n",
        "    def train_step(self, data):\n",
        "        # fit()에서 전달된 데이터\n",
        "        x, y = data\n",
        "\n",
        "        # 그레이디언트 기록 시작\n",
        "        with tf.GradientTape() as tape:\n",
        "            # 정방향 계산\n",
        "            y_pred = self(x)\n",
        "            # compile() 메서드에서 지정한 손실 계산\n",
        "            loss = self.compiled_loss(y, y_pred)\n",
        "\n",
        "        # 훈련가능한 파라미터에 대한 그레이디언트 계산\n",
        "        gradients = tape.gradient(loss, self.trainable_variables)\n",
        "        # 파라미터 업데이트\n",
        "        self.optimizer.apply_gradients(zip(gradients, self.trainable_variables))\n",
        "        # compile() 메서드에서 지정한 지표 계산\n",
        "        self.compiled_metrics.update_state(y, y_pred)\n",
        "        \n",
        "        # 현재까지 지표와 결괏값을 딕셔너리로 반환\n",
        "        return {m.name: m.result() for m in self.metrics}"
      ],
      "execution_count": null,
      "outputs": []
    },
    {
      "cell_type": "code",
      "metadata": {
        "id": "zidor83FiqyZ",
        "colab": {
          "base_uri": "https://localhost:8080/",
          "height": 101
        },
        "outputId": "908c2850-999c-4572-a161-4738f158a9cd"
      },
      "source": [
        "my_custom_step = MyCustomStep()\n",
        "\n",
        "my_custom_step.compile(loss='sparse_categorical_crossentropy', \n",
        "                       metrics=['accuracy'])\n",
        "my_custom_step.fit(X_train, y_train, batch_size=32, epochs=2)"
      ],
      "execution_count": null,
      "outputs": [
        {
          "output_type": "stream",
          "text": [
            "Epoch 1/2\n",
            "1875/1875 [==============================] - 3s 2ms/step - loss: 0.4378 - accuracy: 0.8832\n",
            "Epoch 2/2\n",
            "1875/1875 [==============================] - 3s 2ms/step - loss: 0.3031 - accuracy: 0.9161\n"
          ],
          "name": "stdout"
        },
        {
          "output_type": "execute_result",
          "data": {
            "text/plain": [
              "<tensorflow.python.keras.callbacks.History at 0x7f81d6991b00>"
            ]
          },
          "metadata": {
            "tags": []
          },
          "execution_count": 68
        }
      ]
    }
  ]
}